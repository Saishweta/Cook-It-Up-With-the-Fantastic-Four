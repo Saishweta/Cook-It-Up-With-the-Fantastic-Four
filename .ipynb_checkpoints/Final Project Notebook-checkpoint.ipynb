{
 "cells": [
  {
   "cell_type": "markdown",
   "metadata": {},
   "source": [
    "##Decision Tree Classifier - Optimized"
   ]
  },
  {
   "cell_type": "code",
   "execution_count": null,
   "metadata": {
    "collapsed": true
   },
   "outputs": [],
   "source": [
    "import pandas as pd\n",
    "import numpy as np"
   ]
  },
  {
   "cell_type": "markdown",
   "metadata": {},
   "source": [
    "## Download the Data:"
   ]
  },
  {
   "cell_type": "code",
   "execution_count": 53,
   "metadata": {
    "collapsed": false
   },
   "outputs": [
    {
     "data": {
      "text/html": [
       "<div>\n",
       "<table border=\"1\" class=\"dataframe\">\n",
       "  <thead>\n",
       "    <tr style=\"text-align: right;\">\n",
       "      <th></th>\n",
       "      <th>cuisine</th>\n",
       "      <th>id</th>\n",
       "      <th>ingredients</th>\n",
       "    </tr>\n",
       "  </thead>\n",
       "  <tbody>\n",
       "    <tr>\n",
       "      <th>0</th>\n",
       "      <td>greek</td>\n",
       "      <td>10259</td>\n",
       "      <td>[romaine lettuce, black olives, grape tomatoes...</td>\n",
       "    </tr>\n",
       "    <tr>\n",
       "      <th>1</th>\n",
       "      <td>southern_us</td>\n",
       "      <td>25693</td>\n",
       "      <td>[plain flour, ground pepper, salt, tomatoes, g...</td>\n",
       "    </tr>\n",
       "    <tr>\n",
       "      <th>2</th>\n",
       "      <td>filipino</td>\n",
       "      <td>20130</td>\n",
       "      <td>[eggs, pepper, salt, mayonaise, cooking oil, g...</td>\n",
       "    </tr>\n",
       "    <tr>\n",
       "      <th>3</th>\n",
       "      <td>indian</td>\n",
       "      <td>22213</td>\n",
       "      <td>[water, vegetable oil, wheat, salt]</td>\n",
       "    </tr>\n",
       "    <tr>\n",
       "      <th>4</th>\n",
       "      <td>indian</td>\n",
       "      <td>13162</td>\n",
       "      <td>[black pepper, shallots, cornflour, cayenne pe...</td>\n",
       "    </tr>\n",
       "  </tbody>\n",
       "</table>\n",
       "</div>"
      ],
      "text/plain": [
       "       cuisine     id                                        ingredients\n",
       "0        greek  10259  [romaine lettuce, black olives, grape tomatoes...\n",
       "1  southern_us  25693  [plain flour, ground pepper, salt, tomatoes, g...\n",
       "2     filipino  20130  [eggs, pepper, salt, mayonaise, cooking oil, g...\n",
       "3       indian  22213                [water, vegetable oil, wheat, salt]\n",
       "4       indian  13162  [black pepper, shallots, cornflour, cayenne pe..."
      ]
     },
     "execution_count": 53,
     "metadata": {},
     "output_type": "execute_result"
    }
   ],
   "source": [
    "full_df = pd.read_json(\"train.json\")\n",
    "full_df.head()"
   ]
  },
  {
   "cell_type": "code",
   "execution_count": null,
   "metadata": {
    "collapsed": false
   },
   "outputs": [],
   "source": [
    "test_df = pd.read_json(\"test.json\")\n",
    "test_df.head()"
   ]
  },
  {
   "cell_type": "markdown",
   "metadata": {},
   "source": [
    "### Validation: Holdout Method"
   ]
  },
  {
   "cell_type": "markdown",
   "metadata": {},
   "source": [
    "In a supervised learning problem one wants to determine how good the trained model is. Before the model is trained, the data is split into a training data set and a test data set. The training data set is used to train the model. The test data set is kept apart and used to determine how good the model is."
   ]
  },
  {
   "cell_type": "code",
   "execution_count": 55,
   "metadata": {
    "collapsed": true
   },
   "outputs": [],
   "source": [
    "#This function returns a list of 100 id's for each cusine from input dataframe.\n",
    "def build_df(indf):\n",
    "    \n",
    "    validdf_ids=[]\n",
    "    random_ids=[]\n",
    "    \n",
    "    for k, v in indf.groupby('cuisine'):\n",
    "        l=[]\n",
    "        l.append([e for e in v.id])\n",
    "        for i in xrange(len(l)):\n",
    "            random_ids.append(np.random.choice(l[i], size=100, replace=False))\n",
    "    \n",
    "    validdf_ids = [item for sublist in random_ids for item in sublist]\n",
    "    \n",
    "    return validdf_ids"
   ]
  },
  {
   "cell_type": "code",
   "execution_count": 56,
   "metadata": {
    "collapsed": true
   },
   "outputs": [],
   "source": [
    "validation_df=full_df[full_df.id.isin(build_df(full_df))].reset_index()\n",
    "train_df=full_df[~full_df.id.isin(build_df(full_df))].reset_index()"
   ]
  },
  {
   "cell_type": "code",
   "execution_count": 57,
   "metadata": {
    "collapsed": false
   },
   "outputs": [
    {
     "name": "stdout",
     "output_type": "stream",
     "text": [
      "Full Dataframe\n",
      "cuisine        39774\n",
      "id             39774\n",
      "ingredients    39774\n",
      "dtype: int64\n",
      "\n",
      "Validation Dataframe\n",
      "index          2000\n",
      "cuisine        2000\n",
      "id             2000\n",
      "ingredients    2000\n",
      "dtype: int64\n",
      "\n",
      "Training Dataframe\n",
      "index          37774\n",
      "cuisine        37774\n",
      "id             37774\n",
      "ingredients    37774\n",
      "dtype: int64\n"
     ]
    }
   ],
   "source": [
    "print \"Full Dataframe\"\n",
    "print full_df.count()\n",
    "print\n",
    "print \"Validation Dataframe\"\n",
    "print validation_df.count()\n",
    "print\n",
    "print \"Training Dataframe\"\n",
    "print train_df.count()"
   ]
  },
  {
   "cell_type": "markdown",
   "metadata": {},
   "source": [
    "### Ingredients Map"
   ]
  },
  {
   "cell_type": "code",
   "execution_count": 58,
   "metadata": {
    "collapsed": true
   },
   "outputs": [],
   "source": [
    "#list of all possible ingredients\n",
    "\n",
    "ingredients_all=[]\n",
    "\n",
    "for i in full_df['ingredients']:\n",
    "    for j in xrange(len(i)):\n",
    "        ingredients_all.append(i[j])\n",
    "        \n",
    "for i in test_df['ingredients']:\n",
    "    for j in xrange(len(i)):\n",
    "        ingredients_all.append(i[j])\n",
    "\n",
    "features=np.unique(ingredients_all) #create a feature list of unique ingrediants.\n",
    "\n",
    "ingredients_map={v:k for k,v in enumerate(np.unique(ingredients_all).tolist())} #assign key to each ingredient"
   ]
  },
  {
   "cell_type": "markdown",
   "metadata": {},
   "source": [
    "### Term-Document Matrix"
   ]
  },
  {
   "cell_type": "code",
   "execution_count": 59,
   "metadata": {
    "collapsed": true
   },
   "outputs": [],
   "source": [
    "def build_designmatrix(indf):\n",
    "    \n",
    "    designmatrix=np.zeros((len(indf), len(features))) \n",
    "    all_ids = indf['id'] #list of all id's from input set.\n",
    "    \n",
    "    #build design matrix\n",
    "    for i in xrange(len(indf)):\n",
    "        for j in indf['ingredients'][indf['id']==all_ids[i]]:\n",
    "                for k in xrange(len(j)):\n",
    "                        designmatrix[i, ingredients_map[j[k]]] = 1\n",
    "                        \n",
    "    return designmatrix"
   ]
  },
  {
   "cell_type": "code",
   "execution_count": 60,
   "metadata": {
    "collapsed": false
   },
   "outputs": [
    {
     "name": "stdout",
     "output_type": "stream",
     "text": [
      "CPU times: user 5min 28s, sys: 3.11 s, total: 5min 31s\n",
      "Wall time: 5min 33s\n"
     ]
    }
   ],
   "source": [
    "%%time\n",
    "from sklearn import tree\n",
    "\n",
    "clf = tree.DecisionTreeClassifier()\n",
    "clf = clf.fit(build_designmatrix(train_df), train_df['cuisine'])\n",
    "clf_predict=clf.predict(build_designmatrix(validation_df))"
   ]
  },
  {
   "cell_type": "code",
   "execution_count": 61,
   "metadata": {
    "collapsed": false
   },
   "outputs": [
    {
     "name": "stdout",
     "output_type": "stream",
     "text": [
      "Accuracy score for DecisionTreeClassifier\n",
      "0.943\n"
     ]
    }
   ],
   "source": [
    "from sklearn.metrics import accuracy_score\n",
    "print \"Accuracy score for DecisionTreeClassifier\" \n",
    "print accuracy_score(np.array(validation_df['cuisine']),clf_predict)"
   ]
  },
  {
   "cell_type": "code",
   "execution_count": 67,
   "metadata": {
    "collapsed": false
   },
   "outputs": [
    {
     "name": "stdout",
     "output_type": "stream",
     "text": [
      "         id                                        ingredients       cuisine  \\\n",
      "0     18009  [baking powder, eggs, all-purpose flour, raisi...        french   \n",
      "1     28583  [sugar, egg yolks, corn starch, cream of tarta...   southern_us   \n",
      "2     41580  [sausage links, fennel bulb, fronds, olive oil...       spanish   \n",
      "3     29752  [meat cuts, file powder, smoked sausage, okra,...  cajun_creole   \n",
      "4     35687  [ground black pepper, salt, sausage casings, l...       italian   \n",
      "5     38527  [baking powder, all-purpose flour, peach slice...        french   \n",
      "6     19666             [grape juice, orange, white zinfandel]       italian   \n",
      "7     41217  [ground ginger, white pepper, green onions, or...       chinese   \n",
      "8     28753  [diced onions, taco seasoning mix, all-purpose...       mexican   \n",
      "9     22659  [eggs, cherries, dates, dark muscovado sugar, ...       british   \n",
      "10    21749  [pasta, olive oil, crushed red pepper, cherry ...       italian   \n",
      "11    44967  [water, butter, ground sumac, ground lamb, gro...         greek   \n",
      "12    42969  [curry powder, ground cumin, chicken wings, ch...        indian   \n",
      "13    44883  [pasta, marinara sauce, dried basil, chicken f...       italian   \n",
      "14    20827  [salt, custard powder, white sugar, eggs, marg...       italian   \n",
      "15    23196  [vegetable oil cooking spray, egg whites, apri...       mexican   \n",
      "16    35387  [vanilla ice cream, banana liqueur, bananas, p...   southern_us   \n",
      "17    33780  [molasses, hot sauce, baked beans, Grey Poupon...   southern_us   \n",
      "18    19001  [chopped green chilies, sour cream, cheddar ch...  cajun_creole   \n",
      "19    16526  [cold water, chicken drumsticks, chicken thigh...   southern_us   \n",
      "20    42455  [bean threads, suet, fresh shiitake mushrooms,...      japanese   \n",
      "21    47453  [water, ground turmeric, salt, long-grain rice...       mexican   \n",
      "22    42478  [kosher salt, bay leaves, brown lentils, parsn...       spanish   \n",
      "23    11885  [kosher salt, vegetable oil, shrimp, herbs, nu...        indian   \n",
      "24    16585  [arborio rice, olive oil, dry white wine, salt...       italian   \n",
      "25    29639  [granny smith apples, bay leaves, apple cider,...   southern_us   \n",
      "26    26245  [fish sauce, jalapeno chilies, scallions, lemo...       chinese   \n",
      "27    38516  [chicken wings, baking soda, rice vinegar, gar...        korean   \n",
      "28    47520  [parmigiano reggiano cheese, figs, cracked bla...       italian   \n",
      "29    26212  [cheese sauce, macaroni and cheese dinner, shr...       italian   \n",
      "...     ...                                                ...           ...   \n",
      "9914  49157  [fish sauce, lemongrass, ginger, garlic cloves...    vietnamese   \n",
      "9915  40847  [kosher salt, shallots, ground black pepper, f...       italian   \n",
      "9916  14084  [celery ribs, lemon slices, fresh parsley, lar...      japanese   \n",
      "9917   6802  [zucchini, ground beef, water, green pepper, p...       mexican   \n",
      "9918  22381  [fine salt, canola oil, unsalted butter, bakin...   southern_us   \n",
      "9919  21016         [sugar, ice, sugar cane, gingerroot, lime]       mexican   \n",
      "9920  29024  [manicotti shells, egg substitute, salt, itali...       italian   \n",
      "9921   4478  [mushroom caps, dipping sauces, red bell peppe...          thai   \n",
      "9922  36711  [red lentils, crushed garlic, curry powder, cu...        indian   \n",
      "9923   8300  [water, cooking spray, onions, dough, dried th...       italian   \n",
      "9924  47035  [chicken broth, salt, diced celery, diced onio...   southern_us   \n",
      "9925  15596  [raspberry jam, unsalted butter, caster sugar,...   southern_us   \n",
      "9926  19902  [kosher salt, worcestershire sauce, slab bacon...  cajun_creole   \n",
      "9927  31242  [evaporated milk, salt, white sugar, flaked co...   southern_us   \n",
      "9928  21117  [curry powder, baby spinach, fenugreek seeds, ...        indian   \n",
      "9929  15234  [tomatoes, black pepper, ground nutmeg, heavy ...        indian   \n",
      "9930  24993  [minced chicken, olive oil, carrots, sweet chi...       chinese   \n",
      "9931  31007  [tomatoes, paprika, long-grain rice, chicken, ...       mexican   \n",
      "9932  31687  [canned black beans, corn kernels, low sodium ...       mexican   \n",
      "9933  13657  [avocado, salsa, hot pepper sauce, garlic powd...       mexican   \n",
      "9934  36612  [yellow squash, salt, mayonaise, butter, butte...        french   \n",
      "9935  14008  [chicken wings, peeled fresh ginger, soy sauce...       chinese   \n",
      "9936  32124  [sugar, salt, large egg yolks, apricot preserv...        french   \n",
      "9937  43570  [eggs, green onions, rice vinegar, shrimp smal...    vietnamese   \n",
      "9938  14059  [cauliflower, garlic paste, curry powder, gree...        indian   \n",
      "9939  30246  [large egg yolks, fresh lemon juice, sugar, bo...        french   \n",
      "9940  36028  [hot sauce, butter, sweet potatoes, adobo sauc...       mexican   \n",
      "9941  22339  [black pepper, salt, parmigiano reggiano chees...        french   \n",
      "9942  42525  [cheddar cheese, cayenne, paprika, plum tomato...   southern_us   \n",
      "9943   1443  [cold water, olive oil, lime wedges, garlic cl...       mexican   \n",
      "\n",
      "     Prediction DT  \n",
      "0            greek  \n",
      "1          mexican  \n",
      "2          chinese  \n",
      "3     cajun_creole  \n",
      "4     cajun_creole  \n",
      "5         filipino  \n",
      "6      southern_us  \n",
      "7         japanese  \n",
      "8           french  \n",
      "9     cajun_creole  \n",
      "10           irish  \n",
      "11          indian  \n",
      "12          korean  \n",
      "13         british  \n",
      "14           irish  \n",
      "15     southern_us  \n",
      "16         mexican  \n",
      "17          korean  \n",
      "18         british  \n",
      "19    cajun_creole  \n",
      "20        filipino  \n",
      "21     southern_us  \n",
      "22          french  \n",
      "23      vietnamese  \n",
      "24         chinese  \n",
      "25           irish  \n",
      "26        japanese  \n",
      "27           greek  \n",
      "28    cajun_creole  \n",
      "29          korean  \n",
      "...            ...  \n",
      "9914           NaN  \n",
      "9915           NaN  \n",
      "9916           NaN  \n",
      "9917           NaN  \n",
      "9918           NaN  \n",
      "9919           NaN  \n",
      "9920           NaN  \n",
      "9921           NaN  \n",
      "9922           NaN  \n",
      "9923           NaN  \n",
      "9924           NaN  \n",
      "9925           NaN  \n",
      "9926           NaN  \n",
      "9927           NaN  \n",
      "9928           NaN  \n",
      "9929           NaN  \n",
      "9930           NaN  \n",
      "9931           NaN  \n",
      "9932           NaN  \n",
      "9933           NaN  \n",
      "9934           NaN  \n",
      "9935           NaN  \n",
      "9936           NaN  \n",
      "9937           NaN  \n",
      "9938           NaN  \n",
      "9939           NaN  \n",
      "9940           NaN  \n",
      "9941           NaN  \n",
      "9942           NaN  \n",
      "9943           NaN  \n",
      "\n",
      "[9944 rows x 4 columns]\n"
     ]
    }
   ],
   "source": [
    "predictions_as_dataframe = test_df.join(pd.DataFrame({\"Prediction DT\": clf_predict}))\n",
    "print predictions_as_dataframe"
   ]
  },
  {
   "cell_type": "code",
   "execution_count": null,
   "metadata": {
    "collapsed": true
   },
   "outputs": [],
   "source": []
  },
  {
   "cell_type": "code",
   "execution_count": 64,
   "metadata": {
    "collapsed": true
   },
   "outputs": [],
   "source": [
    "#Predict on test set and write the result out.\n",
    "final_result=clf.predict(build_designmatrix(test_df))\n",
    "test_df['cuisine']=final_result\n",
    "test_df.to_csv(\"testsubmission.csv\")"
   ]
  },
  {
   "cell_type": "code",
   "execution_count": 35,
   "metadata": {
    "collapsed": false
   },
   "outputs": [
    {
     "ename": "IndexError",
     "evalue": "index 28 is out of bounds for axis 0 with size 20",
     "output_type": "error",
     "traceback": [
      "\u001b[0;31m---------------------------------------------------------------------------\u001b[0m",
      "\u001b[0;31mIndexError\u001b[0m                                Traceback (most recent call last)",
      "\u001b[0;32m<ipython-input-35-d8724653a8e7>\u001b[0m in \u001b[0;36m<module>\u001b[0;34m()\u001b[0m\n\u001b[0;32m----> 1\u001b[0;31m \u001b[0mget_ipython\u001b[0m\u001b[0;34m(\u001b[0m\u001b[0;34m)\u001b[0m\u001b[0;34m.\u001b[0m\u001b[0mrun_cell_magic\u001b[0m\u001b[0;34m(\u001b[0m\u001b[0;34mu'time'\u001b[0m\u001b[0;34m,\u001b[0m \u001b[0;34mu''\u001b[0m\u001b[0;34m,\u001b[0m \u001b[0;34mu\"from sklearn import preprocessing\\nfrom sklearn.linear_model import Ridge\\nest = Ridge(alpha=10)\\n\\nlabels = train_df['cuisine']\\nle = preprocessing.LabelEncoder()\\nlabels_fea = le.fit_transform(labels)\\nest_fit=est.fit(build_designmatrix(train_df), labels_fea)\\nest_predict=est_fit.predict(build_designmatrix(test_df))\\nlabels_converted = le.inverse_transform(est_predict.astype('I'))\\n\"\u001b[0m\u001b[0;34m)\u001b[0m\u001b[0;34m\u001b[0m\u001b[0m\n\u001b[0m",
      "\u001b[0;32m/Users/angelhenderson/anaconda/lib/python2.7/site-packages/IPython/core/interactiveshell.pyc\u001b[0m in \u001b[0;36mrun_cell_magic\u001b[0;34m(self, magic_name, line, cell)\u001b[0m\n\u001b[1;32m   2291\u001b[0m             \u001b[0mmagic_arg_s\u001b[0m \u001b[0;34m=\u001b[0m \u001b[0mself\u001b[0m\u001b[0;34m.\u001b[0m\u001b[0mvar_expand\u001b[0m\u001b[0;34m(\u001b[0m\u001b[0mline\u001b[0m\u001b[0;34m,\u001b[0m \u001b[0mstack_depth\u001b[0m\u001b[0;34m)\u001b[0m\u001b[0;34m\u001b[0m\u001b[0m\n\u001b[1;32m   2292\u001b[0m             \u001b[0;32mwith\u001b[0m \u001b[0mself\u001b[0m\u001b[0;34m.\u001b[0m\u001b[0mbuiltin_trap\u001b[0m\u001b[0;34m:\u001b[0m\u001b[0;34m\u001b[0m\u001b[0m\n\u001b[0;32m-> 2293\u001b[0;31m                 \u001b[0mresult\u001b[0m \u001b[0;34m=\u001b[0m \u001b[0mfn\u001b[0m\u001b[0;34m(\u001b[0m\u001b[0mmagic_arg_s\u001b[0m\u001b[0;34m,\u001b[0m \u001b[0mcell\u001b[0m\u001b[0;34m)\u001b[0m\u001b[0;34m\u001b[0m\u001b[0m\n\u001b[0m\u001b[1;32m   2294\u001b[0m             \u001b[0;32mreturn\u001b[0m \u001b[0mresult\u001b[0m\u001b[0;34m\u001b[0m\u001b[0m\n\u001b[1;32m   2295\u001b[0m \u001b[0;34m\u001b[0m\u001b[0m\n",
      "\u001b[0;32m/Users/angelhenderson/anaconda/lib/python2.7/site-packages/IPython/core/magics/execution.pyc\u001b[0m in \u001b[0;36mtime\u001b[0;34m(self, line, cell, local_ns)\u001b[0m\n",
      "\u001b[0;32m/Users/angelhenderson/anaconda/lib/python2.7/site-packages/IPython/core/magic.pyc\u001b[0m in \u001b[0;36m<lambda>\u001b[0;34m(f, *a, **k)\u001b[0m\n\u001b[1;32m    191\u001b[0m     \u001b[0;31m# but it's overkill for just that one bit of state.\u001b[0m\u001b[0;34m\u001b[0m\u001b[0;34m\u001b[0m\u001b[0m\n\u001b[1;32m    192\u001b[0m     \u001b[0;32mdef\u001b[0m \u001b[0mmagic_deco\u001b[0m\u001b[0;34m(\u001b[0m\u001b[0marg\u001b[0m\u001b[0;34m)\u001b[0m\u001b[0;34m:\u001b[0m\u001b[0;34m\u001b[0m\u001b[0m\n\u001b[0;32m--> 193\u001b[0;31m         \u001b[0mcall\u001b[0m \u001b[0;34m=\u001b[0m \u001b[0;32mlambda\u001b[0m \u001b[0mf\u001b[0m\u001b[0;34m,\u001b[0m \u001b[0;34m*\u001b[0m\u001b[0ma\u001b[0m\u001b[0;34m,\u001b[0m \u001b[0;34m**\u001b[0m\u001b[0mk\u001b[0m\u001b[0;34m:\u001b[0m \u001b[0mf\u001b[0m\u001b[0;34m(\u001b[0m\u001b[0;34m*\u001b[0m\u001b[0ma\u001b[0m\u001b[0;34m,\u001b[0m \u001b[0;34m**\u001b[0m\u001b[0mk\u001b[0m\u001b[0;34m)\u001b[0m\u001b[0;34m\u001b[0m\u001b[0m\n\u001b[0m\u001b[1;32m    194\u001b[0m \u001b[0;34m\u001b[0m\u001b[0m\n\u001b[1;32m    195\u001b[0m         \u001b[0;32mif\u001b[0m \u001b[0mcallable\u001b[0m\u001b[0;34m(\u001b[0m\u001b[0marg\u001b[0m\u001b[0;34m)\u001b[0m\u001b[0;34m:\u001b[0m\u001b[0;34m\u001b[0m\u001b[0m\n",
      "\u001b[0;32m/Users/angelhenderson/anaconda/lib/python2.7/site-packages/IPython/core/magics/execution.pyc\u001b[0m in \u001b[0;36mtime\u001b[0;34m(self, line, cell, local_ns)\u001b[0m\n\u001b[1;32m   1165\u001b[0m         \u001b[0;32melse\u001b[0m\u001b[0;34m:\u001b[0m\u001b[0;34m\u001b[0m\u001b[0m\n\u001b[1;32m   1166\u001b[0m             \u001b[0mst\u001b[0m \u001b[0;34m=\u001b[0m \u001b[0mclock2\u001b[0m\u001b[0;34m(\u001b[0m\u001b[0;34m)\u001b[0m\u001b[0;34m\u001b[0m\u001b[0m\n\u001b[0;32m-> 1167\u001b[0;31m             \u001b[0;32mexec\u001b[0m\u001b[0;34m(\u001b[0m\u001b[0mcode\u001b[0m\u001b[0;34m,\u001b[0m \u001b[0mglob\u001b[0m\u001b[0;34m,\u001b[0m \u001b[0mlocal_ns\u001b[0m\u001b[0;34m)\u001b[0m\u001b[0;34m\u001b[0m\u001b[0m\n\u001b[0m\u001b[1;32m   1168\u001b[0m             \u001b[0mend\u001b[0m \u001b[0;34m=\u001b[0m \u001b[0mclock2\u001b[0m\u001b[0;34m(\u001b[0m\u001b[0;34m)\u001b[0m\u001b[0;34m\u001b[0m\u001b[0m\n\u001b[1;32m   1169\u001b[0m             \u001b[0mout\u001b[0m \u001b[0;34m=\u001b[0m \u001b[0mNone\u001b[0m\u001b[0;34m\u001b[0m\u001b[0m\n",
      "\u001b[0;32m<timed exec>\u001b[0m in \u001b[0;36m<module>\u001b[0;34m()\u001b[0m\n",
      "\u001b[0;32m/Users/angelhenderson/anaconda/lib/python2.7/site-packages/sklearn/preprocessing/label.pyc\u001b[0m in \u001b[0;36minverse_transform\u001b[0;34m(self, y)\u001b[0m\n\u001b[1;32m    166\u001b[0m \u001b[0;34m\u001b[0m\u001b[0m\n\u001b[1;32m    167\u001b[0m         \u001b[0my\u001b[0m \u001b[0;34m=\u001b[0m \u001b[0mnp\u001b[0m\u001b[0;34m.\u001b[0m\u001b[0masarray\u001b[0m\u001b[0;34m(\u001b[0m\u001b[0my\u001b[0m\u001b[0;34m)\u001b[0m\u001b[0;34m\u001b[0m\u001b[0m\n\u001b[0;32m--> 168\u001b[0;31m         \u001b[0;32mreturn\u001b[0m \u001b[0mself\u001b[0m\u001b[0;34m.\u001b[0m\u001b[0mclasses_\u001b[0m\u001b[0;34m[\u001b[0m\u001b[0my\u001b[0m\u001b[0;34m]\u001b[0m\u001b[0;34m\u001b[0m\u001b[0m\n\u001b[0m\u001b[1;32m    169\u001b[0m \u001b[0;34m\u001b[0m\u001b[0m\n\u001b[1;32m    170\u001b[0m \u001b[0;34m\u001b[0m\u001b[0m\n",
      "\u001b[0;31mIndexError\u001b[0m: index 28 is out of bounds for axis 0 with size 20"
     ]
    }
   ],
   "source": [
    "%%time\n",
    "from sklearn import preprocessing\n",
    "from sklearn.linear_model import Ridge\n",
    "est = Ridge(alpha=10)\n",
    "\n",
    "labels = train_df['cuisine']\n",
    "le = preprocessing.LabelEncoder()\n",
    "labels_fea = le.fit_transform(labels)\n",
    "est_fit=est.fit(build_designmatrix(train_df), labels_fea)\n",
    "est_predict=est_fit.predict(build_designmatrix(test_df))\n",
    "labels_converted = le.inverse_transform(est_predict.astype('I'))\n",
    "\n"
   ]
  },
  {
   "cell_type": "code",
   "execution_count": 32,
   "metadata": {
    "collapsed": false
   },
   "outputs": [
    {
     "ename": "ValueError",
     "evalue": "LabelEncoder was not fitted yet.",
     "output_type": "error",
     "traceback": [
      "\u001b[0;31m---------------------------------------------------------------------------\u001b[0m",
      "\u001b[0;31mValueError\u001b[0m                                Traceback (most recent call last)",
      "\u001b[0;32m<ipython-input-32-4858e1f0d366>\u001b[0m in \u001b[0;36m<module>\u001b[0;34m()\u001b[0m\n\u001b[0;32m----> 1\u001b[0;31m \u001b[0mlabels_converted\u001b[0m \u001b[0;34m=\u001b[0m \u001b[0mle\u001b[0m\u001b[0;34m.\u001b[0m\u001b[0minverse_transform\u001b[0m\u001b[0;34m(\u001b[0m\u001b[0mest_predict\u001b[0m\u001b[0;34m.\u001b[0m\u001b[0mastype\u001b[0m\u001b[0;34m(\u001b[0m\u001b[0;34m'I'\u001b[0m\u001b[0;34m)\u001b[0m\u001b[0;34m)\u001b[0m\u001b[0;34m\u001b[0m\u001b[0m\n\u001b[0m\u001b[1;32m      2\u001b[0m \u001b[0;32mprint\u001b[0m \u001b[0mlabels_converted\u001b[0m\u001b[0;34m\u001b[0m\u001b[0m\n\u001b[1;32m      3\u001b[0m \u001b[0mpredictions_as_dataframe\u001b[0m \u001b[0;34m=\u001b[0m \u001b[0mtest_df\u001b[0m\u001b[0;34m.\u001b[0m\u001b[0mjoin\u001b[0m\u001b[0;34m(\u001b[0m\u001b[0mpd\u001b[0m\u001b[0;34m.\u001b[0m\u001b[0mDataFrame\u001b[0m\u001b[0;34m(\u001b[0m\u001b[0;34m{\u001b[0m\u001b[0;34m\"Prediction R\"\u001b[0m\u001b[0;34m:\u001b[0m \u001b[0mlabels_converted\u001b[0m\u001b[0;34m}\u001b[0m\u001b[0;34m)\u001b[0m\u001b[0;34m)\u001b[0m\u001b[0;34m\u001b[0m\u001b[0m\n\u001b[1;32m      4\u001b[0m \u001b[0;32mprint\u001b[0m \u001b[0mpredictions_as_dataframe\u001b[0m\u001b[0;34m\u001b[0m\u001b[0m\n",
      "\u001b[0;32m/Users/angelhenderson/anaconda/lib/python2.7/site-packages/sklearn/preprocessing/label.pyc\u001b[0m in \u001b[0;36minverse_transform\u001b[0;34m(self, y)\u001b[0m\n\u001b[1;32m    163\u001b[0m         \u001b[0my\u001b[0m \u001b[0;34m:\u001b[0m \u001b[0mnumpy\u001b[0m \u001b[0marray\u001b[0m \u001b[0mof\u001b[0m \u001b[0mshape\u001b[0m \u001b[0;34m[\u001b[0m\u001b[0mn_samples\u001b[0m\u001b[0;34m]\u001b[0m\u001b[0;34m\u001b[0m\u001b[0m\n\u001b[1;32m    164\u001b[0m         \"\"\"\n\u001b[0;32m--> 165\u001b[0;31m         \u001b[0mself\u001b[0m\u001b[0;34m.\u001b[0m\u001b[0m_check_fitted\u001b[0m\u001b[0;34m(\u001b[0m\u001b[0;34m)\u001b[0m\u001b[0;34m\u001b[0m\u001b[0m\n\u001b[0m\u001b[1;32m    166\u001b[0m \u001b[0;34m\u001b[0m\u001b[0m\n\u001b[1;32m    167\u001b[0m         \u001b[0my\u001b[0m \u001b[0;34m=\u001b[0m \u001b[0mnp\u001b[0m\u001b[0;34m.\u001b[0m\u001b[0masarray\u001b[0m\u001b[0;34m(\u001b[0m\u001b[0my\u001b[0m\u001b[0;34m)\u001b[0m\u001b[0;34m\u001b[0m\u001b[0m\n",
      "\u001b[0;32m/Users/angelhenderson/anaconda/lib/python2.7/site-packages/sklearn/preprocessing/label.pyc\u001b[0m in \u001b[0;36m_check_fitted\u001b[0;34m(self)\u001b[0m\n\u001b[1;32m     94\u001b[0m     \u001b[0;32mdef\u001b[0m \u001b[0m_check_fitted\u001b[0m\u001b[0;34m(\u001b[0m\u001b[0mself\u001b[0m\u001b[0;34m)\u001b[0m\u001b[0;34m:\u001b[0m\u001b[0;34m\u001b[0m\u001b[0m\n\u001b[1;32m     95\u001b[0m         \u001b[0;32mif\u001b[0m \u001b[0;32mnot\u001b[0m \u001b[0mhasattr\u001b[0m\u001b[0;34m(\u001b[0m\u001b[0mself\u001b[0m\u001b[0;34m,\u001b[0m \u001b[0;34m\"classes_\"\u001b[0m\u001b[0;34m)\u001b[0m\u001b[0;34m:\u001b[0m\u001b[0;34m\u001b[0m\u001b[0m\n\u001b[0;32m---> 96\u001b[0;31m             \u001b[0;32mraise\u001b[0m \u001b[0mValueError\u001b[0m\u001b[0;34m(\u001b[0m\u001b[0;34m\"LabelEncoder was not fitted yet.\"\u001b[0m\u001b[0;34m)\u001b[0m\u001b[0;34m\u001b[0m\u001b[0m\n\u001b[0m\u001b[1;32m     97\u001b[0m \u001b[0;34m\u001b[0m\u001b[0m\n\u001b[1;32m     98\u001b[0m     \u001b[0;32mdef\u001b[0m \u001b[0mfit\u001b[0m\u001b[0;34m(\u001b[0m\u001b[0mself\u001b[0m\u001b[0;34m,\u001b[0m \u001b[0my\u001b[0m\u001b[0;34m)\u001b[0m\u001b[0;34m:\u001b[0m\u001b[0;34m\u001b[0m\u001b[0m\n",
      "\u001b[0;31mValueError\u001b[0m: LabelEncoder was not fitted yet."
     ]
    }
   ],
   "source": [
    "predictions_as_dataframe = test_df.join(pd.DataFrame({\"Prediction R\": labels_converted}))\n",
    "print predictions_as_dataframe"
   ]
  },
  {
   "cell_type": "code",
   "execution_count": null,
   "metadata": {
    "collapsed": true
   },
   "outputs": [],
   "source": []
  }
 ],
 "metadata": {
  "kernelspec": {
   "display_name": "Python 2",
   "language": "python",
   "name": "python2"
  },
  "language_info": {
   "codemirror_mode": {
    "name": "ipython",
    "version": 2
   },
   "file_extension": ".py",
   "mimetype": "text/x-python",
   "name": "python",
   "nbconvert_exporter": "python",
   "pygments_lexer": "ipython2",
   "version": "2.7.10"
  }
 },
 "nbformat": 4,
 "nbformat_minor": 0
}
