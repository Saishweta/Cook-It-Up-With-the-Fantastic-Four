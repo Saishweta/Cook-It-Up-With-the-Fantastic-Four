{
 "cells": [
  {
   "cell_type": "markdown",
   "metadata": {},
   "source": [
    "# Cook It Up with the Fantastic Four"
   ]
  },
  {
   "cell_type": "code",
   "execution_count": 9,
   "metadata": {
    "collapsed": false
   },
   "outputs": [],
   "source": [
    "# special IPython command to prepare the notebook for matplotlib\n",
    "%matplotlib inline \n",
    "\n",
    "import numpy as np\n",
    "import pandas as pd\n",
    "import scipy.stats as stats\n",
    "import matplotlib.pyplot as plt\n",
    "import sklearn\n",
    "import statsmodels.api as sm\n",
    "\n",
    "import seaborn as sns\n",
    "sns.set_style(\"whitegrid\")\n",
    "sns.set_context(\"poster\")\n",
    "\n",
    "# special matplotlib argument for improved plots\n",
    "from matplotlib import rcParams\n",
    "\n",
    "import plotly\n",
    "from plotly.offline import download_plotlyjs, init_notebook_mode, iplot\n",
    "import plotly.plotly as py\n",
    "from plotly.tools import FigureFactory as FF\n",
    "import plotly.graph_objs as go\n",
    "from IPython.display import IFrame\n",
    "#print plotly.__version__ \n",
    "#plotly.offline.init_notebook_mode() # run at the start of every notebook\n"
   ]
  },
  {
   "cell_type": "markdown",
   "metadata": {},
   "source": [
    "# Data Collection"
   ]
  },
  {
   "cell_type": "markdown",
   "metadata": {},
   "source": [
    "### Train Data"
   ]
  },
  {
   "cell_type": "code",
   "execution_count": 28,
   "metadata": {
    "collapsed": false
   },
   "outputs": [
    {
     "data": {
      "text/html": [
       "<iframe id=\"igraph\" scrolling=\"no\" style=\"border:none;\"seamless=\"seamless\" src=\"https://plot.ly/~AngelHenderson/13.embed\" height=\"230px\" width=\"100%\"></iframe>"
      ],
      "text/plain": [
       "<plotly.tools.PlotlyDisplay object>"
      ]
     },
     "execution_count": 28,
     "metadata": {},
     "output_type": "execute_result"
    }
   ],
   "source": [
    "full_df = pd.read_json(\"train.json\")\n",
    "df_sample = full_df[5:10]\n",
    "table = FF.create_table(df_sample)\n",
    "py.iplot(table, filename='pandas_table')"
   ]
  },
  {
   "cell_type": "markdown",
   "metadata": {},
   "source": [
    "### Test Data"
   ]
  },
  {
   "cell_type": "code",
   "execution_count": 29,
   "metadata": {
    "collapsed": false
   },
   "outputs": [
    {
     "data": {
      "text/html": [
       "<iframe id=\"igraph\" scrolling=\"no\" style=\"border:none;\"seamless=\"seamless\" src=\"https://plot.ly/~AngelHenderson/13.embed\" height=\"230px\" width=\"100%\"></iframe>"
      ],
      "text/plain": [
       "<plotly.tools.PlotlyDisplay object>"
      ]
     },
     "execution_count": 29,
     "metadata": {},
     "output_type": "execute_result"
    }
   ],
   "source": [
    "test_df = pd.read_json(\"test.json\")\n",
    "df_sample = test_df[0:5]\n",
    "table = FF.create_table(df_sample)\n",
    "py.iplot(table, filename='pandas_table')"
   ]
  },
  {
   "cell_type": "code",
   "execution_count": 30,
   "metadata": {
    "collapsed": false
   },
   "outputs": [
    {
     "data": {
      "text/plain": [
       "u'https://plot.ly/~AngelHenderson/150'"
      ]
     },
     "execution_count": 30,
     "metadata": {},
     "output_type": "execute_result"
    }
   ],
   "source": [
    "import plotly.plotly as py\n",
    "import plotly.graph_objs as go\n",
    "\n",
    "# Create random data with numpy\n",
    "import numpy as np\n",
    "\n",
    "N = 1000\n",
    "random_x = np.random.randn(N)\n",
    "random_y = np.random.randn(N)\n",
    "\n",
    "# Create a trace\n",
    "trace = go.Scatter(\n",
    "    x = random_x,\n",
    "    y = random_y,\n",
    "    mode = 'markers'\n",
    ")\n",
    "\n",
    "data = [trace]\n",
    "\n",
    "# Plot and embed in ipython notebook!\n",
    "py.plot(data, filename='basic-scatter', auto_open=False)"
   ]
  },
  {
   "cell_type": "code",
   "execution_count": 31,
   "metadata": {
    "collapsed": false
   },
   "outputs": [
    {
     "data": {
      "text/html": [
       "<iframe id=\"igraph\" scrolling=\"no\" style=\"border:none;\"seamless=\"seamless\" src=\"https://plot.ly/~AngelHenderson/153.embed\" height=\"525px\" width=\"100%\"></iframe>"
      ],
      "text/plain": [
       "<plotly.tools.PlotlyDisplay object>"
      ]
     },
     "execution_count": 31,
     "metadata": {},
     "output_type": "execute_result"
    }
   ],
   "source": [
    "# Get figure object from Plotly's servers \n",
    "fig_styled = py.get_figure('AngelHenderson', '150')\n",
    "\n",
    "#fig = py.get_figure(\"https://plot.ly/~PlotBot/5\")\n",
    "\n",
    "#fig['layout']['title'] = \"Never forget that title!\"\n",
    "\n",
    "py.iplot(fig_styled, filename=\"python-change_plot\")"
   ]
  },
  {
   "cell_type": "code",
   "execution_count": 1,
   "metadata": {
    "collapsed": false
   },
   "outputs": [
    {
     "data": {
      "text/html": [
       "<iframe width=\"900\" height=\"800\" frameborder=\"0\" scrolling=\"no\" src=\"https://plot.ly/~AngelHenderson/166.embed?share_key=9TEdaALw4Rp8OX9IT3OPoi\"></iframe>"
      ],
      "text/plain": [
       "<IPython.core.display.HTML object>"
      ]
     },
     "execution_count": 1,
     "metadata": {},
     "output_type": "execute_result"
    }
   ],
   "source": [
    "#IFrame('http://popily.com/explore/discovery/cause-of-death-ratio-of-each-cause-of-death-33/?embed=true', width=700, height=700)\n",
    "\n",
    "from IPython.display import HTML\n",
    "HTML('<iframe width=\"900\" height=\"800\" frameborder=\"0\" scrolling=\"no\" src=\"https://plot.ly/~AngelHenderson/166.embed?share_key=9TEdaALw4Rp8OX9IT3OPoi\"></iframe>')"
   ]
  },
  {
   "cell_type": "code",
   "execution_count": 2,
   "metadata": {
    "collapsed": false
   },
   "outputs": [
    {
     "data": {
      "text/html": [
       "<iframe id=\"igraph\" scrolling=\"no\" style=\"border:none;\"seamless=\"seamless\" src=\"https://plot.ly/~bill_chambers/101.embed\" height=\"525\" width=\"100%\"></iframe>"
      ],
      "text/plain": [
       "<plotly.tools.PlotlyDisplay object>"
      ]
     },
     "execution_count": 2,
     "metadata": {},
     "output_type": "execute_result"
    }
   ],
   "source": [
    "import plotly.tools as tls\n",
    "tls.embed(\"https://plot.ly/~bill_chambers/101\")"
   ]
  },
  {
   "cell_type": "code",
   "execution_count": 13,
   "metadata": {
    "collapsed": false
   },
   "outputs": [],
   "source": [
    "from plotly.widgets import GraphWidget\n",
    "from IPython.display import display\n",
    "\n",
    "contour_plot = GraphWidget('https://plot.ly/~bronsolo/63')\n",
    "line_plot = GraphWidget('https://plot.ly/~chris/2150')\n",
    "\n",
    "display(contour_plot)\n"
   ]
  },
  {
   "cell_type": "code",
   "execution_count": 10,
   "metadata": {
    "collapsed": false
   },
   "outputs": [],
   "source": [
    "contour_fig = py.get_figure('https://plot.ly/~bronsolo/63')"
   ]
  },
  {
   "cell_type": "markdown",
   "metadata": {},
   "source": [
    "## Cleaning Data"
   ]
  },
  {
   "cell_type": "code",
   "execution_count": 32,
   "metadata": {
    "collapsed": false
   },
   "outputs": [],
   "source": [
    "import nltk\n",
    "import re\n",
    "from nltk.stem import WordNetLemmatizer\n",
    "from collections import Counter\n",
    "stemmer = WordNetLemmatizer()"
   ]
  },
  {
   "cell_type": "code",
   "execution_count": 33,
   "metadata": {
    "collapsed": true
   },
   "outputs": [],
   "source": [
    "def clean_recipe(recipe):\n",
    "    # To lowercase\n",
    "    recipe = [ i for i in recipe ]\n",
    "\n",
    "    # Remove some special characters\n",
    "    # Individuals replace have a very good performance\n",
    "\n",
    "    def replacing(i):\n",
    "        i = i.replace('&', '').replace('(', '').replace(')','')\n",
    "        i = i.replace('\\'', '').replace('\\\\', '').replace(',','')\n",
    "        i = i.replace('.', '').replace('%', '').replace('/','')\n",
    "        i = i.replace('\"', '')\n",
    "        \n",
    "        return i\n",
    "    \n",
    "    # Replacing characters\n",
    "    recipe = [ replacing(i) for i in recipe ]\n",
    "    \n",
    "    # Remove digits\n",
    "    recipe = [ i for i in recipe if not i.isdigit() ]\n",
    "    \n",
    "    # Stem ingredients\n",
    "    recipe = [ stemmer.lemmatize(i) for i in recipe ]\n",
    "    \n",
    "    return recipe"
   ]
  },
  {
   "cell_type": "code",
   "execution_count": 34,
   "metadata": {
    "collapsed": false
   },
   "outputs": [
    {
     "name": "stdout",
     "output_type": "stream",
     "text": [
      "CPU times: user 9.21 s, sys: 186 ms, total: 9.39 s\n",
      "Wall time: 9.63 s\n"
     ]
    }
   ],
   "source": [
    "%%time\n",
    "full_df['ingredients'] = full_df.ingredients.apply(lambda x: clean_recipe(x))"
   ]
  },
  {
   "cell_type": "markdown",
   "metadata": {},
   "source": [
    "##  Data Breakdown"
   ]
  },
  {
   "cell_type": "markdown",
   "metadata": {},
   "source": [
    "### Cuisine Distribution in Train Set"
   ]
  },
  {
   "cell_type": "code",
   "execution_count": 44,
   "metadata": {
    "collapsed": false
   },
   "outputs": [
    {
     "data": {
      "text/html": [
       "<script type=\"text/javascript\">window.PLOTLYENV=window.PLOTLYENV || {};window.PLOTLYENV.BASE_URL=\"https://plot.ly\";</script>"
      ],
      "text/plain": [
       "<IPython.core.display.HTML object>"
      ]
     },
     "metadata": {},
     "output_type": "display_data"
    },
    {
     "data": {
      "text/html": [
       "<div class=\"7df92cb4-0e39-4656-9b6e-e454c952cf50 loading\" style=\"color: rgb(50,50,50);\">Drawing...</div><div id=\"7df92cb4-0e39-4656-9b6e-e454c952cf50\" style=\"height: 525; width: 100%;\" class=\"plotly-graph-div\"></div><script type=\"text/javascript\">Plotly.plot(\"7df92cb4-0e39-4656-9b6e-e454c952cf50\", [{\"y\": [667, 6438, 2673, 755, 825, 821, 467, 1423, 804, 1175, 3003, 526, 2646, 989, 489, 1546, 1539, 4320, 830, 7838], \"x\": [\"irish\", \"mexican\", \"chinese\", \"filipino\", \"vietnamese\", \"moroccan\", \"brazilian\", \"japanese\", \"british\", \"greek\", \"indian\", \"jamaican\", \"french\", \"spanish\", \"russian\", \"cajun_creole\", \"thai\", \"southern_us\", \"korean\", \"italian\"], \"type\": \"bar\"}], {\"title\": \"Number of Recipes per Cuisine for Train Data\"}, {\"linkText\": \"Export to plot.ly\", \"showLink\": true}).then(function() {\n",
       "    $(\".7df92cb4-0e39-4656-9b6e-e454c952cf50.loading\").remove();\n",
       "})</script>"
      ],
      "text/plain": [
       "<IPython.core.display.HTML object>"
      ]
     },
     "metadata": {},
     "output_type": "display_data"
    },
    {
     "data": {
      "text/html": [
       "<script type=\"text/javascript\">window.PLOTLYENV=window.PLOTLYENV || {};window.PLOTLYENV.BASE_URL=\"https://plot.ly\";</script>"
      ],
      "text/plain": [
       "<IPython.core.display.HTML object>"
      ]
     },
     "metadata": {},
     "output_type": "display_data"
    },
    {
     "data": {
      "text/html": [
       "<div class=\"567f25a9-dcbf-4d5d-847c-e66521f6538c loading\" style=\"color: rgb(50,50,50);\">Drawing...</div><div id=\"567f25a9-dcbf-4d5d-847c-e66521f6538c\" style=\"height: 525; width: 100%;\" class=\"plotly-graph-div\"></div><script type=\"text/javascript\">Plotly.plot(\"567f25a9-dcbf-4d5d-847c-e66521f6538c\", [{\"values\": [667, 6438, 2673, 755, 825, 821, 467, 1423, 804, 1175, 3003, 526, 2646, 989, 489, 1546, 1539, 4320, 830, 7838], \"labels\": [\"irish\", \"mexican\", \"chinese\", \"filipino\", \"vietnamese\", \"moroccan\", \"brazilian\", \"japanese\", \"british\", \"greek\", \"indian\", \"jamaican\", \"french\", \"spanish\", \"russian\", \"cajun_creole\", \"thai\", \"southern_us\", \"korean\", \"italian\"], \"type\": \"pie\"}], {\"title\": \"Number of Recipes per Cuisine for Train Data\"}, {\"linkText\": \"Export to plot.ly\", \"showLink\": true}).then(function() {\n",
       "    $(\".567f25a9-dcbf-4d5d-847c-e66521f6538c.loading\").remove();\n",
       "})</script>"
      ],
      "text/plain": [
       "<IPython.core.display.HTML object>"
      ]
     },
     "metadata": {},
     "output_type": "display_data"
    },
    {
     "data": {
      "text/html": [
       "<script type=\"text/javascript\">window.PLOTLYENV=window.PLOTLYENV || {};window.PLOTLYENV.BASE_URL=\"https://plot.ly\";</script>"
      ],
      "text/plain": [
       "<IPython.core.display.HTML object>"
      ]
     },
     "metadata": {},
     "output_type": "display_data"
    },
    {
     "data": {
      "text/html": [
       "<div class=\"7014c211-884a-4ceb-8c92-5f878aa69924 loading\" style=\"color: rgb(50,50,50);\">Drawing...</div><div id=\"7014c211-884a-4ceb-8c92-5f878aa69924\" style=\"height: 525; width: 100%;\" class=\"plotly-graph-div\"></div><script type=\"text/javascript\">Plotly.plot(\"7014c211-884a-4ceb-8c92-5f878aa69924\", [{\"reversescale\": true, \"autocolorscale\": true, \"colorscale\": [[0, \"rgb(5, 10, 172)\"], [0.35, \"rgb(40, 60, 190)\"], [0.5, \"rgb(70, 100, 245)\"], [0.6, \"rgb(90, 120, 245)\"], [0.7, \"rgb(106, 137, 247)\"], [1, \"rgb(220, 220, 220)\"]], \"text\": [\"irish\", \"mexican\", \"chinese\", \"filipino\", \"vietnamese\", \"moroccan\", \"brazilian\", \"japanese\", \"british\", \"greek\", \"indian\", \"jamaican\", \"french\", \"spanish\", \"russian\", \"cajun_creole\", \"thai\", \"southern_us\", \"korean\", \"italian\"], \"locations\": [\"IRL\", \"MEX\", \"CHN\", \"PHL\", \"VNM\", \"MAR\", \"BRA\", \"JPN\", \"GBR\", \"GRC\", \"IND\", \"JAM\", \"FRA\", \"ESP\", \"RUS\", \"USA\", \"THA\", \"USA\", \"KOR\", \"ITA\"], \"colorbar\": {\"tickprefix\": \"\", \"autotick\": false, \"title\": \"Cuisine Count\"}, \"marker\": {\"line\": {\"color\": \"rgb(180,180,180)\", \"width\": 0.5}}, \"z\": [667, 6438, 2673, 755, 825, 821, 467, 1423, 804, 1175, 3003, 526, 2646, 989, 489, 1546, 1539, 4320, 830, 7838], \"type\": \"choropleth\"}], {\"geo\": {\"projection\": {\"type\": \"Mercator\"}, \"showcoastlines\": true, \"showframe\": false}, \"title\": \"Global Cuisine Distribution\"}, {\"linkText\": \"Export to plot.ly\", \"showLink\": true}).then(function() {\n",
       "    $(\".7014c211-884a-4ceb-8c92-5f878aa69924.loading\").remove();\n",
       "})</script>"
      ],
      "text/plain": [
       "<IPython.core.display.HTML object>"
      ]
     },
     "metadata": {},
     "output_type": "display_data"
    }
   ],
   "source": [
    "from collections import Counter\n",
    "\n",
    "# Find Cuisine Distribution\n",
    "countdict = Counter(full_df.cuisine)\n",
    "cuisines = countdict.keys()\n",
    "cuisinescount = countdict.values()\n",
    "\n",
    "# Plot Cuisine Distribution Bar Chart\n",
    "data = [\n",
    "    go.Bar(\n",
    "        y=cuisinescount,\n",
    "        x=cuisines,    \n",
    "    )\n",
    "]\n",
    "layout = dict(\n",
    "    title='Number of Recipes per Cuisine for Train Data',\n",
    ")\n",
    "fig = go.Figure(data=data , layout=layout)\n",
    "\n",
    "\n",
    "# Creating Pie Chart\n",
    "fig2 = {\n",
    "    'data': [{'labels': cuisines,\n",
    "              'values': cuisinescount,\n",
    "              'type': 'pie'}],\n",
    "    'layout': {'title': 'Number of Recipes per Cuisine for Train Data'}\n",
    "}\n",
    "\n",
    "# Plot Global Cuisine Distribution\n",
    "\n",
    "myList=[]\n",
    "\n",
    "for c in cuisines: \n",
    "    if c == 'brazilian':\n",
    "        myList.append('BRA')\n",
    "    elif c == 'british':\n",
    "        myList.append('GBR')\n",
    "    elif c == 'cajun_creole':\n",
    "        myList.append('USA')\n",
    "    elif c == 'chinese':\n",
    "        myList.append('CHN')\n",
    "    elif c == 'filipino':\n",
    "        myList.append('PHL')\n",
    "    elif c == 'french':\n",
    "        myList.append('FRA')\n",
    "    elif c == 'greek':\n",
    "        myList.append('GRC')\n",
    "    elif c == 'indian':\n",
    "        myList.append('IND')\n",
    "    elif c == 'irish':\n",
    "        myList.append('IRL')\n",
    "    elif c == 'italian':\n",
    "        myList.append('ITA')\n",
    "    elif c == 'jamaican':\n",
    "        myList.append('JAM')\n",
    "    elif c == 'japanese':\n",
    "        myList.append('JPN')\n",
    "    elif c == 'korean':\n",
    "        myList.append('KOR')\n",
    "    elif c == 'mexican':\n",
    "        myList.append('MEX')\n",
    "    elif c == 'moroccan':\n",
    "        myList.append('MAR')\n",
    "    elif c == 'russian':\n",
    "        myList.append('RUS')\n",
    "    elif c == 'southern_us':\n",
    "        myList.append('USA')\n",
    "    elif c == 'spanish':\n",
    "        myList.append('ESP')\n",
    "    elif c == 'thai':\n",
    "        myList.append('THA')\n",
    "    elif c == 'vietnamese':\n",
    "        myList.append('VNM')\n",
    "\n",
    "data3 = [ dict(\n",
    "        type = 'choropleth',\n",
    "        locations = myList,\n",
    "        z = cuisinescount,\n",
    "        text = cuisines,\n",
    "        colorscale = [[0,\"rgb(5, 10, 172)\"],[0.35,\"rgb(40, 60, 190)\"],[0.5,\"rgb(70, 100, 245)\"],\\\n",
    "            [0.6,\"rgb(90, 120, 245)\"],[0.7,\"rgb(106, 137, 247)\"],[1,\"rgb(220, 220, 220)\"]],\n",
    "        autocolorscale = True,\n",
    "        reversescale = True,\n",
    "        marker = dict(\n",
    "            line = dict (\n",
    "                color = 'rgb(180,180,180)',\n",
    "                width = 0.5\n",
    "            )\n",
    "        ),\n",
    "        colorbar = dict(\n",
    "            autotick = False,\n",
    "            tickprefix = '',\n",
    "            title = 'Cuisine Count'\n",
    "        ),\n",
    "    ) ]\n",
    "\n",
    "layout3 = dict(\n",
    "    title = 'Global Cuisine Distribution',\n",
    "    geo = dict(\n",
    "        showframe = False,\n",
    "        showcoastlines = True,\n",
    "        projection = dict(\n",
    "            type = 'Mercator'\n",
    "        )\n",
    "    )\n",
    ")\n",
    "\n",
    "fig = dict( data=data, layout=layout )\n",
    "fig3 = dict( data=data3, layout=layout3 )\n",
    "\n",
    "iplot(fig)\n",
    "iplot(fig2)\n",
    "iplot(fig3, validate=False)"
   ]
  },
  {
   "cell_type": "markdown",
   "metadata": {},
   "source": [
    "### Top 10 Most Used Ingredients in Train Set"
   ]
  },
  {
   "cell_type": "code",
   "execution_count": 36,
   "metadata": {
    "collapsed": false
   },
   "outputs": [
    {
     "name": "stdout",
     "output_type": "stream",
     "text": [
      "CPU times: user 4min 26s, sys: 4.11 s, total: 4min 30s\n",
      "Wall time: 4min 29s\n"
     ]
    }
   ],
   "source": [
    "%%time\n",
    "\n",
    "# Find Ingredient Distribution\n",
    "recipe_ingredient = [Counter(clean_recipe(recipe)) for recipe in full_df.ingredients]\n",
    "ingredient_distribution = sum(recipe_ingredient, Counter())"
   ]
  },
  {
   "cell_type": "code",
   "execution_count": 41,
   "metadata": {
    "collapsed": false
   },
   "outputs": [
    {
     "data": {
      "text/html": [
       "<script type=\"text/javascript\">window.PLOTLYENV=window.PLOTLYENV || {};window.PLOTLYENV.BASE_URL=\"https://plot.ly\";</script>"
      ],
      "text/plain": [
       "<IPython.core.display.HTML object>"
      ]
     },
     "metadata": {},
     "output_type": "display_data"
    },
    {
     "data": {
      "text/html": [
       "<div class=\"38b751e5-007e-45af-9c4e-9feb88a3ff4b loading\" style=\"color: rgb(50,50,50);\">Drawing...</div><div id=\"38b751e5-007e-45af-9c4e-9feb88a3ff4b\" style=\"height: 680; width: 100%;\" class=\"plotly-graph-div\"></div><script type=\"text/javascript\">Plotly.plot(\"38b751e5-007e-45af-9c4e-9feb88a3ff4b\", [{\"opacity\": 0.75, \"colorscale\": [[0, \"#00083e\"], [0.5, \"#ededee\"], [1, \"#ffffff\"]], \"showscale\": false, \"hoverinfo\": \"none\", \"z\": [[0, 0], [0.5, 0.5], [1, 1], [0.5, 0.5], [1, 1], [0.5, 0.5], [1, 1], [0.5, 0.5], [1, 1], [0.5, 0.5], [1, 1], [0.5, 0.5], [1, 1], [0.5, 0.5], [1, 1], [0.5, 0.5], [1, 1], [0.5, 0.5], [1, 1], [0.5, 0.5], [1, 1]], \"type\": \"heatmap\"}, {\"orientation\": \"h\", \"yaxis\": \"y2\", \"xaxis\": \"x2\", \"y\": [\"unsalted butter\", \"carrot\", \"large eggs\", \"tomato\", \"green onions\", \"kosher salt\", \"soy sauce\", \"egg\", \"vegetable oil\", \"pepper\", \"all-purpose flour\", \"ground black pepper\", \"butter\", \"garlic cloves\", \"sugar\", \"garlic\", \"water\", \"onion\", \"olive oil\", \"salt\"], \"x\": [2782, 2814, 2948, 3058, 3078, 3113, 3296, 3388, 4385, 4438, 4632, 4785, 4848, 6237, 6434, 7380, 7457, 7972, 7972, 18049], \"type\": \"bar\"}], {\"title\": \"Top 10 Most Used Ingredients in Train Set\", \"yaxis\": {\"showticklabels\": false, \"tick0\": 0.5, \"ticks\": \"\", \"gridwidth\": 2, \"dtick\": 1, \"zeroline\": false, \"autorange\": \"reversed\"}, \"xaxis2\": {\"domain\": [0.45, 1.0]}, \"height\": 680, \"yaxis2\": {\"anchor\": \"x2\"}, \"xaxis\": {\"domain\": [0, 0.3], \"showticklabels\": false, \"tick0\": -0.5, \"ticks\": \"\", \"gridwidth\": 2, \"dtick\": 1, \"zeroline\": false}, \"margin\": {\"r\": 0, \"b\": 100, \"l\": 0, \"t\": 50}, \"annotations\": [{\"xref\": \"x1\", \"xanchor\": \"left\", \"yref\": \"y1\", \"text\": \"<b>Count</b>\", \"align\": \"left\", \"y\": 0, \"x\": -0.45, \"font\": {\"color\": \"#ffffff\"}, \"showarrow\": false}, {\"xref\": \"x1\", \"xanchor\": \"left\", \"yref\": \"y1\", \"text\": \"<b>Ingredients</b>\", \"align\": \"left\", \"y\": 0, \"x\": 0.55, \"font\": {\"color\": \"#ffffff\"}, \"showarrow\": false}, {\"xref\": \"x1\", \"xanchor\": \"left\", \"yref\": \"y1\", \"text\": \"18049\", \"align\": \"left\", \"y\": 1, \"x\": -0.45, \"font\": {\"color\": \"#000000\"}, \"showarrow\": false}, {\"xref\": \"x1\", \"xanchor\": \"left\", \"yref\": \"y1\", \"text\": \"salt\", \"align\": \"left\", \"y\": 1, \"x\": 0.55, \"font\": {\"color\": \"#000000\"}, \"showarrow\": false}, {\"xref\": \"x1\", \"xanchor\": \"left\", \"yref\": \"y1\", \"text\": \"7972\", \"align\": \"left\", \"y\": 2, \"x\": -0.45, \"font\": {\"color\": \"#000000\"}, \"showarrow\": false}, {\"xref\": \"x1\", \"xanchor\": \"left\", \"yref\": \"y1\", \"text\": \"olive oil\", \"align\": \"left\", \"y\": 2, \"x\": 0.55, \"font\": {\"color\": \"#000000\"}, \"showarrow\": false}, {\"xref\": \"x1\", \"xanchor\": \"left\", \"yref\": \"y1\", \"text\": \"7972\", \"align\": \"left\", \"y\": 3, \"x\": -0.45, \"font\": {\"color\": \"#000000\"}, \"showarrow\": false}, {\"xref\": \"x1\", \"xanchor\": \"left\", \"yref\": \"y1\", \"text\": \"onion\", \"align\": \"left\", \"y\": 3, \"x\": 0.55, \"font\": {\"color\": \"#000000\"}, \"showarrow\": false}, {\"xref\": \"x1\", \"xanchor\": \"left\", \"yref\": \"y1\", \"text\": \"7457\", \"align\": \"left\", \"y\": 4, \"x\": -0.45, \"font\": {\"color\": \"#000000\"}, \"showarrow\": false}, {\"xref\": \"x1\", \"xanchor\": \"left\", \"yref\": \"y1\", \"text\": \"water\", \"align\": \"left\", \"y\": 4, \"x\": 0.55, \"font\": {\"color\": \"#000000\"}, \"showarrow\": false}, {\"xref\": \"x1\", \"xanchor\": \"left\", \"yref\": \"y1\", \"text\": \"7380\", \"align\": \"left\", \"y\": 5, \"x\": -0.45, \"font\": {\"color\": \"#000000\"}, \"showarrow\": false}, {\"xref\": \"x1\", \"xanchor\": \"left\", \"yref\": \"y1\", \"text\": \"garlic\", \"align\": \"left\", \"y\": 5, \"x\": 0.55, \"font\": {\"color\": \"#000000\"}, \"showarrow\": false}, {\"xref\": \"x1\", \"xanchor\": \"left\", \"yref\": \"y1\", \"text\": \"6434\", \"align\": \"left\", \"y\": 6, \"x\": -0.45, \"font\": {\"color\": \"#000000\"}, \"showarrow\": false}, {\"xref\": \"x1\", \"xanchor\": \"left\", \"yref\": \"y1\", \"text\": \"sugar\", \"align\": \"left\", \"y\": 6, \"x\": 0.55, \"font\": {\"color\": \"#000000\"}, \"showarrow\": false}, {\"xref\": \"x1\", \"xanchor\": \"left\", \"yref\": \"y1\", \"text\": \"6237\", \"align\": \"left\", \"y\": 7, \"x\": -0.45, \"font\": {\"color\": \"#000000\"}, \"showarrow\": false}, {\"xref\": \"x1\", \"xanchor\": \"left\", \"yref\": \"y1\", \"text\": \"garlic cloves\", \"align\": \"left\", \"y\": 7, \"x\": 0.55, \"font\": {\"color\": \"#000000\"}, \"showarrow\": false}, {\"xref\": \"x1\", \"xanchor\": \"left\", \"yref\": \"y1\", \"text\": \"4848\", \"align\": \"left\", \"y\": 8, \"x\": -0.45, \"font\": {\"color\": \"#000000\"}, \"showarrow\": false}, {\"xref\": \"x1\", \"xanchor\": \"left\", \"yref\": \"y1\", \"text\": \"butter\", \"align\": \"left\", \"y\": 8, \"x\": 0.55, \"font\": {\"color\": \"#000000\"}, \"showarrow\": false}, {\"xref\": \"x1\", \"xanchor\": \"left\", \"yref\": \"y1\", \"text\": \"4785\", \"align\": \"left\", \"y\": 9, \"x\": -0.45, \"font\": {\"color\": \"#000000\"}, \"showarrow\": false}, {\"xref\": \"x1\", \"xanchor\": \"left\", \"yref\": \"y1\", \"text\": \"ground black pepper\", \"align\": \"left\", \"y\": 9, \"x\": 0.55, \"font\": {\"color\": \"#000000\"}, \"showarrow\": false}, {\"xref\": \"x1\", \"xanchor\": \"left\", \"yref\": \"y1\", \"text\": \"4632\", \"align\": \"left\", \"y\": 10, \"x\": -0.45, \"font\": {\"color\": \"#000000\"}, \"showarrow\": false}, {\"xref\": \"x1\", \"xanchor\": \"left\", \"yref\": \"y1\", \"text\": \"all-purpose flour\", \"align\": \"left\", \"y\": 10, \"x\": 0.55, \"font\": {\"color\": \"#000000\"}, \"showarrow\": false}, {\"xref\": \"x1\", \"xanchor\": \"left\", \"yref\": \"y1\", \"text\": \"4438\", \"align\": \"left\", \"y\": 11, \"x\": -0.45, \"font\": {\"color\": \"#000000\"}, \"showarrow\": false}, {\"xref\": \"x1\", \"xanchor\": \"left\", \"yref\": \"y1\", \"text\": \"pepper\", \"align\": \"left\", \"y\": 11, \"x\": 0.55, \"font\": {\"color\": \"#000000\"}, \"showarrow\": false}, {\"xref\": \"x1\", \"xanchor\": \"left\", \"yref\": \"y1\", \"text\": \"4385\", \"align\": \"left\", \"y\": 12, \"x\": -0.45, \"font\": {\"color\": \"#000000\"}, \"showarrow\": false}, {\"xref\": \"x1\", \"xanchor\": \"left\", \"yref\": \"y1\", \"text\": \"vegetable oil\", \"align\": \"left\", \"y\": 12, \"x\": 0.55, \"font\": {\"color\": \"#000000\"}, \"showarrow\": false}, {\"xref\": \"x1\", \"xanchor\": \"left\", \"yref\": \"y1\", \"text\": \"3388\", \"align\": \"left\", \"y\": 13, \"x\": -0.45, \"font\": {\"color\": \"#000000\"}, \"showarrow\": false}, {\"xref\": \"x1\", \"xanchor\": \"left\", \"yref\": \"y1\", \"text\": \"egg\", \"align\": \"left\", \"y\": 13, \"x\": 0.55, \"font\": {\"color\": \"#000000\"}, \"showarrow\": false}, {\"xref\": \"x1\", \"xanchor\": \"left\", \"yref\": \"y1\", \"text\": \"3296\", \"align\": \"left\", \"y\": 14, \"x\": -0.45, \"font\": {\"color\": \"#000000\"}, \"showarrow\": false}, {\"xref\": \"x1\", \"xanchor\": \"left\", \"yref\": \"y1\", \"text\": \"soy sauce\", \"align\": \"left\", \"y\": 14, \"x\": 0.55, \"font\": {\"color\": \"#000000\"}, \"showarrow\": false}, {\"xref\": \"x1\", \"xanchor\": \"left\", \"yref\": \"y1\", \"text\": \"3113\", \"align\": \"left\", \"y\": 15, \"x\": -0.45, \"font\": {\"color\": \"#000000\"}, \"showarrow\": false}, {\"xref\": \"x1\", \"xanchor\": \"left\", \"yref\": \"y1\", \"text\": \"kosher salt\", \"align\": \"left\", \"y\": 15, \"x\": 0.55, \"font\": {\"color\": \"#000000\"}, \"showarrow\": false}, {\"xref\": \"x1\", \"xanchor\": \"left\", \"yref\": \"y1\", \"text\": \"3078\", \"align\": \"left\", \"y\": 16, \"x\": -0.45, \"font\": {\"color\": \"#000000\"}, \"showarrow\": false}, {\"xref\": \"x1\", \"xanchor\": \"left\", \"yref\": \"y1\", \"text\": \"green onions\", \"align\": \"left\", \"y\": 16, \"x\": 0.55, \"font\": {\"color\": \"#000000\"}, \"showarrow\": false}, {\"xref\": \"x1\", \"xanchor\": \"left\", \"yref\": \"y1\", \"text\": \"3058\", \"align\": \"left\", \"y\": 17, \"x\": -0.45, \"font\": {\"color\": \"#000000\"}, \"showarrow\": false}, {\"xref\": \"x1\", \"xanchor\": \"left\", \"yref\": \"y1\", \"text\": \"tomato\", \"align\": \"left\", \"y\": 17, \"x\": 0.55, \"font\": {\"color\": \"#000000\"}, \"showarrow\": false}, {\"xref\": \"x1\", \"xanchor\": \"left\", \"yref\": \"y1\", \"text\": \"2948\", \"align\": \"left\", \"y\": 18, \"x\": -0.45, \"font\": {\"color\": \"#000000\"}, \"showarrow\": false}, {\"xref\": \"x1\", \"xanchor\": \"left\", \"yref\": \"y1\", \"text\": \"large eggs\", \"align\": \"left\", \"y\": 18, \"x\": 0.55, \"font\": {\"color\": \"#000000\"}, \"showarrow\": false}, {\"xref\": \"x1\", \"xanchor\": \"left\", \"yref\": \"y1\", \"text\": \"2814\", \"align\": \"left\", \"y\": 19, \"x\": -0.45, \"font\": {\"color\": \"#000000\"}, \"showarrow\": false}, {\"xref\": \"x1\", \"xanchor\": \"left\", \"yref\": \"y1\", \"text\": \"carrot\", \"align\": \"left\", \"y\": 19, \"x\": 0.55, \"font\": {\"color\": \"#000000\"}, \"showarrow\": false}, {\"xref\": \"x1\", \"xanchor\": \"left\", \"yref\": \"y1\", \"text\": \"2782\", \"align\": \"left\", \"y\": 20, \"x\": -0.45, \"font\": {\"color\": \"#000000\"}, \"showarrow\": false}, {\"xref\": \"x1\", \"xanchor\": \"left\", \"yref\": \"y1\", \"text\": \"unsalted butter\", \"align\": \"left\", \"y\": 20, \"x\": 0.55, \"font\": {\"color\": \"#000000\"}, \"showarrow\": false}]}, {\"linkText\": \"Export to plot.ly\", \"showLink\": true}).then(function() {\n",
       "    $(\".38b751e5-007e-45af-9c4e-9feb88a3ff4b.loading\").remove();\n",
       "})</script>"
      ],
      "text/plain": [
       "<IPython.core.display.HTML object>"
      ]
     },
     "metadata": {},
     "output_type": "display_data"
    },
    {
     "name": "stdout",
     "output_type": "stream",
     "text": [
      "CPU times: user 454 ms, sys: 35.2 ms, total: 490 ms\n",
      "Wall time: 472 ms\n"
     ]
    }
   ],
   "source": [
    "%%time\n",
    "\n",
    "ingredient_fig = pd.DataFrame(ingredient_distribution, index=[0]).transpose()[0].sort(ascending=False, inplace=False)\n",
    "table = FF.create_table(pd.DataFrame({ 'Ingredients' :ingredient_fig[:20].keys(), 'Count' : ingredient_fig[:20].values}))\n",
    "# Find Cuisine Distribution\n",
    "ingredients = ingredient_fig[:20].keys()\n",
    "ingredientscount = ingredient_fig[:20].values\n",
    "ingredients = ingredients[::-1]\n",
    "ingredientscount = ingredientscount[::-1]\n",
    "\n",
    "## Plot Cuisine Distribution\n",
    "data = [\n",
    "    go.Bar(\n",
    "        x=ingredientscount,\n",
    "        y=ingredients,\n",
    "        orientation = 'h',\n",
    "        xaxis='x2', yaxis='y2'\n",
    "    )\n",
    "]\n",
    "table['data'].extend(data)\n",
    "\n",
    "# Edit layout for subplots\n",
    "table.layout.xaxis.update({'domain': [0, .3]})\n",
    "table.layout.xaxis2.update({'domain': [0.45, 1.]})\n",
    "# The graph's yaxis MUST BE anchored to the graph's xaxis\n",
    "table.layout.yaxis2.update({'anchor': 'x2'})\n",
    "# Update the margins to add a title and see graph x-labels. \n",
    "table.layout.margin.update({'t':50, 'b':100})\n",
    "table.layout.update({'title': 'Top 10 Most Used Ingredients in Train Set'})\n",
    "\n",
    "iplot(table)"
   ]
  },
  {
   "cell_type": "markdown",
   "metadata": {},
   "source": [
    "### Top 10 Most Used Ingredients in Test Set"
   ]
  },
  {
   "cell_type": "code",
   "execution_count": 42,
   "metadata": {
    "collapsed": false
   },
   "outputs": [
    {
     "name": "stdout",
     "output_type": "stream",
     "text": [
      "CPU times: user 36.4 s, sys: 587 ms, total: 37 s\n",
      "Wall time: 37 s\n"
     ]
    }
   ],
   "source": [
    "%%time\n",
    "recipe_ingredienttest = [Counter(clean_recipe(recipe)) for recipe in test_df.ingredients]\n",
    "ingredient_distributiontest = sum(recipe_ingredienttest, Counter())"
   ]
  },
  {
   "cell_type": "code",
   "execution_count": 43,
   "metadata": {
    "collapsed": false
   },
   "outputs": [
    {
     "data": {
      "text/html": [
       "<script type=\"text/javascript\">window.PLOTLYENV=window.PLOTLYENV || {};window.PLOTLYENV.BASE_URL=\"https://plot.ly\";</script>"
      ],
      "text/plain": [
       "<IPython.core.display.HTML object>"
      ]
     },
     "metadata": {},
     "output_type": "display_data"
    },
    {
     "data": {
      "text/html": [
       "<div class=\"a04d1c5a-5648-4539-9bf5-5b63cd7d999d loading\" style=\"color: rgb(50,50,50);\">Drawing...</div><div id=\"a04d1c5a-5648-4539-9bf5-5b63cd7d999d\" style=\"height: 680; width: 100%;\" class=\"plotly-graph-div\"></div><script type=\"text/javascript\">Plotly.plot(\"a04d1c5a-5648-4539-9bf5-5b63cd7d999d\", [{\"opacity\": 0.75, \"colorscale\": [[0, \"#00083e\"], [0.5, \"#ededee\"], [1, \"#ffffff\"]], \"showscale\": false, \"hoverinfo\": \"none\", \"z\": [[0, 0], [0.5, 0.5], [1, 1], [0.5, 0.5], [1, 1], [0.5, 0.5], [1, 1], [0.5, 0.5], [1, 1], [0.5, 0.5], [1, 1], [0.5, 0.5], [1, 1], [0.5, 0.5], [1, 1], [0.5, 0.5], [1, 1], [0.5, 0.5], [1, 1], [0.5, 0.5], [1, 1]], \"type\": \"heatmap\"}, {\"orientation\": \"h\", \"yaxis\": \"y2\", \"xaxis\": \"x2\", \"y\": [\"unsalted butter\", \"carrot\", \"green onions\", \"large eggs\", \"tomato\", \"kosher salt\", \"soy sauce\", \"egg\", \"pepper\", \"vegetable oil\", \"all-purpose flour\", \"ground black pepper\", \"butter\", \"garlic cloves\", \"sugar\", \"garlic\", \"water\", \"olive oil\", \"onion\", \"salt\"], \"x\": [692, 728, 739, 752, 754, 817, 824, 874, 1070, 1131, 1184, 1205, 1230, 1535, 1630, 1791, 1836, 1917, 2036, 4485], \"type\": \"bar\"}], {\"title\": \"Top 10 Most Used Ingredients in Test Set\", \"yaxis\": {\"showticklabels\": false, \"tick0\": 0.5, \"ticks\": \"\", \"gridwidth\": 2, \"dtick\": 1, \"zeroline\": false, \"autorange\": \"reversed\"}, \"xaxis2\": {\"domain\": [0.45, 1.0]}, \"height\": 680, \"yaxis2\": {\"anchor\": \"x2\"}, \"xaxis\": {\"domain\": [0, 0.3], \"showticklabels\": false, \"tick0\": -0.5, \"ticks\": \"\", \"gridwidth\": 2, \"dtick\": 1, \"zeroline\": false}, \"margin\": {\"r\": 0, \"b\": 100, \"l\": 0, \"t\": 50}, \"annotations\": [{\"xref\": \"x1\", \"xanchor\": \"left\", \"yref\": \"y1\", \"text\": \"<b>Count</b>\", \"align\": \"left\", \"y\": 0, \"x\": -0.45, \"font\": {\"color\": \"#ffffff\"}, \"showarrow\": false}, {\"xref\": \"x1\", \"xanchor\": \"left\", \"yref\": \"y1\", \"text\": \"<b>Ingredients</b>\", \"align\": \"left\", \"y\": 0, \"x\": 0.55, \"font\": {\"color\": \"#ffffff\"}, \"showarrow\": false}, {\"xref\": \"x1\", \"xanchor\": \"left\", \"yref\": \"y1\", \"text\": \"4485\", \"align\": \"left\", \"y\": 1, \"x\": -0.45, \"font\": {\"color\": \"#000000\"}, \"showarrow\": false}, {\"xref\": \"x1\", \"xanchor\": \"left\", \"yref\": \"y1\", \"text\": \"salt\", \"align\": \"left\", \"y\": 1, \"x\": 0.55, \"font\": {\"color\": \"#000000\"}, \"showarrow\": false}, {\"xref\": \"x1\", \"xanchor\": \"left\", \"yref\": \"y1\", \"text\": \"2036\", \"align\": \"left\", \"y\": 2, \"x\": -0.45, \"font\": {\"color\": \"#000000\"}, \"showarrow\": false}, {\"xref\": \"x1\", \"xanchor\": \"left\", \"yref\": \"y1\", \"text\": \"onion\", \"align\": \"left\", \"y\": 2, \"x\": 0.55, \"font\": {\"color\": \"#000000\"}, \"showarrow\": false}, {\"xref\": \"x1\", \"xanchor\": \"left\", \"yref\": \"y1\", \"text\": \"1917\", \"align\": \"left\", \"y\": 3, \"x\": -0.45, \"font\": {\"color\": \"#000000\"}, \"showarrow\": false}, {\"xref\": \"x1\", \"xanchor\": \"left\", \"yref\": \"y1\", \"text\": \"olive oil\", \"align\": \"left\", \"y\": 3, \"x\": 0.55, \"font\": {\"color\": \"#000000\"}, \"showarrow\": false}, {\"xref\": \"x1\", \"xanchor\": \"left\", \"yref\": \"y1\", \"text\": \"1836\", \"align\": \"left\", \"y\": 4, \"x\": -0.45, \"font\": {\"color\": \"#000000\"}, \"showarrow\": false}, {\"xref\": \"x1\", \"xanchor\": \"left\", \"yref\": \"y1\", \"text\": \"water\", \"align\": \"left\", \"y\": 4, \"x\": 0.55, \"font\": {\"color\": \"#000000\"}, \"showarrow\": false}, {\"xref\": \"x1\", \"xanchor\": \"left\", \"yref\": \"y1\", \"text\": \"1791\", \"align\": \"left\", \"y\": 5, \"x\": -0.45, \"font\": {\"color\": \"#000000\"}, \"showarrow\": false}, {\"xref\": \"x1\", \"xanchor\": \"left\", \"yref\": \"y1\", \"text\": \"garlic\", \"align\": \"left\", \"y\": 5, \"x\": 0.55, \"font\": {\"color\": \"#000000\"}, \"showarrow\": false}, {\"xref\": \"x1\", \"xanchor\": \"left\", \"yref\": \"y1\", \"text\": \"1630\", \"align\": \"left\", \"y\": 6, \"x\": -0.45, \"font\": {\"color\": \"#000000\"}, \"showarrow\": false}, {\"xref\": \"x1\", \"xanchor\": \"left\", \"yref\": \"y1\", \"text\": \"sugar\", \"align\": \"left\", \"y\": 6, \"x\": 0.55, \"font\": {\"color\": \"#000000\"}, \"showarrow\": false}, {\"xref\": \"x1\", \"xanchor\": \"left\", \"yref\": \"y1\", \"text\": \"1535\", \"align\": \"left\", \"y\": 7, \"x\": -0.45, \"font\": {\"color\": \"#000000\"}, \"showarrow\": false}, {\"xref\": \"x1\", \"xanchor\": \"left\", \"yref\": \"y1\", \"text\": \"garlic cloves\", \"align\": \"left\", \"y\": 7, \"x\": 0.55, \"font\": {\"color\": \"#000000\"}, \"showarrow\": false}, {\"xref\": \"x1\", \"xanchor\": \"left\", \"yref\": \"y1\", \"text\": \"1230\", \"align\": \"left\", \"y\": 8, \"x\": -0.45, \"font\": {\"color\": \"#000000\"}, \"showarrow\": false}, {\"xref\": \"x1\", \"xanchor\": \"left\", \"yref\": \"y1\", \"text\": \"butter\", \"align\": \"left\", \"y\": 8, \"x\": 0.55, \"font\": {\"color\": \"#000000\"}, \"showarrow\": false}, {\"xref\": \"x1\", \"xanchor\": \"left\", \"yref\": \"y1\", \"text\": \"1205\", \"align\": \"left\", \"y\": 9, \"x\": -0.45, \"font\": {\"color\": \"#000000\"}, \"showarrow\": false}, {\"xref\": \"x1\", \"xanchor\": \"left\", \"yref\": \"y1\", \"text\": \"ground black pepper\", \"align\": \"left\", \"y\": 9, \"x\": 0.55, \"font\": {\"color\": \"#000000\"}, \"showarrow\": false}, {\"xref\": \"x1\", \"xanchor\": \"left\", \"yref\": \"y1\", \"text\": \"1184\", \"align\": \"left\", \"y\": 10, \"x\": -0.45, \"font\": {\"color\": \"#000000\"}, \"showarrow\": false}, {\"xref\": \"x1\", \"xanchor\": \"left\", \"yref\": \"y1\", \"text\": \"all-purpose flour\", \"align\": \"left\", \"y\": 10, \"x\": 0.55, \"font\": {\"color\": \"#000000\"}, \"showarrow\": false}, {\"xref\": \"x1\", \"xanchor\": \"left\", \"yref\": \"y1\", \"text\": \"1131\", \"align\": \"left\", \"y\": 11, \"x\": -0.45, \"font\": {\"color\": \"#000000\"}, \"showarrow\": false}, {\"xref\": \"x1\", \"xanchor\": \"left\", \"yref\": \"y1\", \"text\": \"vegetable oil\", \"align\": \"left\", \"y\": 11, \"x\": 0.55, \"font\": {\"color\": \"#000000\"}, \"showarrow\": false}, {\"xref\": \"x1\", \"xanchor\": \"left\", \"yref\": \"y1\", \"text\": \"1070\", \"align\": \"left\", \"y\": 12, \"x\": -0.45, \"font\": {\"color\": \"#000000\"}, \"showarrow\": false}, {\"xref\": \"x1\", \"xanchor\": \"left\", \"yref\": \"y1\", \"text\": \"pepper\", \"align\": \"left\", \"y\": 12, \"x\": 0.55, \"font\": {\"color\": \"#000000\"}, \"showarrow\": false}, {\"xref\": \"x1\", \"xanchor\": \"left\", \"yref\": \"y1\", \"text\": \"874\", \"align\": \"left\", \"y\": 13, \"x\": -0.45, \"font\": {\"color\": \"#000000\"}, \"showarrow\": false}, {\"xref\": \"x1\", \"xanchor\": \"left\", \"yref\": \"y1\", \"text\": \"egg\", \"align\": \"left\", \"y\": 13, \"x\": 0.55, \"font\": {\"color\": \"#000000\"}, \"showarrow\": false}, {\"xref\": \"x1\", \"xanchor\": \"left\", \"yref\": \"y1\", \"text\": \"824\", \"align\": \"left\", \"y\": 14, \"x\": -0.45, \"font\": {\"color\": \"#000000\"}, \"showarrow\": false}, {\"xref\": \"x1\", \"xanchor\": \"left\", \"yref\": \"y1\", \"text\": \"soy sauce\", \"align\": \"left\", \"y\": 14, \"x\": 0.55, \"font\": {\"color\": \"#000000\"}, \"showarrow\": false}, {\"xref\": \"x1\", \"xanchor\": \"left\", \"yref\": \"y1\", \"text\": \"817\", \"align\": \"left\", \"y\": 15, \"x\": -0.45, \"font\": {\"color\": \"#000000\"}, \"showarrow\": false}, {\"xref\": \"x1\", \"xanchor\": \"left\", \"yref\": \"y1\", \"text\": \"kosher salt\", \"align\": \"left\", \"y\": 15, \"x\": 0.55, \"font\": {\"color\": \"#000000\"}, \"showarrow\": false}, {\"xref\": \"x1\", \"xanchor\": \"left\", \"yref\": \"y1\", \"text\": \"754\", \"align\": \"left\", \"y\": 16, \"x\": -0.45, \"font\": {\"color\": \"#000000\"}, \"showarrow\": false}, {\"xref\": \"x1\", \"xanchor\": \"left\", \"yref\": \"y1\", \"text\": \"tomato\", \"align\": \"left\", \"y\": 16, \"x\": 0.55, \"font\": {\"color\": \"#000000\"}, \"showarrow\": false}, {\"xref\": \"x1\", \"xanchor\": \"left\", \"yref\": \"y1\", \"text\": \"752\", \"align\": \"left\", \"y\": 17, \"x\": -0.45, \"font\": {\"color\": \"#000000\"}, \"showarrow\": false}, {\"xref\": \"x1\", \"xanchor\": \"left\", \"yref\": \"y1\", \"text\": \"large eggs\", \"align\": \"left\", \"y\": 17, \"x\": 0.55, \"font\": {\"color\": \"#000000\"}, \"showarrow\": false}, {\"xref\": \"x1\", \"xanchor\": \"left\", \"yref\": \"y1\", \"text\": \"739\", \"align\": \"left\", \"y\": 18, \"x\": -0.45, \"font\": {\"color\": \"#000000\"}, \"showarrow\": false}, {\"xref\": \"x1\", \"xanchor\": \"left\", \"yref\": \"y1\", \"text\": \"green onions\", \"align\": \"left\", \"y\": 18, \"x\": 0.55, \"font\": {\"color\": \"#000000\"}, \"showarrow\": false}, {\"xref\": \"x1\", \"xanchor\": \"left\", \"yref\": \"y1\", \"text\": \"728\", \"align\": \"left\", \"y\": 19, \"x\": -0.45, \"font\": {\"color\": \"#000000\"}, \"showarrow\": false}, {\"xref\": \"x1\", \"xanchor\": \"left\", \"yref\": \"y1\", \"text\": \"carrot\", \"align\": \"left\", \"y\": 19, \"x\": 0.55, \"font\": {\"color\": \"#000000\"}, \"showarrow\": false}, {\"xref\": \"x1\", \"xanchor\": \"left\", \"yref\": \"y1\", \"text\": \"692\", \"align\": \"left\", \"y\": 20, \"x\": -0.45, \"font\": {\"color\": \"#000000\"}, \"showarrow\": false}, {\"xref\": \"x1\", \"xanchor\": \"left\", \"yref\": \"y1\", \"text\": \"unsalted butter\", \"align\": \"left\", \"y\": 20, \"x\": 0.55, \"font\": {\"color\": \"#000000\"}, \"showarrow\": false}]}, {\"linkText\": \"Export to plot.ly\", \"showLink\": true}).then(function() {\n",
       "    $(\".a04d1c5a-5648-4539-9bf5-5b63cd7d999d.loading\").remove();\n",
       "})</script>"
      ],
      "text/plain": [
       "<IPython.core.display.HTML object>"
      ]
     },
     "metadata": {},
     "output_type": "display_data"
    }
   ],
   "source": [
    "ingredient_figtest = pd.DataFrame(ingredient_distributiontest, index=[0]).transpose()[0].sort(ascending=False, inplace=False)\n",
    "table = FF.create_table(pd.DataFrame({ 'Ingredients' :ingredient_figtest[:20].keys(), 'Count' : ingredient_figtest[:20].values}))\n",
    "\n",
    "ingredientstest = ingredient_figtest[:20].keys()\n",
    "ingredientscounttest = ingredient_figtest[:20].values\n",
    "\n",
    "ingredientstest = ingredientstest[::-1]\n",
    "ingredientscounttest = ingredientscounttest[::-1]\n",
    "\n",
    "data = [\n",
    "    go.Bar(\n",
    "        x=ingredientscounttest,\n",
    "        y=ingredientstest,\n",
    "        orientation = 'h',\n",
    "        xaxis='x2', yaxis='y2'\n",
    "    )\n",
    "]\n",
    "table['data'].extend(data)\n",
    "\n",
    "# Edit layout for subplots\n",
    "table.layout.xaxis.update({'domain': [0, .3]})\n",
    "table.layout.xaxis2.update({'domain': [0.45, 1.]})\n",
    "# The graph's yaxis MUST BE anchored to the graph's xaxis\n",
    "table.layout.yaxis2.update({'anchor': 'x2'})\n",
    "# Update the margins to add a title and see graph x-labels. \n",
    "table.layout.margin.update({'t':50, 'b':100})\n",
    "table.layout.update({'title': 'Top 10 Most Used Ingredients in Test Set'})\n",
    "\n",
    "iplot(table)"
   ]
  },
  {
   "cell_type": "markdown",
   "metadata": {},
   "source": [
    "### Ingredients Design Matrix"
   ]
  },
  {
   "cell_type": "code",
   "execution_count": 34,
   "metadata": {
    "collapsed": false
   },
   "outputs": [
    {
     "name": "stdout",
     "output_type": "stream",
     "text": [
      "CPU times: user 4min 45s, sys: 4.96 s, total: 4min 50s\n",
      "Wall time: 4min 49s\n"
     ]
    }
   ],
   "source": [
    "%%time\n",
    "\n",
    "# The number of times each ingredient is used is stored in the 'sumbags' dictionary\n",
    "bags_of_words = [ Counter(clean_recipe(recipe)) for recipe in full_df.ingredients ]\n",
    "sumbags = sum(bags_of_words, Counter())"
   ]
  },
  {
   "cell_type": "code",
   "execution_count": 35,
   "metadata": {
    "collapsed": false
   },
   "outputs": [
    {
     "name": "stdout",
     "output_type": "stream",
     "text": [
      "CPU times: user 5min 3s, sys: 12.6 s, total: 5min 16s\n",
      "Wall time: 5min 17s\n"
     ]
    }
   ],
   "source": [
    "%%time\n",
    "\n",
    "ingredientdf = full_df\n",
    "\n",
    "for ingredient in list(sumbags.keys()):\n",
    "    ingredientdf[ingredient] = ingredientdf.ingredients.apply(lambda x: ingredient in x)\n",
    "#cuisine = ingredientdf.drop(['ingredients', 'id','index'], axis=1).groupby('cuisine')\n",
    "cuisine = ingredientdf.drop(['ingredients', 'id'], axis=1).groupby('cuisine')\n",
    "cuisine = cuisine.aggregate(np.sum)\n"
   ]
  },
  {
   "cell_type": "code",
   "execution_count": 36,
   "metadata": {
    "collapsed": false
   },
   "outputs": [
    {
     "data": {
      "text/html": [
       "<div>\n",
       "<table border=\"1\" class=\"dataframe\">\n",
       "  <thead>\n",
       "    <tr style=\"text-align: right;\">\n",
       "      <th></th>\n",
       "      <th>low-sodium fat-free chicken broth</th>\n",
       "      <th>sweetened coconut</th>\n",
       "      <th>baking chocolate</th>\n",
       "      <th>egg roll wrappers</th>\n",
       "      <th>bottled low sodium salsa</th>\n",
       "      <th>vegan parmesan cheese</th>\n",
       "      <th>clam sauce</th>\n",
       "      <th>sushi nori</th>\n",
       "      <th>broiler</th>\n",
       "      <th>jalapeno chilies</th>\n",
       "      <th>...</th>\n",
       "      <th>chioggia</th>\n",
       "      <th>red leaf lettuce</th>\n",
       "      <th>margarita salt</th>\n",
       "      <th>low sodium canned chicken broth</th>\n",
       "      <th>progresso reduced sodium chicken broth</th>\n",
       "      <th>seedless raspberry jam</th>\n",
       "      <th>steamed white rice</th>\n",
       "      <th>black radish</th>\n",
       "      <th>cinnamon ice cream</th>\n",
       "      <th>lower sodium beef broth</th>\n",
       "    </tr>\n",
       "    <tr>\n",
       "      <th>cuisine</th>\n",
       "      <th></th>\n",
       "      <th></th>\n",
       "      <th></th>\n",
       "      <th></th>\n",
       "      <th></th>\n",
       "      <th></th>\n",
       "      <th></th>\n",
       "      <th></th>\n",
       "      <th></th>\n",
       "      <th></th>\n",
       "      <th></th>\n",
       "      <th></th>\n",
       "      <th></th>\n",
       "      <th></th>\n",
       "      <th></th>\n",
       "      <th></th>\n",
       "      <th></th>\n",
       "      <th></th>\n",
       "      <th></th>\n",
       "      <th></th>\n",
       "      <th></th>\n",
       "    </tr>\n",
       "  </thead>\n",
       "  <tbody>\n",
       "    <tr>\n",
       "      <th>brazilian</th>\n",
       "      <td>0</td>\n",
       "      <td>1</td>\n",
       "      <td>0</td>\n",
       "      <td>0</td>\n",
       "      <td>0</td>\n",
       "      <td>0</td>\n",
       "      <td>0</td>\n",
       "      <td>0</td>\n",
       "      <td>0</td>\n",
       "      <td>19</td>\n",
       "      <td>...</td>\n",
       "      <td>0</td>\n",
       "      <td>0</td>\n",
       "      <td>0</td>\n",
       "      <td>0</td>\n",
       "      <td>0</td>\n",
       "      <td>0</td>\n",
       "      <td>0</td>\n",
       "      <td>0</td>\n",
       "      <td>0</td>\n",
       "      <td>0</td>\n",
       "    </tr>\n",
       "    <tr>\n",
       "      <th>british</th>\n",
       "      <td>0</td>\n",
       "      <td>0</td>\n",
       "      <td>0</td>\n",
       "      <td>0</td>\n",
       "      <td>0</td>\n",
       "      <td>0</td>\n",
       "      <td>0</td>\n",
       "      <td>0</td>\n",
       "      <td>0</td>\n",
       "      <td>1</td>\n",
       "      <td>...</td>\n",
       "      <td>0</td>\n",
       "      <td>0</td>\n",
       "      <td>0</td>\n",
       "      <td>0</td>\n",
       "      <td>0</td>\n",
       "      <td>1</td>\n",
       "      <td>0</td>\n",
       "      <td>0</td>\n",
       "      <td>0</td>\n",
       "      <td>1</td>\n",
       "    </tr>\n",
       "    <tr>\n",
       "      <th>cajun_creole</th>\n",
       "      <td>2</td>\n",
       "      <td>0</td>\n",
       "      <td>0</td>\n",
       "      <td>0</td>\n",
       "      <td>0</td>\n",
       "      <td>0</td>\n",
       "      <td>0</td>\n",
       "      <td>0</td>\n",
       "      <td>0</td>\n",
       "      <td>49</td>\n",
       "      <td>...</td>\n",
       "      <td>0</td>\n",
       "      <td>0</td>\n",
       "      <td>0</td>\n",
       "      <td>0</td>\n",
       "      <td>1</td>\n",
       "      <td>0</td>\n",
       "      <td>5</td>\n",
       "      <td>0</td>\n",
       "      <td>0</td>\n",
       "      <td>0</td>\n",
       "    </tr>\n",
       "    <tr>\n",
       "      <th>chinese</th>\n",
       "      <td>1</td>\n",
       "      <td>1</td>\n",
       "      <td>0</td>\n",
       "      <td>38</td>\n",
       "      <td>0</td>\n",
       "      <td>0</td>\n",
       "      <td>0</td>\n",
       "      <td>0</td>\n",
       "      <td>0</td>\n",
       "      <td>20</td>\n",
       "      <td>...</td>\n",
       "      <td>0</td>\n",
       "      <td>1</td>\n",
       "      <td>0</td>\n",
       "      <td>0</td>\n",
       "      <td>0</td>\n",
       "      <td>0</td>\n",
       "      <td>15</td>\n",
       "      <td>0</td>\n",
       "      <td>0</td>\n",
       "      <td>0</td>\n",
       "    </tr>\n",
       "    <tr>\n",
       "      <th>filipino</th>\n",
       "      <td>0</td>\n",
       "      <td>0</td>\n",
       "      <td>0</td>\n",
       "      <td>3</td>\n",
       "      <td>0</td>\n",
       "      <td>0</td>\n",
       "      <td>0</td>\n",
       "      <td>0</td>\n",
       "      <td>0</td>\n",
       "      <td>11</td>\n",
       "      <td>...</td>\n",
       "      <td>0</td>\n",
       "      <td>0</td>\n",
       "      <td>0</td>\n",
       "      <td>0</td>\n",
       "      <td>0</td>\n",
       "      <td>0</td>\n",
       "      <td>2</td>\n",
       "      <td>0</td>\n",
       "      <td>0</td>\n",
       "      <td>0</td>\n",
       "    </tr>\n",
       "  </tbody>\n",
       "</table>\n",
       "<p>5 rows × 6712 columns</p>\n",
       "</div>"
      ],
      "text/plain": [
       "              low-sodium fat-free chicken broth  sweetened coconut  \\\n",
       "cuisine                                                              \n",
       "brazilian                                     0                  1   \n",
       "british                                       0                  0   \n",
       "cajun_creole                                  2                  0   \n",
       "chinese                                       1                  1   \n",
       "filipino                                      0                  0   \n",
       "\n",
       "              baking chocolate  egg roll wrappers  bottled low sodium salsa  \\\n",
       "cuisine                                                                       \n",
       "brazilian                    0                  0                         0   \n",
       "british                      0                  0                         0   \n",
       "cajun_creole                 0                  0                         0   \n",
       "chinese                      0                 38                         0   \n",
       "filipino                     0                  3                         0   \n",
       "\n",
       "              vegan parmesan cheese  clam sauce  sushi nori  broiler  \\\n",
       "cuisine                                                                \n",
       "brazilian                         0           0           0        0   \n",
       "british                           0           0           0        0   \n",
       "cajun_creole                      0           0           0        0   \n",
       "chinese                           0           0           0        0   \n",
       "filipino                          0           0           0        0   \n",
       "\n",
       "              jalapeno chilies           ...             chioggia  \\\n",
       "cuisine                                  ...                        \n",
       "brazilian                   19           ...                    0   \n",
       "british                      1           ...                    0   \n",
       "cajun_creole                49           ...                    0   \n",
       "chinese                     20           ...                    0   \n",
       "filipino                    11           ...                    0   \n",
       "\n",
       "              red leaf lettuce  margarita salt  \\\n",
       "cuisine                                          \n",
       "brazilian                    0               0   \n",
       "british                      0               0   \n",
       "cajun_creole                 0               0   \n",
       "chinese                      1               0   \n",
       "filipino                     0               0   \n",
       "\n",
       "              low sodium canned chicken broth  \\\n",
       "cuisine                                         \n",
       "brazilian                                   0   \n",
       "british                                     0   \n",
       "cajun_creole                                0   \n",
       "chinese                                     0   \n",
       "filipino                                    0   \n",
       "\n",
       "              progresso reduced sodium chicken broth  seedless raspberry jam  \\\n",
       "cuisine                                                                        \n",
       "brazilian                                          0                       0   \n",
       "british                                            0                       1   \n",
       "cajun_creole                                       1                       0   \n",
       "chinese                                            0                       0   \n",
       "filipino                                           0                       0   \n",
       "\n",
       "              steamed white rice  black radish  cinnamon ice cream  \\\n",
       "cuisine                                                              \n",
       "brazilian                      0             0                   0   \n",
       "british                        0             0                   0   \n",
       "cajun_creole                   5             0                   0   \n",
       "chinese                       15             0                   0   \n",
       "filipino                       2             0                   0   \n",
       "\n",
       "              lower sodium beef broth  \n",
       "cuisine                                \n",
       "brazilian                           0  \n",
       "british                             1  \n",
       "cajun_creole                        0  \n",
       "chinese                             0  \n",
       "filipino                            0  \n",
       "\n",
       "[5 rows x 6712 columns]"
      ]
     },
     "execution_count": 36,
     "metadata": {},
     "output_type": "execute_result"
    }
   ],
   "source": [
    "cuisine.head()"
   ]
  },
  {
   "cell_type": "markdown",
   "metadata": {},
   "source": [
    "### Ingredients Distribution Per Cuisine"
   ]
  },
  {
   "cell_type": "code",
   "execution_count": 37,
   "metadata": {
    "collapsed": false
   },
   "outputs": [
    {
     "name": "stdout",
     "output_type": "stream",
     "text": [
      "CPU times: user 283 µs, sys: 45 µs, total: 328 µs\n",
      "Wall time: 303 µs\n"
     ]
    }
   ],
   "source": [
    "%%time\n",
    "# Find Cuisine Distribution\n",
    "ingredients = ingredient_fig[:10].keys()\n",
    "ingredientscount = ingredient_fig[:10].values"
   ]
  },
  {
   "cell_type": "code",
   "execution_count": 38,
   "metadata": {
    "collapsed": false,
    "scrolled": false
   },
   "outputs": [
    {
     "name": "stdout",
     "output_type": "stream",
     "text": [
      "(u'brazilian', u'british', u'cajun_creole', u'chinese', u'filipino', u'french', u'greek', u'indian', u'irish', u'italian', u'jamaican', u'japanese', u'korean', u'mexican', u'moroccan', u'russian', u'southern_us', u'spanish', u'thai', u'vietnamese')\n",
      "This is the format of your plot grid:\n",
      "[ (1,1) x1,y1 ]     [ (1,2) x2,y2 ]   \n",
      "[ (2,1) x3,y3 ]     [ (2,2) x4,y4 ]   \n",
      "[ (3,1) x5,y5 ]     [ (3,2) x6,y6 ]   \n",
      "[ (4,1) x7,y7 ]     [ (4,2) x8,y8 ]   \n",
      "[ (5,1) x9,y9 ]     [ (5,2) x10,y10 ] \n",
      "[ (6,1) x11,y11 ]   [ (6,2) x12,y12 ] \n",
      "[ (7,1) x13,y13 ]   [ (7,2) x14,y14 ] \n",
      "[ (8,1) x15,y15 ]   [ (8,2) x16,y16 ] \n",
      "[ (9,1) x17,y17 ]   [ (9,2) x18,y18 ] \n",
      "[ (10,1) x19,y19 ]  [ (10,2) x20,y20 ]\n",
      "\n"
     ]
    },
    {
     "data": {
      "text/html": [
       "<script type=\"text/javascript\">window.PLOTLYENV=window.PLOTLYENV || {};window.PLOTLYENV.BASE_URL=\"https://plot.ly\";</script>"
      ],
      "text/plain": [
       "<IPython.core.display.HTML object>"
      ]
     },
     "metadata": {},
     "output_type": "display_data"
    },
    {
     "data": {
      "text/html": [
       "<div class=\"9f8e1747-d4aa-4c21-9e37-ecb673f6e1f0 loading\" style=\"color: rgb(50,50,50);\">Drawing...</div><div id=\"9f8e1747-d4aa-4c21-9e37-ecb673f6e1f0\" style=\"height: 2800; width: 100%;\" class=\"plotly-graph-div\"></div><script type=\"text/javascript\">Plotly.plot(\"9f8e1747-d4aa-4c21-9e37-ecb673f6e1f0\", [{\"orientation\": \"h\", \"yaxis\": \"y1\", \"xaxis\": \"x1\", \"y\": [\"salt\", \"onion\", \"olive oil\", \"lime\", \"water\", \"garlic cloves\", \"garlic\", \"cachaca\", \"sugar\", \"tomato\"], \"x\": [194.0, 133.0, 118.0, 89.0, 87.0, 83.0, 82.0, 70.0, 69.0, 63.0], \"type\": \"bar\"}, {\"orientation\": \"h\", \"yaxis\": \"y2\", \"xaxis\": \"x2\", \"y\": [\"salt\", \"all-purpose flour\", \"butter\", \"milk\", \"egg\", \"unsalted butter\", \"sugar\", \"onion\", \"baking powder\", \"large eggs\"], \"x\": [407.0, 238.0, 222.0, 202.0, 191.0, 191.0, 176.0, 142.0, 122.0, 110.0], \"type\": \"bar\"}, {\"orientation\": \"h\", \"yaxis\": \"y3\", \"xaxis\": \"x3\", \"y\": [\"salt\", \"onion\", \"garlic\", \"green bell pepper\", \"butter\", \"olive oil\", \"cayenne pepper\", \"cajun seasoning\", \"all-purpose flour\", \"water\"], \"x\": [743.0, 529.0, 370.0, 336.0, 334.0, 316.0, 297.0, 293.0, 291.0, 280.0], \"type\": \"bar\"}, {\"orientation\": \"h\", \"yaxis\": \"y4\", \"xaxis\": \"x4\", \"y\": [\"soy sauce\", \"sesame oil\", \"salt\", \"corn starch\", \"sugar\", \"garlic\", \"water\", \"green onions\", \"vegetable oil\", \"scallion\"], \"x\": [1363.0, 915.0, 907.0, 906.0, 824.0, 763.0, 762.0, 628.0, 602.0, 591.0], \"type\": \"bar\"}, {\"orientation\": \"h\", \"yaxis\": \"y5\", \"xaxis\": \"x5\", \"y\": [\"salt\", \"garlic\", \"water\", \"onion\", \"soy sauce\", \"pepper\", \"oil\", \"sugar\", \"carrot\", \"ground black pepper\"], \"x\": [421.0, 325.0, 310.0, 310.0, 251.0, 199.0, 166.0, 136.0, 128.0, 124.0], \"type\": \"bar\"}, {\"orientation\": \"h\", \"yaxis\": \"y6\", \"xaxis\": \"x6\", \"y\": [\"salt\", \"sugar\", \"all-purpose flour\", \"unsalted butter\", \"olive oil\", \"butter\", \"water\", \"large eggs\", \"garlic cloves\", \"ground black pepper\"], \"x\": [1203.0, 637.0, 593.0, 592.0, 516.0, 514.0, 439.0, 415.0, 403.0, 385.0], \"type\": \"bar\"}, {\"orientation\": \"h\", \"yaxis\": \"y7\", \"xaxis\": \"x7\", \"y\": [\"salt\", \"olive oil\", \"dried oregano\", \"garlic cloves\", \"feta cheese crumbles\", \"extra-virgin olive oil\", \"fresh lemon juice\", \"ground black pepper\", \"garlic\", \"pepper\"], \"x\": [571.0, 503.0, 266.0, 253.0, 252.0, 229.0, 222.0, 220.0, 216.0, 203.0], \"type\": \"bar\"}, {\"orientation\": \"h\", \"yaxis\": \"y8\", \"xaxis\": \"x8\", \"y\": [\"salt\", \"onion\", \"garam masala\", \"water\", \"ground turmeric\", \"garlic\", \"cumin seed\", \"ground cumin\", \"vegetable oil\", \"oil\"], \"x\": [1934.0, 1195.0, 862.0, 820.0, 728.0, 726.0, 697.0, 683.0, 593.0, 546.0], \"type\": \"bar\"}, {\"orientation\": \"h\", \"yaxis\": \"y9\", \"xaxis\": \"x9\", \"y\": [\"salt\", \"butter\", \"all-purpose flour\", \"onion\", \"potato\", \"sugar\", \"baking soda\", \"baking powder\", \"milk\", \"carrot\"], \"x\": [376.0, 219.0, 219.0, 132.0, 120.0, 120.0, 115.0, 112.0, 111.0, 105.0], \"type\": \"bar\"}, {\"orientation\": \"h\", \"yaxis\": \"y10\", \"xaxis\": \"x10\", \"y\": [\"salt\", \"olive oil\", \"garlic cloves\", \"grated parmesan cheese\", \"garlic\", \"ground black pepper\", \"extra-virgin olive oil\", \"onion\", \"water\", \"butter\"], \"x\": [3454.0, 3111.0, 1619.0, 1579.0, 1471.0, 1444.0, 1362.0, 1240.0, 1052.0, 1029.0], \"type\": \"bar\"}, {\"orientation\": \"h\", \"yaxis\": \"y11\", \"xaxis\": \"x11\", \"y\": [\"salt\", \"onion\", \"water\", \"garlic\", \"ground allspice\", \"pepper\", \"scallion\", \"dried thyme\", \"black pepper\", \"garlic cloves\"], \"x\": [332.0, 173.0, 153.0, 139.0, 128.0, 125.0, 111.0, 105.0, 103.0, 101.0], \"type\": \"bar\"}, {\"orientation\": \"h\", \"yaxis\": \"y12\", \"xaxis\": \"x12\", \"y\": [\"soy sauce\", \"salt\", \"mirin\", \"sugar\", \"water\", \"sake\", \"rice vinegar\", \"vegetable oil\", \"scallion\", \"ginger\"], \"x\": [561.0, 422.0, 402.0, 401.0, 383.0, 289.0, 261.0, 245.0, 229.0, 190.0], \"type\": \"bar\"}, {\"orientation\": \"h\", \"yaxis\": \"y13\", \"xaxis\": \"x13\", \"y\": [\"soy sauce\", \"sesame oil\", \"garlic\", \"green onions\", \"sugar\", \"salt\", \"water\", \"sesame seeds\", \"onion\", \"scallion\"], \"x\": [427.0, 403.0, 303.0, 293.0, 266.0, 253.0, 242.0, 223.0, 208.0, 196.0], \"type\": \"bar\"}, {\"orientation\": \"h\", \"yaxis\": \"y14\", \"xaxis\": \"x14\", \"y\": [\"salt\", \"onion\", \"ground cumin\", \"garlic\", \"olive oil\", \"chili powder\", \"jalapeno chilies\", \"sour cream\", \"avocado\", \"corn tortillas\"], \"x\": [2720.0, 1493.0, 1346.0, 1317.0, 1289.0, 1236.0, 1146.0, 1076.0, 1043.0, 946.0], \"type\": \"bar\"}, {\"orientation\": \"h\", \"yaxis\": \"y15\", \"xaxis\": \"x15\", \"y\": [\"salt\", \"olive oil\", \"ground cumin\", \"onion\", \"garlic cloves\", \"ground cinnamon\", \"water\", \"ground ginger\", \"carrot\", \"paprika\"], \"x\": [413.0, 412.0, 348.0, 280.0, 223.0, 223.0, 182.0, 175.0, 155.0, 150.0], \"type\": \"bar\"}, {\"orientation\": \"h\", \"yaxis\": \"y16\", \"xaxis\": \"x16\", \"y\": [\"salt\", \"sugar\", \"onion\", \"all-purpose flour\", \"sour cream\", \"egg\", \"water\", \"butter\", \"unsalted butter\", \"large eggs\"], \"x\": [288.0, 155.0, 145.0, 123.0, 117.0, 112.0, 111.0, 104.0, 93.0, 85.0], \"type\": \"bar\"}, {\"orientation\": \"h\", \"yaxis\": \"y17\", \"xaxis\": \"x17\", \"y\": [\"salt\", \"butter\", \"all-purpose flour\", \"sugar\", \"large eggs\", \"baking powder\", \"water\", \"unsalted butter\", \"milk\", \"buttermilk\"], \"x\": [2290.0, 1255.0, 1222.0, 1054.0, 746.0, 729.0, 686.0, 655.0, 645.0, 634.0], \"type\": \"bar\"}, {\"orientation\": \"h\", \"yaxis\": \"y18\", \"xaxis\": \"x18\", \"y\": [\"salt\", \"olive oil\", \"garlic cloves\", \"extra-virgin olive oil\", \"onion\", \"water\", \"tomato\", \"ground black pepper\", \"red bell pepper\", \"pepper\"], \"x\": [460.0, 387.0, 290.0, 255.0, 253.0, 158.0, 151.0, 149.0, 142.0, 133.0], \"type\": \"bar\"}, {\"orientation\": \"h\", \"yaxis\": \"y19\", \"xaxis\": \"x19\", \"y\": [\"fish sauce\", \"garlic\", \"salt\", \"coconut milk\", \"vegetable oil\", \"soy sauce\", \"sugar\", \"water\", \"garlic cloves\", \"fresh lime juice\"], \"x\": [625.0, 414.0, 396.0, 353.0, 335.0, 332.0, 330.0, 310.0, 299.0, 273.0], \"type\": \"bar\"}, {\"orientation\": \"h\", \"yaxis\": \"y20\", \"xaxis\": \"x20\", \"y\": [\"fish sauce\", \"sugar\", \"salt\", \"garlic\", \"water\", \"carrot\", \"soy sauce\", \"shallot\", \"garlic cloves\", \"vegetable oil\"], \"x\": [392.0, 344.0, 264.0, 239.0, 227.0, 196.0, 155.0, 151.0, 148.0, 145.0], \"type\": \"bar\"}], {\"xaxis19\": {\"domain\": [0.0, 0.45], \"anchor\": \"y19\"}, \"xaxis18\": {\"domain\": [0.55, 1.0], \"anchor\": \"y18\"}, \"xaxis17\": {\"domain\": [0.0, 0.45], \"anchor\": \"y17\"}, \"xaxis16\": {\"domain\": [0.55, 1.0], \"anchor\": \"y16\"}, \"xaxis15\": {\"domain\": [0.0, 0.45], \"anchor\": \"y15\"}, \"xaxis14\": {\"domain\": [0.55, 1.0], \"anchor\": \"y14\"}, \"xaxis13\": {\"domain\": [0.0, 0.45], \"anchor\": \"y13\"}, \"xaxis12\": {\"domain\": [0.55, 1.0], \"anchor\": \"y12\"}, \"xaxis11\": {\"domain\": [0.0, 0.45], \"anchor\": \"y11\"}, \"xaxis10\": {\"domain\": [0.55, 1.0], \"anchor\": \"y10\"}, \"yaxis1\": {\"domain\": [0.9450000000000001, 1.0], \"anchor\": \"x1\"}, \"yaxis2\": {\"domain\": [0.9450000000000001, 1.0], \"anchor\": \"x2\"}, \"yaxis3\": {\"domain\": [0.8400000000000001, 0.8950000000000001], \"anchor\": \"x3\"}, \"yaxis4\": {\"domain\": [0.8400000000000001, 0.8950000000000001], \"anchor\": \"x4\"}, \"yaxis5\": {\"domain\": [0.7350000000000001, 0.7900000000000001], \"anchor\": \"x5\"}, \"yaxis6\": {\"domain\": [0.7350000000000001, 0.7900000000000001], \"anchor\": \"x6\"}, \"yaxis7\": {\"domain\": [0.6300000000000001, 0.6850000000000002], \"anchor\": \"x7\"}, \"yaxis8\": {\"domain\": [0.6300000000000001, 0.6850000000000002], \"anchor\": \"x8\"}, \"yaxis9\": {\"domain\": [0.525, 0.5800000000000001], \"anchor\": \"x9\"}, \"title\": \"Most Used Ingredients Per Cuisine\", \"yaxis12\": {\"domain\": [0.42000000000000004, 0.47500000000000003], \"anchor\": \"x12\"}, \"yaxis13\": {\"domain\": [0.31500000000000006, 0.37000000000000005], \"anchor\": \"x13\"}, \"yaxis10\": {\"domain\": [0.525, 0.5800000000000001], \"anchor\": \"x10\"}, \"yaxis11\": {\"domain\": [0.42000000000000004, 0.47500000000000003], \"anchor\": \"x11\"}, \"yaxis16\": {\"domain\": [0.21000000000000002, 0.265], \"anchor\": \"x16\"}, \"yaxis17\": {\"domain\": [0.10500000000000001, 0.16000000000000003], \"anchor\": \"x17\"}, \"yaxis14\": {\"domain\": [0.31500000000000006, 0.37000000000000005], \"anchor\": \"x14\"}, \"yaxis15\": {\"domain\": [0.21000000000000002, 0.265], \"anchor\": \"x15\"}, \"yaxis18\": {\"domain\": [0.10500000000000001, 0.16000000000000003], \"anchor\": \"x18\"}, \"yaxis19\": {\"domain\": [0.0, 0.05500000000000001], \"anchor\": \"x19\"}, \"annotations\": [{\"yanchor\": \"bottom\", \"xref\": \"paper\", \"xanchor\": \"center\", \"yref\": \"paper\", \"text\": \"brazilian\", \"y\": 1.0, \"x\": 0.225, \"font\": {\"size\": 16}, \"showarrow\": false}, {\"yanchor\": \"bottom\", \"xref\": \"paper\", \"xanchor\": \"center\", \"yref\": \"paper\", \"text\": \"british\", \"y\": 1.0, \"x\": 0.775, \"font\": {\"size\": 16}, \"showarrow\": false}, {\"yanchor\": \"bottom\", \"xref\": \"paper\", \"xanchor\": \"center\", \"yref\": \"paper\", \"text\": \"cajun_creole\", \"y\": 0.8950000000000001, \"x\": 0.225, \"font\": {\"size\": 16}, \"showarrow\": false}, {\"yanchor\": \"bottom\", \"xref\": \"paper\", \"xanchor\": \"center\", \"yref\": \"paper\", \"text\": \"chinese\", \"y\": 0.8950000000000001, \"x\": 0.775, \"font\": {\"size\": 16}, \"showarrow\": false}, {\"yanchor\": \"bottom\", \"xref\": \"paper\", \"xanchor\": \"center\", \"yref\": \"paper\", \"text\": \"filipino\", \"y\": 0.7900000000000001, \"x\": 0.225, \"font\": {\"size\": 16}, \"showarrow\": false}, {\"yanchor\": \"bottom\", \"xref\": \"paper\", \"xanchor\": \"center\", \"yref\": \"paper\", \"text\": \"french\", \"y\": 0.7900000000000001, \"x\": 0.775, \"font\": {\"size\": 16}, \"showarrow\": false}, {\"yanchor\": \"bottom\", \"xref\": \"paper\", \"xanchor\": \"center\", \"yref\": \"paper\", \"text\": \"greek\", \"y\": 0.6850000000000002, \"x\": 0.225, \"font\": {\"size\": 16}, \"showarrow\": false}, {\"yanchor\": \"bottom\", \"xref\": \"paper\", \"xanchor\": \"center\", \"yref\": \"paper\", \"text\": \"indian\", \"y\": 0.6850000000000002, \"x\": 0.775, \"font\": {\"size\": 16}, \"showarrow\": false}, {\"yanchor\": \"bottom\", \"xref\": \"paper\", \"xanchor\": \"center\", \"yref\": \"paper\", \"text\": \"irish\", \"y\": 0.5800000000000001, \"x\": 0.225, \"font\": {\"size\": 16}, \"showarrow\": false}, {\"yanchor\": \"bottom\", \"xref\": \"paper\", \"xanchor\": \"center\", \"yref\": \"paper\", \"text\": \"italian\", \"y\": 0.5800000000000001, \"x\": 0.775, \"font\": {\"size\": 16}, \"showarrow\": false}, {\"yanchor\": \"bottom\", \"xref\": \"paper\", \"xanchor\": \"center\", \"yref\": \"paper\", \"text\": \"jamaican\", \"y\": 0.47500000000000003, \"x\": 0.225, \"font\": {\"size\": 16}, \"showarrow\": false}, {\"yanchor\": \"bottom\", \"xref\": \"paper\", \"xanchor\": \"center\", \"yref\": \"paper\", \"text\": \"japanese\", \"y\": 0.47500000000000003, \"x\": 0.775, \"font\": {\"size\": 16}, \"showarrow\": false}, {\"yanchor\": \"bottom\", \"xref\": \"paper\", \"xanchor\": \"center\", \"yref\": \"paper\", \"text\": \"korean\", \"y\": 0.37000000000000005, \"x\": 0.225, \"font\": {\"size\": 16}, \"showarrow\": false}, {\"yanchor\": \"bottom\", \"xref\": \"paper\", \"xanchor\": \"center\", \"yref\": \"paper\", \"text\": \"mexican\", \"y\": 0.37000000000000005, \"x\": 0.775, \"font\": {\"size\": 16}, \"showarrow\": false}, {\"yanchor\": \"bottom\", \"xref\": \"paper\", \"xanchor\": \"center\", \"yref\": \"paper\", \"text\": \"moroccan\", \"y\": 0.265, \"x\": 0.225, \"font\": {\"size\": 16}, \"showarrow\": false}, {\"yanchor\": \"bottom\", \"xref\": \"paper\", \"xanchor\": \"center\", \"yref\": \"paper\", \"text\": \"russian\", \"y\": 0.265, \"x\": 0.775, \"font\": {\"size\": 16}, \"showarrow\": false}, {\"yanchor\": \"bottom\", \"xref\": \"paper\", \"xanchor\": \"center\", \"yref\": \"paper\", \"text\": \"southern_us\", \"y\": 0.16000000000000003, \"x\": 0.225, \"font\": {\"size\": 16}, \"showarrow\": false}, {\"yanchor\": \"bottom\", \"xref\": \"paper\", \"xanchor\": \"center\", \"yref\": \"paper\", \"text\": \"spanish\", \"y\": 0.16000000000000003, \"x\": 0.775, \"font\": {\"size\": 16}, \"showarrow\": false}, {\"yanchor\": \"bottom\", \"xref\": \"paper\", \"xanchor\": \"center\", \"yref\": \"paper\", \"text\": \"thai\", \"y\": 0.05500000000000001, \"x\": 0.225, \"font\": {\"size\": 16}, \"showarrow\": false}, {\"yanchor\": \"bottom\", \"xref\": \"paper\", \"xanchor\": \"center\", \"yref\": \"paper\", \"text\": \"vietnamese\", \"y\": 0.05500000000000001, \"x\": 0.775, \"font\": {\"size\": 16}, \"showarrow\": false}], \"yaxis20\": {\"domain\": [0.0, 0.05500000000000001], \"anchor\": \"x20\"}, \"xaxis20\": {\"domain\": [0.55, 1.0], \"anchor\": \"y20\"}, \"height\": 2800, \"xaxis9\": {\"domain\": [0.0, 0.45], \"anchor\": \"y9\"}, \"xaxis8\": {\"domain\": [0.55, 1.0], \"anchor\": \"y8\"}, \"xaxis7\": {\"domain\": [0.0, 0.45], \"anchor\": \"y7\"}, \"xaxis6\": {\"domain\": [0.55, 1.0], \"anchor\": \"y6\"}, \"xaxis5\": {\"domain\": [0.0, 0.45], \"anchor\": \"y5\"}, \"xaxis4\": {\"domain\": [0.55, 1.0], \"anchor\": \"y4\"}, \"xaxis3\": {\"domain\": [0.0, 0.45], \"anchor\": \"y3\"}, \"xaxis2\": {\"domain\": [0.55, 1.0], \"anchor\": \"y2\"}, \"xaxis1\": {\"domain\": [0.0, 0.45], \"anchor\": \"y1\"}}, {\"linkText\": \"Export to plot.ly\", \"showLink\": true}).then(function() {\n",
       "    $(\".9f8e1747-d4aa-4c21-9e37-ecb673f6e1f0.loading\").remove();\n",
       "})</script>"
      ],
      "text/plain": [
       "<IPython.core.display.HTML object>"
      ]
     },
     "metadata": {},
     "output_type": "display_data"
    },
    {
     "name": "stdout",
     "output_type": "stream",
     "text": [
      "CPU times: user 427 ms, sys: 61.7 ms, total: 489 ms\n",
      "Wall time: 451 ms\n"
     ]
    }
   ],
   "source": [
    "%%time\n",
    "from plotly import tools\n",
    "import plotly.plotly as py\n",
    "import plotly.graph_objs as go\n",
    "\n",
    "nametuple = ();\n",
    "for i, c in enumerate(list(cuisine.index)):\n",
    "    nametuple = nametuple + (c,)\n",
    "\n",
    "print nametuple\n",
    "\n",
    "fig = tools.make_subplots(rows=10, cols=2, subplot_titles = nametuple)\n",
    "\n",
    "for i, c in enumerate(list(cuisine.index)):    \n",
    "    trace0 = go.Bar(\n",
    "            x = cuisine.loc[c].sort(inplace=False, ascending=False)[:10].values,\n",
    "            y = cuisine.loc[c].sort(inplace=False, ascending=False)[:10].keys(),\n",
    "            orientation = 'h'\n",
    "        )\n",
    "    if i == 0:\n",
    "        fig.append_trace(trace0, 1, 1)\n",
    "    elif i == 1:\n",
    "        fig.append_trace(trace0, 1, 2)        \n",
    "    elif i == 2:\n",
    "        fig.append_trace(trace0, 2, 1)        \n",
    "    elif i == 3:\n",
    "        fig.append_trace(trace0, 2, 2)        \n",
    "    elif i == 4:\n",
    "        fig.append_trace(trace0, 3, 1)       \n",
    "    elif i == 5:\n",
    "        fig.append_trace(trace0, 3, 2)       \n",
    "    elif i == 6:\n",
    "        fig.append_trace(trace0, 4, 1)       \n",
    "    elif i == 7:\n",
    "        fig.append_trace(trace0, 4, 2)\n",
    "    elif i == 8:\n",
    "        fig.append_trace(trace0, 5, 1)\n",
    "    elif i == 9:\n",
    "        fig.append_trace(trace0, 5, 2)        \n",
    "    elif i == 10:\n",
    "        fig.append_trace(trace0, 6, 1)        \n",
    "    elif i == 11:\n",
    "        fig.append_trace(trace0, 6, 2)        \n",
    "    elif i == 12:\n",
    "        fig.append_trace(trace0, 7, 1)       \n",
    "    elif i == 13:\n",
    "        fig.append_trace(trace0, 7, 2)       \n",
    "    elif i == 14:\n",
    "        fig.append_trace(trace0, 8, 1)       \n",
    "    elif i == 15:\n",
    "        fig.append_trace(trace0, 8, 2)\n",
    "    elif i == 16:\n",
    "        fig.append_trace(trace0, 9, 1)        \n",
    "    elif i == 17:\n",
    "        fig.append_trace(trace0, 9, 2)       \n",
    "    elif i == 18:\n",
    "        fig.append_trace(trace0, 10, 1)       \n",
    "    elif i == 19:\n",
    "        fig.append_trace(trace0, 10, 2)       \n",
    "\n",
    "fig['layout'].update(height=2800,\n",
    "                     title='Most Used Ingredients Per Cuisine')\n",
    "iplot(fig)"
   ]
  },
  {
   "cell_type": "code",
   "execution_count": 151,
   "metadata": {
    "collapsed": false
   },
   "outputs": [],
   "source": [
    "for i in ingredients:\n",
    "    ingredients_all.append(i)    \n",
    "cuisinefeatures=np.unique(ingredients_all) #create a feature list of unique ingrediants."
   ]
  },
  {
   "cell_type": "code",
   "execution_count": 164,
   "metadata": {
    "collapsed": false,
    "scrolled": false
   },
   "outputs": [
    {
     "data": {
      "text/html": [
       "<script type=\"text/javascript\">window.PLOTLYENV=window.PLOTLYENV || {};window.PLOTLYENV.BASE_URL=\"https://plot.ly\";</script>"
      ],
      "text/plain": [
       "<IPython.core.display.HTML object>"
      ]
     },
     "metadata": {},
     "output_type": "display_data"
    },
    {
     "data": {
      "text/html": [
       "<div class=\"c7a7d53d-4ad4-4958-b667-6dd930dc7aa8 loading\" style=\"color: rgb(50,50,50);\">Drawing...</div><div id=\"c7a7d53d-4ad4-4958-b667-6dd930dc7aa8\" style=\"height: 1000; width: 100%;\" class=\"plotly-graph-div\"></div><script type=\"text/javascript\">Plotly.plot(\"c7a7d53d-4ad4-4958-b667-6dd930dc7aa8\", [{\"y\": [26.381692573402415, 19.818652849740932, 12.80224525043178, 7.124352331606218, 6.282383419689119, 5.138169257340241, 4.727979274611399, 3.2383419689119166, 2.7849740932642484, 2.655440414507772, 2.158894645941278, 1.4896373056994818, 1.1442141623488773, 0.9499136442141624, 0.9067357512953367, 0.7124352331606217, 0.6692573402417962, 0.38860103626943004, 0.36701208981001726, 0.2590673575129534], \"x\": [\"brazilian\", \"british\", \"cajun_creole\", \"chinese\", \"filipino\", \"french\", \"greek\", \"indian\", \"irish\", \"italian\", \"jamaican\", \"japanese\", \"korean\", \"mexican\", \"moroccan\", \"russian\", \"southern_us\", \"spanish\", \"thai\", \"vietnamese\"], \"type\": \"bar\", \"name\": \"all-purpose flour\"}, {\"y\": [25.89230451825872, 21.229626573138024, 10.604497627398391, 7.778007014648236, 6.890860325974829, 5.6323499071590675, 4.580152671755725, 4.518258716731999, 2.1456571074891686, 1.8568186507117805, 1.4441922838869403, 1.2791417371570044, 1.2378791004745202, 1.2172477821332783, 0.9903032803796162, 0.9284093253558903, 0.8871466886734063, 0.4951516401898081, 0.22694450175366207, 0.16505054672993605], \"x\": [\"brazilian\", \"british\", \"cajun_creole\", \"chinese\", \"filipino\", \"french\", \"greek\", \"indian\", \"irish\", \"italian\", \"jamaican\", \"japanese\", \"korean\", \"mexican\", \"moroccan\", \"russian\", \"southern_us\", \"spanish\", \"thai\", \"vietnamese\"], \"type\": \"bar\", \"name\": \"butter\"}, {\"y\": [13.468372423596303, 10.589907604832979, 7.853589196872779, 7.000710732054016, 6.965174129353234, 6.538734896943852, 6.218905472636816, 6.041222459132907, 5.50817341862118, 5.401563610518834, 4.584221748400854, 4.548685145700071, 3.731343283582089, 2.736318407960199, 2.0966595593461266, 1.7768301350390905, 1.5636105188343994, 1.3859275053304905, 1.0660980810234542, 0.9239516702203269], \"x\": [\"brazilian\", \"british\", \"cajun_creole\", \"chinese\", \"filipino\", \"french\", \"greek\", \"indian\", \"irish\", \"italian\", \"jamaican\", \"japanese\", \"korean\", \"mexican\", \"moroccan\", \"russian\", \"southern_us\", \"spanish\", \"thai\", \"vietnamese\"], \"type\": \"bar\", \"name\": \"carrots\"}, {\"y\": [18.506493506493506, 18.358913813459267, 9.622195985832349, 8.500590318772137, 5.63754427390791, 5.460448642266824, 4.250295159386068, 3.3057851239669422, 3.128689492325856, 3.0991735537190084, 2.744982290436836, 2.656434474616293, 2.5974025974025974, 2.5678866587957496, 2.3907910271546635, 2.3612750885478158, 1.5348288075560803, 1.2101534828807556, 1.0920897284533648, 0.974025974025974], \"x\": [\"brazilian\", \"british\", \"cajun_creole\", \"chinese\", \"filipino\", \"french\", \"greek\", \"indian\", \"irish\", \"italian\", \"jamaican\", \"japanese\", \"korean\", \"mexican\", \"moroccan\", \"russian\", \"southern_us\", \"spanish\", \"thai\", \"vietnamese\"], \"type\": \"bar\", \"name\": \"eggs\"}, {\"y\": [19.932249322493227, 17.845528455284555, 10.338753387533876, 9.83739837398374, 5.609756097560976, 5.013550135501355, 4.403794037940379, 4.105691056910569, 3.509485094850948, 3.2384823848238478, 2.9268292682926833, 2.899728997289973, 2.2493224932249323, 1.937669376693767, 1.8834688346883468, 1.7344173441734418, 1.1111111111111112, 0.6910569105691057, 0.4607046070460705, 0.27100271002710025], \"x\": [\"brazilian\", \"british\", \"cajun_creole\", \"chinese\", \"filipino\", \"french\", \"greek\", \"indian\", \"irish\", \"italian\", \"jamaican\", \"japanese\", \"korean\", \"mexican\", \"moroccan\", \"russian\", \"southern_us\", \"spanish\", \"thai\", \"vietnamese\"], \"type\": \"bar\", \"name\": \"garlic\"}, {\"y\": [25.96215522771007, 14.769082745349582, 7.152020525978191, 6.751122514432328, 6.462475946119308, 4.8268120590121875, 4.794740218088518, 4.650416933932008, 4.441949967928159, 4.057087876844131, 3.5760102629890955, 2.7261064785118667, 2.3733162283515075, 1.6196279666452855, 1.4592687620269404, 1.3951250801796025, 1.3309813983322643, 0.689544579858884, 0.49711353431686983, 0.46504169339320073], \"x\": [\"brazilian\", \"british\", \"cajun_creole\", \"chinese\", \"filipino\", \"french\", \"greek\", \"indian\", \"irish\", \"italian\", \"jamaican\", \"japanese\", \"korean\", \"mexican\", \"moroccan\", \"russian\", \"southern_us\", \"spanish\", \"thai\", \"vietnamese\"], \"type\": \"bar\", \"name\": \"garlic cloves\"}, {\"y\": [20.727745289148796, 20.402858999350226, 9.519168291098115, 8.317089018843404, 8.284600389863547, 5.685510071474983, 5.685510071474983, 4.678362573099415, 3.866146848602989, 2.111760883690708, 2.111760883690708, 1.7868745938921378, 1.5269655620532814, 1.3320337881741389, 1.0396361273554255, 0.8122157244964262, 0.7472384665367121, 0.649772579597141, 0.4873294346978557, 0.22742040285899934], \"x\": [\"brazilian\", \"british\", \"cajun_creole\", \"chinese\", \"filipino\", \"french\", \"greek\", \"indian\", \"irish\", \"italian\", \"jamaican\", \"japanese\", \"korean\", \"mexican\", \"moroccan\", \"russian\", \"southern_us\", \"spanish\", \"thai\", \"vietnamese\"], \"type\": \"bar\", \"name\": \"green onions\"}, {\"y\": [30.183946488294318, 12.06103678929766, 9.71989966555184, 8.047658862876254, 5.539297658862876, 4.598662207357859, 4.389632107023411, 3.198160535117057, 3.1145484949832776, 3.072742474916388, 2.591973244147157, 2.1739130434782608, 1.9230769230769231, 1.8603678929765888, 1.5050167224080269, 1.484113712374582, 1.3795986622073577, 1.1078595317725752, 1.0451505016722409, 1.0033444816053512], \"x\": [\"brazilian\", \"british\", \"cajun_creole\", \"chinese\", \"filipino\", \"french\", \"greek\", \"indian\", \"irish\", \"italian\", \"jamaican\", \"japanese\", \"korean\", \"mexican\", \"moroccan\", \"russian\", \"southern_us\", \"spanish\", \"thai\", \"vietnamese\"], \"type\": \"bar\", \"name\": \"ground black pepper\"}, {\"y\": [21.07292001284934, 19.30613556055252, 11.243173787343398, 8.062961773209123, 5.942820430452939, 4.9148731127529715, 3.854802441374879, 3.3729521362030197, 2.9553485383874074, 2.858978477353036, 2.7304850626405397, 2.6662383552842917, 2.5698682942499196, 2.312881464824928, 1.9274012206874396, 1.0600706713780919, 1.0600706713780919, 0.7067137809187279, 0.7067137809187279, 0.6745904272406039], \"x\": [\"brazilian\", \"british\", \"cajun_creole\", \"chinese\", \"filipino\", \"french\", \"greek\", \"indian\", \"irish\", \"italian\", \"jamaican\", \"japanese\", \"korean\", \"mexican\", \"moroccan\", \"russian\", \"southern_us\", \"spanish\", \"thai\", \"vietnamese\"], \"type\": \"bar\", \"name\": \"kosher salt\"}, {\"y\": [25.305291723202174, 21.200814111261874, 14.077340569877883, 6.41112618724559, 4.918588873812754, 3.934871099050204, 3.731343283582089, 2.8833107191316145, 2.8154681139755766, 2.6119402985074625, 2.5440976933514245, 2.4423337856173677, 2.1709633649932156, 1.187245590230665, 0.8819538670284939, 0.7462686567164178, 0.6105834464043419, 0.5766621438263229, 0.47489823609226595, 0.47489823609226595], \"x\": [\"brazilian\", \"british\", \"cajun_creole\", \"chinese\", \"filipino\", \"french\", \"greek\", \"indian\", \"irish\", \"italian\", \"jamaican\", \"japanese\", \"korean\", \"mexican\", \"moroccan\", \"russian\", \"southern_us\", \"spanish\", \"thai\", \"vietnamese\"], \"type\": \"bar\", \"name\": \"large eggs\"}, {\"y\": [39.028980052691004, 16.171120311127837, 6.4734663153933, 6.310375109772927, 5.16873667043031, 4.855099736544975, 4.5038263705934005, 3.964370844310626, 3.9141889348889722, 1.6936394429808055, 1.480366327938778, 1.4301844185171246, 0.8280015054572827, 0.7150922092585623, 0.6774557771923222, 0.6272738677706686, 0.6272738677706686, 0.602182913059842, 0.47672813950570814, 0.45163718479488146], \"x\": [\"brazilian\", \"british\", \"cajun_creole\", \"chinese\", \"filipino\", \"french\", \"greek\", \"indian\", \"irish\", \"italian\", \"jamaican\", \"japanese\", \"korean\", \"mexican\", \"moroccan\", \"russian\", \"southern_us\", \"spanish\", \"thai\", \"vietnamese\"], \"type\": \"bar\", \"name\": \"olive oil\"}, {\"y\": [18.728048168590064, 15.55444054189664, 14.989964877069745, 6.635725037631711, 6.046161565479177, 4.616156547917712, 3.88861013547416, 3.5122930255895635, 3.5122930255895635, 3.173607626693427, 2.6091319618665327, 2.320622177621676, 2.1700953336678372, 2.0948319116909184, 1.9066733567486203, 1.818866031108881, 1.7812343201204215, 1.6683391871550428, 1.655795283492223, 1.3171098845960862], \"x\": [\"brazilian\", \"british\", \"cajun_creole\", \"chinese\", \"filipino\", \"french\", \"greek\", \"indian\", \"irish\", \"italian\", \"jamaican\", \"japanese\", \"korean\", \"mexican\", \"moroccan\", \"russian\", \"southern_us\", \"spanish\", \"thai\", \"vietnamese\"], \"type\": \"bar\", \"name\": \"onions\"}, {\"y\": [21.74402884182064, 18.161333934204595, 12.370437133844074, 4.709328526363227, 4.619197836863452, 4.574132492113565, 4.48400180261379, 4.2586750788643535, 3.5601622352410995, 2.996845425867508, 2.8165840468679586, 2.2307345651194233, 2.118071203244705, 1.9828751689950428, 1.9603424966200993, 1.8251464623704372, 1.5998197386210005, 1.3970256872465074, 1.3294276701216765, 1.2618296529968454], \"x\": [\"brazilian\", \"british\", \"cajun_creole\", \"chinese\", \"filipino\", \"french\", \"greek\", \"indian\", \"irish\", \"italian\", \"jamaican\", \"japanese\", \"korean\", \"mexican\", \"moroccan\", \"russian\", \"southern_us\", \"spanish\", \"thai\", \"vietnamese\"], \"type\": \"bar\", \"name\": \"pepper\"}, {\"y\": [19.13785460992908, 15.070921985815602, 12.688386524822695, 10.71586879432624, 6.665558510638298, 5.025487588652482, 4.116799645390071, 3.163785460992908, 2.5487588652482267, 2.338209219858156, 2.332668439716312, 2.28834219858156, 2.2550975177304964, 2.1941489361702127, 2.083333333333333, 1.8395390070921984, 1.5957446808510638, 1.4627659574468086, 1.4018173758865249, 1.0749113475177305], \"x\": [\"brazilian\", \"british\", \"cajun_creole\", \"chinese\", \"filipino\", \"french\", \"greek\", \"indian\", \"irish\", \"italian\", \"jamaican\", \"japanese\", \"korean\", \"mexican\", \"moroccan\", \"russian\", \"southern_us\", \"spanish\", \"thai\", \"vietnamese\"], \"type\": \"bar\", \"name\": \"salt\"}, {\"y\": [41.353155339805824, 17.020631067961165, 12.955097087378642, 10.072815533980583, 7.615291262135922, 4.702669902912621, 2.0327669902912624, 1.2742718446601942, 0.6371359223300971, 0.6067961165048543, 0.45509708737864074, 0.3640776699029126, 0.21237864077669902, 0.15169902912621358, 0.15169902912621358, 0.12135922330097086, 0.09101941747572816, 0.09101941747572816, 0.06067961165048543, 0.030339805825242715], \"x\": [\"brazilian\", \"british\", \"cajun_creole\", \"chinese\", \"filipino\", \"french\", \"greek\", \"indian\", \"irish\", \"italian\", \"jamaican\", \"japanese\", \"korean\", \"mexican\", \"moroccan\", \"russian\", \"southern_us\", \"spanish\", \"thai\", \"vietnamese\"], \"type\": \"bar\", \"name\": \"soy sauce\"}, {\"y\": [16.38172210133665, 12.806963009014611, 11.812247435498913, 9.900528442648431, 6.232514765309294, 5.3465962076468765, 5.331053776810693, 5.206714330121231, 5.129002175940317, 4.13428660242462, 2.735467827168169, 2.4090767796083306, 2.113770593720858, 2.004973577867579, 1.8650917003419334, 1.8495492695057507, 1.2433944668946224, 1.2278520360584395, 1.196767174386074, 1.0724277276966117], \"x\": [\"brazilian\", \"british\", \"cajun_creole\", \"chinese\", \"filipino\", \"french\", \"greek\", \"indian\", \"irish\", \"italian\", \"jamaican\", \"japanese\", \"korean\", \"mexican\", \"moroccan\", \"russian\", \"southern_us\", \"spanish\", \"thai\", \"vietnamese\"], \"type\": \"bar\", \"name\": \"sugar\"}, {\"y\": [28.482668410725964, 19.653368214519293, 17.037279267495094, 5.101373446697187, 4.937867887508175, 4.2184434270765205, 3.7606278613472854, 3.7606278613472854, 2.419882275997384, 2.0601700457815566, 1.7658600392413342, 1.7004578155657293, 1.209941137998692, 1.1772400261608895, 0.7521255722694572, 0.7194244604316548, 0.7194244604316548, 0.2616088947024199, 0.22890778286461738, 0.032701111837802485], \"x\": [\"brazilian\", \"british\", \"cajun_creole\", \"chinese\", \"filipino\", \"french\", \"greek\", \"indian\", \"irish\", \"italian\", \"jamaican\", \"japanese\", \"korean\", \"mexican\", \"moroccan\", \"russian\", \"southern_us\", \"spanish\", \"thai\", \"vietnamese\"], \"type\": \"bar\", \"name\": \"tomatoes\"}, {\"y\": [23.544212796549246, 21.279654924514738, 20.273184759166067, 6.865564342199856, 5.607476635514018, 4.277498202731848, 3.3429187634795112, 3.1272465851905102, 2.4083393242271747, 2.12077641984184, 1.5456506110711719, 1.509705248023005, 0.8986340762041696, 0.8267433501078361, 0.6829618979151689, 0.6470165348670022, 0.35945363048166784, 0.28756290438533433, 0.2516175413371675, 0.14378145219266716], \"x\": [\"brazilian\", \"british\", \"cajun_creole\", \"chinese\", \"filipino\", \"french\", \"greek\", \"indian\", \"irish\", \"italian\", \"jamaican\", \"japanese\", \"korean\", \"mexican\", \"moroccan\", \"russian\", \"southern_us\", \"spanish\", \"thai\", \"vietnamese\"], \"type\": \"bar\", \"name\": \"unsalted butter\"}, {\"y\": [17.67388825541619, 13.728620296465222, 13.523375142531357, 10.285062713797036, 7.639680729760548, 5.769669327251995, 5.587229190421892, 5.587229190421892, 3.30672748004561, 2.7366020524515395, 2.3261117445838084, 2.1892816419612315, 2.1664766248574687, 1.573546180159635, 1.3226909920182441, 1.04903078677309, 0.9806157354618017, 0.9806157354618017, 0.9122006841505131, 0.6613454960091221], \"x\": [\"brazilian\", \"british\", \"cajun_creole\", \"chinese\", \"filipino\", \"french\", \"greek\", \"indian\", \"irish\", \"italian\", \"jamaican\", \"japanese\", \"korean\", \"mexican\", \"moroccan\", \"russian\", \"southern_us\", \"spanish\", \"thai\", \"vietnamese\"], \"type\": \"bar\", \"name\": \"vegetable oil\"}, {\"y\": [14.107549953064236, 12.163068258012606, 10.996379240981629, 10.218586562960978, 9.199409950382192, 5.88708595950114, 5.136113718653614, 4.157167761834518, 4.157167761834518, 3.754861204237629, 3.245272897948236, 3.044119619149792, 2.440659782754459, 2.1188145366769477, 2.0517634437441328, 1.9176612578785033, 1.4885342631084886, 1.4617138259353628, 1.287380984310044, 1.1666890170309776], \"x\": [\"brazilian\", \"british\", \"cajun_creole\", \"chinese\", \"filipino\", \"french\", \"greek\", \"indian\", \"irish\", \"italian\", \"jamaican\", \"japanese\", \"korean\", \"mexican\", \"moroccan\", \"russian\", \"southern_us\", \"spanish\", \"thai\", \"vietnamese\"], \"type\": \"bar\", \"name\": \"water\"}], {\"barmode\": \"stack\", \"title\": \"Most Common Ingredients Distribution Per Cuisine\", \"height\": 1000}, {\"linkText\": \"Export to plot.ly\", \"showLink\": true}).then(function() {\n",
       "    $(\".c7a7d53d-4ad4-4958-b667-6dd930dc7aa8.loading\").remove();\n",
       "})</script>"
      ],
      "text/plain": [
       "<IPython.core.display.HTML object>"
      ]
     },
     "metadata": {},
     "output_type": "display_data"
    }
   ],
   "source": [
    "data = []\n",
    "\n",
    "#for k, v in enumerate(cuisinefeatures):  \n",
    "#        print v\n",
    "#        trace0 = go.Bar(\n",
    "#            x = list(cuisine.index),\n",
    "#            y = cuisine.loc[c].sort(inplace=False, ascending=False)[:10].keys(),\n",
    "#            name= cuisine.loc[c].sort(inplace=False, ascending=False)[:10].values\n",
    "#        )\n",
    "     \n",
    "for col in cuisinefeatures:\n",
    "    if col != 'cuisine':\n",
    "        total = np.sum(cuisine[col].sort(inplace=False, ascending=False)[:20].values)\n",
    "        data.append(\n",
    "            go.Bar( \n",
    "                    x = list(cuisine.index),\n",
    "                    y = cuisine[col].sort(inplace=False, ascending=False)[:20].values/total * 100,\n",
    "                    name = col ) )\n",
    "\n",
    "layout = go.Layout(\n",
    "    title='Most Common Ingredients Distribution Per Cuisine',\n",
    "    barmode='stack',\n",
    "    height = 1000\n",
    ")\n",
    "fig = go.Figure(data=data, layout=layout)\n",
    "iplot(fig)\n"
   ]
  },
  {
   "cell_type": "code",
   "execution_count": 306,
   "metadata": {
    "collapsed": false
   },
   "outputs": [
    {
     "data": {
      "text/html": [
       "<script type=\"text/javascript\">window.PLOTLYENV=window.PLOTLYENV || {};window.PLOTLYENV.BASE_URL=\"https://plot.ly\";</script>"
      ],
      "text/plain": [
       "<IPython.core.display.HTML object>"
      ]
     },
     "metadata": {},
     "output_type": "display_data"
    },
    {
     "data": {
      "text/html": [
       "<div class=\"773e05f6-36d8-412f-b0b2-fb10011faab1 loading\" style=\"color: rgb(50,50,50);\">Drawing...</div><div id=\"773e05f6-36d8-412f-b0b2-fb10011faab1\" style=\"height: 525; width: 1000px;\" class=\"plotly-graph-div\"></div><script type=\"text/javascript\">Plotly.plot(\"773e05f6-36d8-412f-b0b2-fb10011faab1\", [{\"r\": [118.0, 54.0, 316.0, 135.0, 48.0, 516.0, 503.0, 359.0, 50.0, 3111.0, 66.0, 57.0, 36.0, 1289.0, 412.0, 50.0, 312.0, 387.0, 114.0, 38.0], \"type\": \"area\", \"name\": \"olive oil\", \"t\": [\"brazilian\", \"british\", \"cajun_creole\", \"chinese\", \"filipino\", \"french\", \"greek\", \"indian\", \"irish\", \"italian\", \"jamaican\", \"japanese\", \"korean\", \"mexican\", \"moroccan\", \"russian\", \"southern_us\", \"spanish\", \"thai\", \"vietnamese\"]}, {\"r\": [133.0, 142.0, 529.0, 280.0, 310.0, 368.0, 185.0, 1195.0, 132.0, 1240.0, 173.0, 152.0, 208.0, 1493.0, 280.0, 145.0, 482.0, 253.0, 167.0, 105.0], \"type\": \"area\", \"name\": \"onions\", \"t\": [\"brazilian\", \"british\", \"cajun_creole\", \"chinese\", \"filipino\", \"french\", \"greek\", \"indian\", \"irish\", \"italian\", \"jamaican\", \"japanese\", \"korean\", \"mexican\", \"moroccan\", \"russian\", \"southern_us\", \"spanish\", \"thai\", \"vietnamese\"]}, {\"r\": [56.0, 88.0, 189.0, 158.0, 199.0, 209.0, 203.0, 205.0, 87.0, 965.0, 125.0, 62.0, 99.0, 806.0, 94.0, 59.0, 549.0, 133.0, 81.0, 71.0], \"type\": \"area\", \"name\": \"pepper\", \"t\": [\"brazilian\", \"british\", \"cajun_creole\", \"chinese\", \"filipino\", \"french\", \"greek\", \"indian\", \"irish\", \"italian\", \"jamaican\", \"japanese\", \"korean\", \"mexican\", \"moroccan\", \"russian\", \"southern_us\", \"spanish\", \"thai\", \"vietnamese\"]}, {\"r\": [194.0, 407.0, 743.0, 907.0, 421.0, 1203.0, 571.0, 1934.0, 376.0, 3454.0, 332.0, 422.0, 253.0, 2720.0, 413.0, 288.0, 2290.0, 460.0, 396.0, 264.0], \"type\": \"area\", \"name\": \"salt\", \"t\": [\"brazilian\", \"british\", \"cajun_creole\", \"chinese\", \"filipino\", \"french\", \"greek\", \"indian\", \"irish\", \"italian\", \"jamaican\", \"japanese\", \"korean\", \"mexican\", \"moroccan\", \"russian\", \"southern_us\", \"spanish\", \"thai\", \"vietnamese\"]}, {\"r\": [1.0, 2.0, 12.0, 1363.0, 251.0, 5.0, 5.0, 20.0, 7.0, 15.0, 67.0, 561.0, 427.0, 42.0, 4.0, 3.0, 21.0, 3.0, 332.0, 155.0], \"type\": \"area\", \"name\": \"soy sauce\", \"t\": [\"brazilian\", \"british\", \"cajun_creole\", \"chinese\", \"filipino\", \"french\", \"greek\", \"indian\", \"irish\", \"italian\", \"jamaican\", \"japanese\", \"korean\", \"mexican\", \"moroccan\", \"russian\", \"southern_us\", \"spanish\", \"thai\", \"vietnamese\"]}, {\"r\": [69.0, 176.0, 119.0, 824.0, 136.0, 637.0, 77.0, 335.0, 120.0, 760.0, 80.0, 401.0, 266.0, 343.0, 79.0, 155.0, 1054.0, 129.0, 330.0, 344.0], \"type\": \"area\", \"name\": \"sugar\", \"t\": [\"brazilian\", \"british\", \"cajun_creole\", \"chinese\", \"filipino\", \"french\", \"greek\", \"indian\", \"irish\", \"italian\", \"jamaican\", \"japanese\", \"korean\", \"mexican\", \"moroccan\", \"russian\", \"southern_us\", \"spanish\", \"thai\", \"vietnamese\"]}, {\"r\": [63.0, 8.0, 115.0, 22.0, 54.0, 129.0, 156.0, 521.0, 7.0, 601.0, 37.0, 36.0, 1.0, 871.0, 74.0, 22.0, 115.0, 151.0, 52.0, 23.0], \"type\": \"area\", \"name\": \"tomatoes\", \"t\": [\"brazilian\", \"british\", \"cajun_creole\", \"chinese\", \"filipino\", \"french\", \"greek\", \"indian\", \"irish\", \"italian\", \"jamaican\", \"japanese\", \"korean\", \"mexican\", \"moroccan\", \"russian\", \"southern_us\", \"spanish\", \"thai\", \"vietnamese\"]}, {\"r\": [23.0, 191.0, 119.0, 25.0, 7.0, 592.0, 59.0, 67.0, 87.0, 564.0, 19.0, 18.0, 4.0, 156.0, 43.0, 93.0, 655.0, 42.0, 8.0, 10.0], \"type\": \"area\", \"name\": \"unsalted butter\", \"t\": [\"brazilian\", \"british\", \"cajun_creole\", \"chinese\", \"filipino\", \"french\", \"greek\", \"indian\", \"irish\", \"italian\", \"jamaican\", \"japanese\", \"korean\", \"mexican\", \"moroccan\", \"russian\", \"southern_us\", \"spanish\", \"thai\", \"vietnamese\"]}, {\"r\": [43.0, 58.0, 245.0, 602.0, 95.0, 102.0, 29.0, 593.0, 43.0, 253.0, 96.0, 245.0, 120.0, 775.0, 40.0, 69.0, 451.0, 46.0, 335.0, 145.0], \"type\": \"area\", \"name\": \"vegetable oil\", \"t\": [\"brazilian\", \"british\", \"cajun_creole\", \"chinese\", \"filipino\", \"french\", \"greek\", \"indian\", \"irish\", \"italian\", \"jamaican\", \"japanese\", \"korean\", \"mexican\", \"moroccan\", \"russian\", \"southern_us\", \"spanish\", \"thai\", \"vietnamese\"]}, {\"r\": [87.0, 109.0, 280.0, 762.0, 310.0, 439.0, 143.0, 820.0, 96.0, 1052.0, 153.0, 383.0, 242.0, 907.0, 182.0, 111.0, 686.0, 158.0, 310.0, 227.0], \"type\": \"area\", \"name\": \"water\", \"t\": [\"brazilian\", \"british\", \"cajun_creole\", \"chinese\", \"filipino\", \"french\", \"greek\", \"indian\", \"irish\", \"italian\", \"jamaican\", \"japanese\", \"korean\", \"mexican\", \"moroccan\", \"russian\", \"southern_us\", \"spanish\", \"thai\", \"vietnamese\"]}], {\"width\": 1000, \"title\": \"Most Common Ingredients Distribution Per Cuisine\", \"orientation\": 270, \"barmode\": \"stack\"}, {\"linkText\": \"Export to plot.ly\", \"showLink\": true}).then(function() {\n",
       "    $(\".773e05f6-36d8-412f-b0b2-fb10011faab1.loading\").remove();\n",
       "})</script>"
      ],
      "text/plain": [
       "<IPython.core.display.HTML object>"
      ]
     },
     "metadata": {},
     "output_type": "display_data"
    }
   ],
   "source": [
    "import pandas as pd\n",
    "import colorlover as cl\n",
    "import numpy as np\n",
    "import plotly.plotly as py\n",
    "import plotly.graph_objs as go\n",
    "\n",
    "data = []\n",
    "counter = 0\n",
    "\n",
    "for col in cuisinefeatures[10:20]:\n",
    "    if col != 'cuisine':\n",
    "        data.append(\n",
    "            go.Area(t=list(cuisine.index),\n",
    "                    r=cuisine[col],\n",
    "                    #marker=dict(color=cl.scales['9']['seq']['PuBu'][counter]),\n",
    "                    name=col))\n",
    "        counter+=1\n",
    "\n",
    "layout = go.Layout(\n",
    "    title='Most Common Ingredients Distribution Per Cuisine',\n",
    "    barmode='stack',\n",
    "    orientation=270,\n",
    "    width=1000\n",
    "\n",
    "\n",
    ")\n",
    "fig = go.Figure(data=data, layout=layout)\n",
    "iplot(fig)"
   ]
  },
  {
   "cell_type": "code",
   "execution_count": 263,
   "metadata": {
    "collapsed": true
   },
   "outputs": [],
   "source": [
    "#This function returns a list of 100 id's for each cusine from input dataframe.\n",
    "def build_df(indf):\n",
    "    \n",
    "    validdf_ids=[]\n",
    "    random_ids=[]\n",
    "    \n",
    "    for k, v in indf.groupby('cuisine'):\n",
    "        l=[]\n",
    "        l.append([e for e in v.id])\n",
    "        for i in xrange(len(l)):\n",
    "            random_ids.append(np.random.choice(l[i], size=100, replace=False))\n",
    "    \n",
    "    validdf_ids = [item for sublist in random_ids for item in sublist]\n",
    "    \n",
    "    return validdf_ids"
   ]
  },
  {
   "cell_type": "code",
   "execution_count": 266,
   "metadata": {
    "collapsed": false
   },
   "outputs": [
    {
     "name": "stdout",
     "output_type": "stream",
     "text": [
      "CPU times: user 2.25 s, sys: 474 ms, total: 2.72 s\n",
      "Wall time: 2.74 s\n"
     ]
    }
   ],
   "source": [
    "%%time\n",
    "train_df=full_df[~full_df.id.isin(build_df(full_df))].reset_index()"
   ]
  },
  {
   "cell_type": "code",
   "execution_count": 267,
   "metadata": {
    "collapsed": false
   },
   "outputs": [
    {
     "name": "stdout",
     "output_type": "stream",
     "text": [
      "Full Dataframe\n",
      "cuisine                                                     39774\n",
      "id                                                          39774\n",
      "ingredients                                                 39774\n",
      "low-sodium fat-free chicken broth                           39774\n",
      "sweetened coconut                                           39774\n",
      "baking chocolate                                            39774\n",
      "egg roll wrappers                                           39774\n",
      "bottled low sodium salsa                                    39774\n",
      "vegan parmesan cheese                                       39774\n",
      "clam sauce                                                  39774\n",
      "(10 oz.) frozen chopped spinach, thawed and squeezed dry    39774\n",
      "figs                                                        39774\n",
      "caramels                                                    39774\n",
      "broiler                                                     39774\n",
      "jalapeno chilies                                            39774\n",
      "(15 oz.) refried beans                                      39774\n",
      "brioche buns                                                39774\n",
      "broccoli romanesco                                          39774\n",
      "flaked oats                                                 39774\n",
      "anise extract                                               39774\n",
      "lumpia wrappers                                             39774\n",
      "ravva                                                       39774\n",
      "bacon                                                       39774\n",
      "millet                                                      39774\n",
      "country crock honey spread                                  39774\n",
      "matcha green tea powder                                     39774\n",
      "chopped fresh thyme                                         39774\n",
      "chicken gravy mix                                           39774\n",
      "walnut oil                                                  39774\n",
      "Kraft Slim Cut Mozzarella Cheese Slices                     39774\n",
      "                                                            ...  \n",
      "gelato                                                      39774\n",
      "bean soup                                                   39774\n",
      "Alfredo sauce                                               39774\n",
      "cake                                                        39774\n",
      "anise liqueur                                               39774\n",
      "caramel syrup                                               39774\n",
      "black bean sauce with garlic                                39774\n",
      "sliced tomatoes                                             39774\n",
      "breadcrumb mix                                              39774\n",
      "low sodium tomato                                           39774\n",
      "Philadelphia Cream Cheese                                   39774\n",
      "Amarena cherries                                            39774\n",
      "ginger juice                                                39774\n",
      "fishcake                                                    39774\n",
      "meat glaze                                                  39774\n",
      "dulce de leche                                              39774\n",
      "arame                                                       39774\n",
      "other                                                       39774\n",
      "cooking cream                                               39774\n",
      "chioggia                                                    39774\n",
      "red leaf lettuce                                            39774\n",
      "margarita salt                                              39774\n",
      "low sodium canned chicken broth                             39774\n",
      "progresso reduced sodium chicken broth                      39774\n",
      "seedless raspberry jam                                      39774\n",
      "steamed white rice                                          39774\n",
      "black radish                                                39774\n",
      "cinnamon ice cream                                          39774\n",
      "lower sodium beef broth                                     39774\n",
      "hot water                                                   39774\n",
      "dtype: int64\n",
      "\n",
      "Validation Dataframe\n",
      "index                                                       2000\n",
      "cuisine                                                     2000\n",
      "id                                                          2000\n",
      "ingredients                                                 2000\n",
      "low-sodium fat-free chicken broth                           2000\n",
      "sweetened coconut                                           2000\n",
      "baking chocolate                                            2000\n",
      "egg roll wrappers                                           2000\n",
      "bottled low sodium salsa                                    2000\n",
      "vegan parmesan cheese                                       2000\n",
      "clam sauce                                                  2000\n",
      "(10 oz.) frozen chopped spinach, thawed and squeezed dry    2000\n",
      "figs                                                        2000\n",
      "caramels                                                    2000\n",
      "broiler                                                     2000\n",
      "jalapeno chilies                                            2000\n",
      "(15 oz.) refried beans                                      2000\n",
      "brioche buns                                                2000\n",
      "broccoli romanesco                                          2000\n",
      "flaked oats                                                 2000\n",
      "anise extract                                               2000\n",
      "lumpia wrappers                                             2000\n",
      "ravva                                                       2000\n",
      "bacon                                                       2000\n",
      "millet                                                      2000\n",
      "country crock honey spread                                  2000\n",
      "matcha green tea powder                                     2000\n",
      "chopped fresh thyme                                         2000\n",
      "chicken gravy mix                                           2000\n",
      "walnut oil                                                  2000\n",
      "                                                            ... \n",
      "gelato                                                      2000\n",
      "bean soup                                                   2000\n",
      "Alfredo sauce                                               2000\n",
      "cake                                                        2000\n",
      "anise liqueur                                               2000\n",
      "caramel syrup                                               2000\n",
      "black bean sauce with garlic                                2000\n",
      "sliced tomatoes                                             2000\n",
      "breadcrumb mix                                              2000\n",
      "low sodium tomato                                           2000\n",
      "Philadelphia Cream Cheese                                   2000\n",
      "Amarena cherries                                            2000\n",
      "ginger juice                                                2000\n",
      "fishcake                                                    2000\n",
      "meat glaze                                                  2000\n",
      "dulce de leche                                              2000\n",
      "arame                                                       2000\n",
      "other                                                       2000\n",
      "cooking cream                                               2000\n",
      "chioggia                                                    2000\n",
      "red leaf lettuce                                            2000\n",
      "margarita salt                                              2000\n",
      "low sodium canned chicken broth                             2000\n",
      "progresso reduced sodium chicken broth                      2000\n",
      "seedless raspberry jam                                      2000\n",
      "steamed white rice                                          2000\n",
      "black radish                                                2000\n",
      "cinnamon ice cream                                          2000\n",
      "lower sodium beef broth                                     2000\n",
      "hot water                                                   2000\n",
      "dtype: int64\n",
      "\n",
      "Training Dataframe\n",
      "index                                                       37774\n",
      "cuisine                                                     37774\n",
      "id                                                          37774\n",
      "ingredients                                                 37774\n",
      "low-sodium fat-free chicken broth                           37774\n",
      "sweetened coconut                                           37774\n",
      "baking chocolate                                            37774\n",
      "egg roll wrappers                                           37774\n",
      "bottled low sodium salsa                                    37774\n",
      "vegan parmesan cheese                                       37774\n",
      "clam sauce                                                  37774\n",
      "(10 oz.) frozen chopped spinach, thawed and squeezed dry    37774\n",
      "figs                                                        37774\n",
      "caramels                                                    37774\n",
      "broiler                                                     37774\n",
      "jalapeno chilies                                            37774\n",
      "(15 oz.) refried beans                                      37774\n",
      "brioche buns                                                37774\n",
      "broccoli romanesco                                          37774\n",
      "flaked oats                                                 37774\n",
      "anise extract                                               37774\n",
      "lumpia wrappers                                             37774\n",
      "ravva                                                       37774\n",
      "bacon                                                       37774\n",
      "millet                                                      37774\n",
      "country crock honey spread                                  37774\n",
      "matcha green tea powder                                     37774\n",
      "chopped fresh thyme                                         37774\n",
      "chicken gravy mix                                           37774\n",
      "walnut oil                                                  37774\n",
      "                                                            ...  \n",
      "gelato                                                      37774\n",
      "bean soup                                                   37774\n",
      "Alfredo sauce                                               37774\n",
      "cake                                                        37774\n",
      "anise liqueur                                               37774\n",
      "caramel syrup                                               37774\n",
      "black bean sauce with garlic                                37774\n",
      "sliced tomatoes                                             37774\n",
      "breadcrumb mix                                              37774\n",
      "low sodium tomato                                           37774\n",
      "Philadelphia Cream Cheese                                   37774\n",
      "Amarena cherries                                            37774\n",
      "ginger juice                                                37774\n",
      "fishcake                                                    37774\n",
      "meat glaze                                                  37774\n",
      "dulce de leche                                              37774\n",
      "arame                                                       37774\n",
      "other                                                       37774\n",
      "cooking cream                                               37774\n",
      "chioggia                                                    37774\n",
      "red leaf lettuce                                            37774\n",
      "margarita salt                                              37774\n",
      "low sodium canned chicken broth                             37774\n",
      "progresso reduced sodium chicken broth                      37774\n",
      "seedless raspberry jam                                      37774\n",
      "steamed white rice                                          37774\n",
      "black radish                                                37774\n",
      "cinnamon ice cream                                          37774\n",
      "lower sodium beef broth                                     37774\n",
      "hot water                                                   37774\n",
      "dtype: int64\n"
     ]
    }
   ],
   "source": [
    "print \"Full Dataframe\"\n",
    "print full_df.count()\n",
    "print\n",
    "print \"Validation Dataframe\"\n",
    "print validation_df.count()\n",
    "print\n",
    "print \"Training Dataframe\"\n",
    "print train_df.count()\n"
   ]
  },
  {
   "cell_type": "markdown",
   "metadata": {},
   "source": [
    "## Model Building"
   ]
  },
  {
   "cell_type": "markdown",
   "metadata": {},
   "source": [
    "### Ingredients Map"
   ]
  },
  {
   "cell_type": "code",
   "execution_count": 268,
   "metadata": {
    "collapsed": false
   },
   "outputs": [
    {
     "name": "stdout",
     "output_type": "stream",
     "text": [
      "CPU times: user 1.59 s, sys: 264 ms, total: 1.85 s\n",
      "Wall time: 1.84 s\n"
     ]
    }
   ],
   "source": [
    "%%time\n",
    "#list of all possible ingredients\n",
    "\n",
    "ingredients_all=[]\n",
    "\n",
    "for i in full_df['ingredients']:\n",
    "    for j in xrange(len(i)):\n",
    "        ingredients_all.append(i[j])\n",
    "        \n",
    "for i in test_df['ingredients']:\n",
    "    for j in xrange(len(i)):\n",
    "        ingredients_all.append(i[j])\n",
    "\n",
    "features=np.unique(ingredients_all) #create a feature list of unique ingrediants.\n",
    "\n",
    "ingredients_map={v:k for k,v in enumerate(np.unique(ingredients_all).tolist())} #assign key to each ingredient"
   ]
  },
  {
   "cell_type": "markdown",
   "metadata": {},
   "source": [
    "### Term-Document Matrix"
   ]
  },
  {
   "cell_type": "code",
   "execution_count": 280,
   "metadata": {
    "collapsed": true
   },
   "outputs": [],
   "source": [
    "def build_designmatrix(indf):\n",
    "    \n",
    "    designmatrix=np.zeros((len(indf), len(features))) \n",
    "    all_ids = indf['id'] #list of all id's from input set.\n",
    "    \n",
    "    #build design matrix\n",
    "    for i in xrange(len(indf)):\n",
    "        for j in indf['ingredients'][indf['id']==all_ids[i]]:\n",
    "                for k in xrange(len(j)):\n",
    "                        designmatrix[i, ingredients_map[j[k]]] = 1\n",
    "                        \n",
    "    return designmatrix"
   ]
  },
  {
   "cell_type": "code",
   "execution_count": 281,
   "metadata": {
    "collapsed": true
   },
   "outputs": [],
   "source": [
    "def make_x(indf):\n",
    "    #Your code here    \n",
    "    X = build_designmatrix(indf)\n",
    "    \n",
    "    return X"
   ]
  },
  {
   "cell_type": "code",
   "execution_count": 282,
   "metadata": {
    "collapsed": false
   },
   "outputs": [
    {
     "name": "stdout",
     "output_type": "stream",
     "text": [
      "--- 33.074272871 seconds ---\n"
     ]
    }
   ],
   "source": [
    "import time\n",
    "start_time = time.time()\n",
    "\n",
    "X = make_x(train_df)\n",
    "y = train_df['cuisine']\n",
    "\n",
    "print(\"--- %s seconds ---\" % (time.time() - start_time))\n",
    "\n"
   ]
  },
  {
   "cell_type": "code",
   "execution_count": 283,
   "metadata": {
    "collapsed": true
   },
   "outputs": [],
   "source": [
    "# - - - - - - - - - - - - - - - - - - - - - - - - - - - - - - - - - - - - - - - - - - #\n",
    "# Generic classification and optimization functions from CS-109 labs\n",
    "# - - - - - - - - - - - - - - - - - - - - - - - - - - - - - - - - - - - - - - - - - - #\n",
    "\n",
    "from sklearn.grid_search import GridSearchCV\n",
    "from sklearn.cross_validation import train_test_split\n",
    "from sklearn.metrics import confusion_matrix\n",
    "\n",
    "# - - - - - - - - - - - - - - - - - - - - - - - - - - - - - - - - - - - - - - - - - - #\n",
    "# clf - original classifier\n",
    "# parameters - grid to search over\n",
    "# X - usually your training X matrix\n",
    "# y - usually your training y \n",
    "# - - - - - - - - - - - - - - - - - - - - - - - - - - - - - - - - - - - - - - - - - - #\n",
    "def cv_optimize(clf, parameters, X, y, n_jobs=1, n_folds=5, score_func=None):\n",
    "    if score_func:\n",
    "        gs = GridSearchCV(clf, param_grid=parameters, cv=n_folds, n_jobs=n_jobs, scoring=score_func)\n",
    "    else:\n",
    "        gs = GridSearchCV(clf, param_grid=parameters, n_jobs=n_jobs, cv=n_folds)\n",
    "    gs.fit(X, y)\n",
    "    print \"BEST\", gs.best_params_, gs.best_score_, gs.grid_scores_\n",
    "    best = gs.best_estimator_\n",
    "    return best"
   ]
  },
  {
   "cell_type": "code",
   "execution_count": 284,
   "metadata": {
    "collapsed": false
   },
   "outputs": [],
   "source": [
    "# Create test/train mask\n",
    "itrain, itest = train_test_split(xrange(train_df.shape[0]), train_size=0.6)\n",
    "mask=np.ones(train_df.shape[0], dtype='int')\n",
    "mask[itrain]=1\n",
    "mask[itest]=0\n",
    "mask = (mask==1)\n",
    "\n",
    "Xtrain, Xtest, ytrain, ytest = X[mask], X[~mask], y[mask], y[~mask]"
   ]
  },
  {
   "cell_type": "markdown",
   "metadata": {},
   "source": [
    "### SVC Model"
   ]
  },
  {
   "cell_type": "code",
   "execution_count": 290,
   "metadata": {
    "collapsed": false
   },
   "outputs": [
    {
     "name": "stdout",
     "output_type": "stream",
     "text": [
      "BEST {'C': 1.0} 0.754468659377 [mean: 0.38097, std: 0.00368, params: {'C': 0.0001}, mean: 0.56465, std: 0.00613, params: {'C': 0.001}, mean: 0.66381, std: 0.00545, params: {'C': 0.01}, mean: 0.75411, std: 0.00913, params: {'C': 0.1}, mean: 0.75447, std: 0.00603, params: {'C': 1.0}, mean: 0.70995, std: 0.00695, params: {'C': 10.0}, mean: 0.67086, std: 0.00578, params: {'C': 100.0}]\n",
      "############# based on standard predict ################\n",
      "Accuracy on training data: 0.92\n",
      "Accuracy on test data:     0.76\n",
      "[[  83    0    3    0    4    4    0    1    1    9    1    1    0   23\n",
      "     0    2    7    4    4    1]\n",
      " [   1  118    5    4    1   34    4    6   19   24    3    1    2    6\n",
      "     0   10   58    2    1    2]\n",
      " [   4    4  390    3    4   17    2    1    2   37    1    3    1   15\n",
      "     1    3   81    6    0    1]\n",
      " [   2    2   10  840   21    6    1    7    2   19    3   33   25    8\n",
      "     1    2   12    1   27   12]\n",
      " [   4    1    6   22  172    4    1    7    1    8    1    5    5    6\n",
      "     0    1   10    3    9    5]\n",
      " [   2   23   10    2    2  582   19    7   21  189    5    6    2   12\n",
      "     7   21   90   26    1    2]\n",
      " [   1    2    1    1    2    7  294    9    2   58    0    0    2    4\n",
      "     6    1   14    7    1    0]\n",
      " [   3    4    1    7    4    9    9  971    3   15    6   12    2   20\n",
      "    10    4   12    2   13    1]\n",
      " [   0   21    1    2    0   27    5    2   96   19    0    1    0    7\n",
      "     1    6   33    3    0    0]\n",
      " [   1    8   22    3    2  130   35    8   14 2722    6    2    0   33\n",
      "     8   13   73   33    3    2]\n",
      " [   5    2    4    2    6    3    0    8    0    3  119    1    1    9\n",
      "     1    4   15    2    1    2]\n",
      " [   0    1    0   39    4    2    4   42    1   12    1  366   11    5\n",
      "     3    0    8    2    7    5]\n",
      " [   0    0    0   40    3    0    2    4    2    3    0   14  208    4\n",
      "     1    0    0    2    4    4]\n",
      " [   9    3   10   10    7   21    6    9    1   57    3    5    0 2290\n",
      "     6    3   52   21    2    4]\n",
      " [   4    1    3    0    0    4   10   22    1   15    2    1    0    6\n",
      "   208    2    6    7    0    1]\n",
      " [   0    8    1    1    0   18    1    5    5   21    1    3    3    3\n",
      "     2   60   17    2    0    1]\n",
      " [   9   22   72   17    3   53   10   10   23   75    7    7    4   71\n",
      "     6    7 1283   13    6    2]\n",
      " [   4    4   10    1    2   31   10    2    1   55    0    2    1   42\n",
      "     4    1   26  149    0    1]\n",
      " [   4    1    1   41    6    0    0   20    0    6    3    4    5    5\n",
      "     2    1    8    0  442   37]\n",
      " [   8    1    2   32    9    5    0    6    1    8    1    3    6    4\n",
      "     4    1    3    0   72  135]]\n",
      "########################################################\n",
      "122.0\n"
     ]
    },
    {
     "name": "stderr",
     "output_type": "stream",
     "text": [
      "/Users/angelhenderson/anaconda/lib/python2.7/site-packages/sklearn/metrics/classification.py:958: UndefinedMetricWarning:\n",
      "\n",
      "F-score is ill-defined and being set to 0.0 in labels with no predicted samples.\n",
      "\n"
     ]
    }
   ],
   "source": [
    "import time\n",
    "start_time = time.time()\n",
    "\n",
    "from sklearn.svm import LinearSVC\n",
    "clfsvm=LinearSVC(loss=\"hinge\")\n",
    "parameters = {\"C\": [0.0001,0.001, 0.01, 0.1, 1.0, 10.0, 100.0]}\n",
    "clf = cv_optimize(clfsvm, parameters, Xtrain, ytrain, n_folds=5, score_func='f1_weighted')\n",
    "clf=clf.fit(Xtrain, ytrain)\n",
    "training_accuracy = clf.score(Xtrain, ytrain)\n",
    "test_accuracy = clf.score(Xtest, ytest)\n",
    "\n",
    "\n",
    "print \"############# based on standard predict ################\"\n",
    "print \"Accuracy on training data: %0.2f\" % (training_accuracy)\n",
    "print \"Accuracy on test data:     %0.2f\" % (test_accuracy)\n",
    "print confusion_matrix(ytest, clf.predict(Xtest))\n",
    "print \"########################################################\"\n",
    "\n",
    "clfsvm = clf\n",
    "svc_training_accuracy = training_accuracy\n",
    "svc_test_accuracy = test_accuracy\n",
    "\n",
    "svcTrainTime = round(time.time() - start_time)\n",
    "print svcTrainTime"
   ]
  },
  {
   "cell_type": "code",
   "execution_count": 291,
   "metadata": {
    "collapsed": false
   },
   "outputs": [
    {
     "name": "stdout",
     "output_type": "stream",
     "text": [
      "CPU times: user 6.23 s, sys: 290 ms, total: 6.52 s\n",
      "Wall time: 6.01 s\n"
     ]
    }
   ],
   "source": [
    "%%time\n",
    "Xfinal = make_x(test_df)\n",
    "ypred=clfsvm.predict(Xfinal)"
   ]
  },
  {
   "cell_type": "code",
   "execution_count": null,
   "metadata": {
    "collapsed": false
   },
   "outputs": [],
   "source": [
    "test_df['cuisine']=ypred\n",
    "test_df.to_csv(\"SVC submission.csv\")"
   ]
  },
  {
   "cell_type": "markdown",
   "metadata": {},
   "source": [
    "### Decision Tree Model"
   ]
  },
  {
   "cell_type": "markdown",
   "metadata": {},
   "source": [
    "A decision tree aims at minimizing entropy. Entropy is a measure of chaos; something that is very ordered has a very low entropy, something that is very messy has a very high entropy. A decision tree is structure that resembles a flow chart. Every node in the tree represents a decision that needs to be taken for determining the class. Based on the training data the most relevant features and their values are selected for lowering the entropy of the data set. In contrast to many other approaches to classification, decision trees are easy to interpret by humans. Though decision trees are mainly used for classification, they can also be used for regression."
   ]
  },
  {
   "cell_type": "code",
   "execution_count": 295,
   "metadata": {
    "collapsed": false
   },
   "outputs": [
    {
     "name": "stdout",
     "output_type": "stream",
     "text": [
      "BEST {'max_depth': None, 'min_samples_leaf': 6} 0.57091459164 [mean: 0.56884, std: 0.00756, params: {'max_depth': None, 'min_samples_leaf': 4}, mean: 0.56946, std: 0.00453, params: {'max_depth': None, 'min_samples_leaf': 5}, mean: 0.57091, std: 0.00815, params: {'max_depth': None, 'min_samples_leaf': 6}]\n",
      "############# based on standard predict ################\n",
      "Accuracy on training data: 0.69\n",
      "Accuracy on test data:     0.59\n",
      "[[  40    5    7    1    8    3    1    7    0   21    4    0    0   34\n",
      "     1    0   14    1    1    0]\n",
      " [   2   40   10    4    6   62    8    7    6   52    0    3    0   11\n",
      "     2    9   77    2    0    0]\n",
      " [   0    7  277   19    4   36    1    6    2   63    2    3    6   42\n",
      "     4    1   96    6    1    0]\n",
      " [   0    1    6  689   28   36    0    9    2   30   12   76   54   16\n",
      "     1    0   25    2   40    7]\n",
      " [   4    1    6   54   91   12    0    9    6   16    6    6    3   11\n",
      "     0    2   24    1   13    6]\n",
      " [   4   34   20   10    5  429   16   11   16  325    3    3    1   18\n",
      "     7    4  111   12    0    0]\n",
      " [   2    5    3    8    3   20  203   11    0  111    1    0    2   12\n",
      "     3    0   23    5    0    0]\n",
      " [   0    6    7   22    7   25   13  844    2   43    7    7    1   69\n",
      "    19    1   26    2    5    2]\n",
      " [   0   16    3    3    3   34    1    5   39   40    0    2    0   14\n",
      "     1    2   57    4    0    0]\n",
      " [  14   24   46   25    6  238   61   21    6 2408    3    2    3   68\n",
      "    13    1  144   31    4    0]\n",
      " [   1    2   12   11   10    8    2   24    1   14   28    9    6   29\n",
      "     4    4   16    2    5    0]\n",
      " [   1    2    3   55   13   20    5   44    0   33    1  253   35   13\n",
      "     1    1   20    2    8    3]\n",
      " [   0    0    1   82   10    4    5    3    2    4    3   30  109   10\n",
      "     0    0    6    1   10   11]\n",
      " [   8   11   38   23   14   55   16   71    5  123    5   14    2 2020\n",
      "    18    4   78    9    3    2]\n",
      " [   0    5    6    3    0   13   14   54    0   33    2    0    0   52\n",
      "    94    1   13    3    0    0]\n",
      " [   2    5    7    1    0   33    7    5    5   22    1    2    0   13\n",
      "     0   20   28    1    0    0]\n",
      " [  10   49   90   32   10  147   14   35   18  193    4   13    8  115\n",
      "    10   11  927   11    3    0]\n",
      " [   2    4   15    2    1   46    8   13    1  111    0    2    1   55\n",
      "    10    1   25   49    0    0]\n",
      " [   0    2    1   69   31    8    2   31    0   30    7   22   19   36\n",
      "     2    0   13    0  277   36]\n",
      " [   0    0    1   45   12    9    2    6    0   16    0   12    9   14\n",
      "     1    0   14    0   85   75]]\n",
      "########################################################\n",
      "1659.0\n"
     ]
    }
   ],
   "source": [
    "start_time = time.time()\n",
    "from sklearn import tree\n",
    "clfTree1 = tree.DecisionTreeClassifier()\n",
    "parameters = {\"max_depth\": [None], 'min_samples_leaf': [4, 5, 6]}\n",
    "\n",
    "clf = cv_optimize(clfTree1, parameters, Xtrain, ytrain, n_jobs=1, n_folds=5, score_func='f1_weighted')\n",
    "clf=clf.fit(Xtrain, ytrain)\n",
    "    \n",
    "training_accuracy = clf.score(Xtrain, ytrain)\n",
    "test_accuracy = clf.score(Xtest, ytest)\n",
    "print \"############# based on standard predict ################\"\n",
    "print \"Accuracy on training data: %0.2f\" % (training_accuracy)\n",
    "print \"Accuracy on test data:     %0.2f\" % (test_accuracy)\n",
    "print confusion_matrix(ytest, clf.predict(Xtest))\n",
    "print \"########################################################\"\n",
    "\n",
    "Decision_Tree_training_accuracy = training_accuracy\n",
    "Decision_Tree_test_accuracy = test_accuracy\n",
    "clfDecisionTree = clf\n",
    "\n",
    "dtTrainTime = round(time.time() - start_time)\n",
    "print dtTrainTime"
   ]
  },
  {
   "cell_type": "markdown",
   "metadata": {},
   "source": [
    "### Random Forest Classification Model"
   ]
  },
  {
   "cell_type": "markdown",
   "metadata": {},
   "source": [
    "A random forest is a model ensemble. An ensemble combines multiple models to achieve better results than a single model would. A random forest consists of multiple decision trees. Each tree in the forest has a different random subset of the features (subspace sampling) and the trees are fed with different subsets of the training data (bagging). Though a random forest gives more accurate results than a single decision tree, it is harder to read and takes more computational time to generate.\n",
    "\n"
   ]
  },
  {
   "cell_type": "code",
   "execution_count": 298,
   "metadata": {
    "collapsed": false
   },
   "outputs": [
    {
     "name": "stdout",
     "output_type": "stream",
     "text": [
      "BEST {'n_estimators': 19} 0.652827547131 [mean: 0.46255, std: 0.01415, params: {'n_estimators': 1}, mean: 0.46898, std: 0.00953, params: {'n_estimators': 2}, mean: 0.53395, std: 0.01127, params: {'n_estimators': 3}, mean: 0.56682, std: 0.01040, params: {'n_estimators': 4}, mean: 0.58451, std: 0.00709, params: {'n_estimators': 5}, mean: 0.60058, std: 0.00701, params: {'n_estimators': 6}, mean: 0.61270, std: 0.00736, params: {'n_estimators': 7}, mean: 0.61947, std: 0.00776, params: {'n_estimators': 8}, mean: 0.62396, std: 0.00762, params: {'n_estimators': 9}, mean: 0.63330, std: 0.00306, params: {'n_estimators': 10}, mean: 0.63477, std: 0.00421, params: {'n_estimators': 11}, mean: 0.64071, std: 0.00794, params: {'n_estimators': 12}, mean: 0.64599, std: 0.00411, params: {'n_estimators': 13}, mean: 0.64604, std: 0.00847, params: {'n_estimators': 14}, mean: 0.64330, std: 0.00500, params: {'n_estimators': 15}, mean: 0.65068, std: 0.00611, params: {'n_estimators': 16}, mean: 0.65236, std: 0.00437, params: {'n_estimators': 17}, mean: 0.64978, std: 0.00913, params: {'n_estimators': 18}, mean: 0.65283, std: 0.00492, params: {'n_estimators': 19}]\n",
      "############# based on standard predict ################\n",
      "Accuracy on training data: 1.00\n",
      "Accuracy on test data:     0.68\n",
      "[[  51    1    2    0    1    4    0    3    0   20    0    1    0   40\n",
      "     0    0   16    2    7    0]\n",
      " [   1   48    2    4    2   62    2   16   11   39    0    0    0   10\n",
      "     0    3   99    1    0    1]\n",
      " [   0    3  343    6    3   21    0    0    0   63    0    2    0   37\n",
      "     1    0   96    1    0    0]\n",
      " [   0    3    1  853    8   13    1   12    1   23    1   36   15   18\n",
      "     0    0   22    0   20    7]\n",
      " [   4    2    4   50  112    9    0    7    1   21    2    3    4   12\n",
      "     1    3   16    5   13    2]\n",
      " [   1   13   10    5    2  456    7   23   10  352    0    0    0   19\n",
      "     2    7  112    8    0    2]\n",
      " [   0    2    0    2    0    9  199    9    1  153    0    1    0   11\n",
      "     3    2   19    1    0    0]\n",
      " [   1    1    0    8    3   17    6  953    0   25    2    2    1   49\n",
      "     8    5   22    0    5    0]\n",
      " [   1   11    2    3    3   42    0    1   47   32    0    0    1   11\n",
      "     0    1   65    3    0    1]\n",
      " [   1    5   10    3    6  141   30    9    2 2761    0    1    1   54\n",
      "     1    3   85    4    0    1]\n",
      " [   1    1   12   16    6    3    0   30    1   12   43    1    2   26\n",
      "     2    1   29    1    1    0]\n",
      " [   0    2    1   86    8   16    2   48    0   23    0  285    8   10\n",
      "     1    0   19    0    2    2]\n",
      " [   1    1    0  102    6    1    0    4    1    6    0   23  125   10\n",
      "     0    0    5    0    3    3]\n",
      " [   4    3    8   12    4   29    4   26    0  103    0    6    0 2246\n",
      "     5    0   61    4    4    0]\n",
      " [   0    2    3    1    3    8    5   71    0   36    0    0    0   33\n",
      "   118    0   11    1    0    1]\n",
      " [   0    3    3    0    0   30    3    8    3   25    0    0    0    9\n",
      "     0   31   33    3    1    0]\n",
      " [   6   11   72   19    2   91    6   35    4  167    1    7    1  116\n",
      "     7    2 1146    6    0    1]\n",
      " [   3    2    9    0    2   31    8    8    0  143    0    0    1   59\n",
      "     5    2   21   52    0    0]\n",
      " [   2    1    1   76    7    3    0   39    0   23    0    8    7   41\n",
      "     0    0    7    2  355   14]\n",
      " [   2    0    0   59    2    2    0    6    1    6    0    9    2   21\n",
      "     0    0    9    2   81   99]]\n",
      "########################################################\n",
      "2957.0\n"
     ]
    }
   ],
   "source": [
    "start_time = time.time()\n",
    "from sklearn.ensemble import RandomForestClassifier\n",
    "clfForest = RandomForestClassifier()\n",
    "parameters = {\"n_estimators\": range(1, 20)}\n",
    "\n",
    "clf = cv_optimize(clfForest, parameters, Xtrain, ytrain, n_jobs=1, n_folds=5, score_func='f1_weighted')\n",
    "clf=clf.fit(Xtrain, ytrain)\n",
    "\n",
    "training_accuracy = clf.score(Xtrain, ytrain)\n",
    "test_accuracy = clf.score(Xtest, ytest)\n",
    "\n",
    "print \"############# based on standard predict ################\"\n",
    "print \"Accuracy on training data: %0.2f\" % (training_accuracy)\n",
    "print \"Accuracy on test data:     %0.2f\" % (test_accuracy)\n",
    "print confusion_matrix(ytest, clf.predict(Xtest))\n",
    "print \"########################################################\"\n",
    "\n",
    "Random_Forest_training_accuracy = training_accuracy\n",
    "Random_Forest_test_accuracy = test_accuracy\n",
    "clfRandomForest = clf\n",
    "\n",
    "rfTrainTime = round(time.time() - start_time)\n",
    "print rfTrainTime"
   ]
  },
  {
   "cell_type": "markdown",
   "metadata": {},
   "source": [
    "# Model Validation/Testing"
   ]
  },
  {
   "cell_type": "markdown",
   "metadata": {},
   "source": [
    "### Horizontal Plots of Model Performances"
   ]
  },
  {
   "cell_type": "code",
   "execution_count": 311,
   "metadata": {
    "collapsed": false
   },
   "outputs": [
    {
     "data": {
      "text/html": [
       "<script type=\"text/javascript\">window.PLOTLYENV=window.PLOTLYENV || {};window.PLOTLYENV.BASE_URL=\"https://plot.ly\";</script>"
      ],
      "text/plain": [
       "<IPython.core.display.HTML object>"
      ]
     },
     "metadata": {},
     "output_type": "display_data"
    },
    {
     "data": {
      "text/html": [
       "<div class=\"b60f094f-5d79-40c8-9709-b40f03e0646e loading\" style=\"color: rgb(50,50,50);\">Drawing...</div><div id=\"b60f094f-5d79-40c8-9709-b40f03e0646e\" style=\"height: 525; width: 100%;\" class=\"plotly-graph-div\"></div><script type=\"text/javascript\">Plotly.plot(\"b60f094f-5d79-40c8-9709-b40f03e0646e\", [{\"marker\": {\"color\": \"rgb(49,130,189)\"}, \"y\": [0.6921108365690081, 0.9982350864807624, 0.9248146840804801], \"type\": \"bar\", \"name\": \"Train Score\", \"x\": [\"Decision Tree\", \"Random Forest\", \"SVC\"]}, {\"marker\": {\"color\": \"rgb(204,204,204)\"}, \"y\": [0.5898080741230973, 0.6831899404367968, 0.7629384513567175], \"type\": \"bar\", \"name\": \"Test Score\", \"x\": [\"Decision Tree\", \"Random Forest\", \"SVC\"]}, {\"y\": [0.5610415962123774, 1.0, 0.041258031788975316], \"x\": [\"Decision Tree\", \"Random Forest\", \"SVC\"], \"type\": \"bar\", \"name\": \"Performance Time\"}], {\"barmode\": \"group\", \"xaxis\": {\"tickangle\": 0}, \"title\": \"Classifer Performance\"}, {\"linkText\": \"Export to plot.ly\", \"showLink\": true}).then(function() {\n",
       "    $(\".b60f094f-5d79-40c8-9709-b40f03e0646e.loading\").remove();\n",
       "})</script>"
      ],
      "text/plain": [
       "<IPython.core.display.HTML object>"
      ]
     },
     "metadata": {},
     "output_type": "display_data"
    }
   ],
   "source": [
    "import plotly.plotly as py\n",
    "import plotly.graph_objs as go\n",
    "\n",
    "timeList = [dtTrainTime, rfTrainTime, svcTrainTime]\n",
    "longestTime = max(timeList)\n",
    "\n",
    "dfTimePercentage = dtTrainTime/longestTime\n",
    "rfTimePercentage = rfTrainTime/longestTime\n",
    "nbTimePercentage = nbTrainTime/longestTime\n",
    "svcTimePercentage = svcTrainTime/longestTime\n",
    "\n",
    "\n",
    "trace0 = go.Bar(\n",
    "    x=['Decision Tree', 'Random Forest', 'SVC'],\n",
    "    y=[Decision_Tree_training_accuracy, Random_Forest_training_accuracy, svc_training_accuracy],\n",
    "    name='Train Score',\n",
    "    marker=dict(\n",
    "        color='rgb(49,130,189)'\n",
    "    )\n",
    ")\n",
    "trace1 = go.Bar(\n",
    "    x=['Decision Tree', 'Random Forest', 'SVC'],\n",
    "    y=[Decision_Tree_test_accuracy, Random_Forest_test_accuracy, svc_test_accuracy],\n",
    "    name='Test Score',\n",
    "    marker=dict(\n",
    "        color='rgb(204,204,204)',\n",
    "    )\n",
    ")\n",
    "\n",
    "trace2 = go.Bar(\n",
    "    x=['Decision Tree', 'Random Forest', 'SVC'],\n",
    "    y=[dfTimePercentage, rfTimePercentage, svcTimePercentage],\n",
    "    name='Performance Time'\n",
    ")\n",
    "\n",
    "\n",
    "data = [trace0, trace1, trace2]\n",
    "layout = go.Layout(\n",
    "    xaxis=dict(\n",
    "        # set x-axis' labels direction at 45 degree angle\n",
    "        tickangle=0,\n",
    "    ),\n",
    "    barmode='group',\n",
    "    title='Classifer Performance'\n",
    ")\n",
    "\n",
    "fig = go.Figure(data=data, layout=layout)\n",
    "iplot(fig)"
   ]
  },
  {
   "cell_type": "markdown",
   "metadata": {},
   "source": [
    "# Model Optimization: Feature Selection and Data Balancing"
   ]
  },
  {
   "cell_type": "markdown",
   "metadata": {},
   "source": [
    "# Results"
   ]
  },
  {
   "cell_type": "markdown",
   "metadata": {},
   "source": [
    "### Ingredients Distribution in Test Data"
   ]
  },
  {
   "cell_type": "code",
   "execution_count": 300,
   "metadata": {
    "collapsed": false
   },
   "outputs": [
    {
     "name": "stdout",
     "output_type": "stream",
     "text": [
      "CPU times: user 38.1 s, sys: 963 ms, total: 39 s\n",
      "Wall time: 38.8 s\n"
     ]
    }
   ],
   "source": [
    "%%time\n",
    "recipe_ingredienttest = [Counter(recipe) for recipe in test_df.ingredients]\n",
    "ingredient_distributiontest = sum(recipe_ingredienttest, Counter())"
   ]
  },
  {
   "cell_type": "markdown",
   "metadata": {},
   "source": [
    "### Predicted Cuisine Distribution in Test Data"
   ]
  },
  {
   "cell_type": "code",
   "execution_count": 305,
   "metadata": {
    "collapsed": false
   },
   "outputs": [
    {
     "data": {
      "text/html": [
       "<script type=\"text/javascript\">window.PLOTLYENV=window.PLOTLYENV || {};window.PLOTLYENV.BASE_URL=\"https://plot.ly\";</script>"
      ],
      "text/plain": [
       "<IPython.core.display.HTML object>"
      ]
     },
     "metadata": {},
     "output_type": "display_data"
    },
    {
     "data": {
      "text/html": [
       "<div class=\"189d6d13-d233-41be-ba69-0a02aa402804 loading\" style=\"color: rgb(50,50,50);\">Drawing...</div><div id=\"189d6d13-d233-41be-ba69-0a02aa402804\" style=\"height: 525; width: 100%;\" class=\"plotly-graph-div\"></div><script type=\"text/javascript\">Plotly.plot(\"189d6d13-d233-41be-ba69-0a02aa402804\", [{\"y\": [143, 142, 1639, 181, 669, 220, 99, 298, 655, 300, 823, 383, 182, 191, 122, 109, 192, 1196, 407, 1993], \"x\": [\"british\", \"irish\", \"mexican\", \"filipino\", \"chinese\", \"vietnamese\", \"brazilian\", \"japanese\", \"french\", \"greek\", \"indian\", \"cajun_creole\", \"moroccan\", \"spanish\", \"russian\", \"jamaican\", \"korean\", \"southern_us\", \"thai\", \"italian\"], \"type\": \"bar\"}], {\"title\": \"Number of Recipes per Cuisine for Test Data\"}, {\"linkText\": \"Export to plot.ly\", \"showLink\": true}).then(function() {\n",
       "    $(\".189d6d13-d233-41be-ba69-0a02aa402804.loading\").remove();\n",
       "})</script>"
      ],
      "text/plain": [
       "<IPython.core.display.HTML object>"
      ]
     },
     "metadata": {},
     "output_type": "display_data"
    },
    {
     "data": {
      "text/html": [
       "<script type=\"text/javascript\">window.PLOTLYENV=window.PLOTLYENV || {};window.PLOTLYENV.BASE_URL=\"https://plot.ly\";</script>"
      ],
      "text/plain": [
       "<IPython.core.display.HTML object>"
      ]
     },
     "metadata": {},
     "output_type": "display_data"
    },
    {
     "data": {
      "text/html": [
       "<div class=\"03631e10-3d13-42ff-bd9f-35dbb34b3325 loading\" style=\"color: rgb(50,50,50);\">Drawing...</div><div id=\"03631e10-3d13-42ff-bd9f-35dbb34b3325\" style=\"height: 525; width: 100%;\" class=\"plotly-graph-div\"></div><script type=\"text/javascript\">Plotly.plot(\"03631e10-3d13-42ff-bd9f-35dbb34b3325\", [{\"values\": [143, 142, 1639, 181, 669, 220, 99, 298, 655, 300, 823, 383, 182, 191, 122, 109, 192, 1196, 407, 1993], \"labels\": [\"british\", \"irish\", \"mexican\", \"filipino\", \"chinese\", \"vietnamese\", \"brazilian\", \"japanese\", \"french\", \"greek\", \"indian\", \"cajun_creole\", \"moroccan\", \"spanish\", \"russian\", \"jamaican\", \"korean\", \"southern_us\", \"thai\", \"italian\"], \"type\": \"pie\"}], {\"title\": \"Number of Recipes per Cuisine for Test Data\"}, {\"linkText\": \"Export to plot.ly\", \"showLink\": true}).then(function() {\n",
       "    $(\".03631e10-3d13-42ff-bd9f-35dbb34b3325.loading\").remove();\n",
       "})</script>"
      ],
      "text/plain": [
       "<IPython.core.display.HTML object>"
      ]
     },
     "metadata": {},
     "output_type": "display_data"
    },
    {
     "data": {
      "text/html": [
       "<script type=\"text/javascript\">window.PLOTLYENV=window.PLOTLYENV || {};window.PLOTLYENV.BASE_URL=\"https://plot.ly\";</script>"
      ],
      "text/plain": [
       "<IPython.core.display.HTML object>"
      ]
     },
     "metadata": {},
     "output_type": "display_data"
    },
    {
     "data": {
      "text/html": [
       "<div class=\"7a8d54cc-a63f-4cc5-a9ec-6705ee84afd1 loading\" style=\"color: rgb(50,50,50);\">Drawing...</div><div id=\"7a8d54cc-a63f-4cc5-a9ec-6705ee84afd1\" style=\"height: 525; width: 100%;\" class=\"plotly-graph-div\"></div><script type=\"text/javascript\">Plotly.plot(\"7a8d54cc-a63f-4cc5-a9ec-6705ee84afd1\", [{\"reversescale\": true, \"autocolorscale\": true, \"colorscale\": [[0, \"rgb(5, 10, 172)\"], [0.35, \"rgb(40, 60, 190)\"], [0.5, \"rgb(70, 100, 245)\"], [0.6, \"rgb(90, 120, 245)\"], [0.7, \"rgb(106, 137, 247)\"], [1, \"rgb(220, 220, 220)\"]], \"text\": [\"british\", \"irish\", \"mexican\", \"filipino\", \"chinese\", \"vietnamese\", \"brazilian\", \"japanese\", \"french\", \"greek\", \"indian\", \"cajun_creole\", \"moroccan\", \"spanish\", \"russian\", \"jamaican\", \"korean\", \"southern_us\", \"thai\", \"italian\"], \"locations\": [\"GBR\", \"IRL\", \"MEX\", \"PHL\", \"CHN\", \"VNM\", \"BRA\", \"JPN\", \"FRA\", \"GRC\", \"IND\", \"USA\", \"MAR\", \"ESP\", \"RUS\", \"JAM\", \"KOR\", \"USA\", \"THA\", \"ITA\"], \"colorbar\": {\"tickprefix\": \"\", \"autotick\": false, \"title\": \"Cuisine Count\"}, \"marker\": {\"line\": {\"color\": \"rgb(180,180,180)\", \"width\": 0.5}}, \"z\": [143, 142, 1639, 181, 669, 220, 99, 298, 655, 300, 823, 383, 182, 191, 122, 109, 192, 1196, 407, 1993], \"type\": \"choropleth\"}], {\"geo\": {\"projection\": {\"type\": \"Mercator\"}, \"showcoastlines\": true, \"showframe\": false}, \"title\": \"Global Cuisine Distribution\"}, {\"linkText\": \"Export to plot.ly\", \"showLink\": true}).then(function() {\n",
       "    $(\".7a8d54cc-a63f-4cc5-a9ec-6705ee84afd1.loading\").remove();\n",
       "})</script>"
      ],
      "text/plain": [
       "<IPython.core.display.HTML object>"
      ]
     },
     "metadata": {},
     "output_type": "display_data"
    }
   ],
   "source": [
    "from collections import Counter\n",
    "\n",
    "# Find Cuisine Distribution\n",
    "countdict = Counter(test_df.cuisine)\n",
    "cuisines = countdict.keys()\n",
    "cuisinescount = countdict.values()\n",
    "\n",
    "# Plot Cuisine Distribution Bar Chart\n",
    "data = [\n",
    "    go.Bar(\n",
    "        y=cuisinescount,\n",
    "        x=cuisines,    \n",
    "    )\n",
    "]\n",
    "layout = dict(\n",
    "    title='Number of Recipes per Cuisine for Test Data',\n",
    ")\n",
    "fig = go.Figure(data=data , layout=layout)\n",
    "\n",
    "\n",
    "# Creating Pie Chart\n",
    "fig2 = {\n",
    "    'data': [{'labels': cuisines,\n",
    "              'values': cuisinescount,\n",
    "              'type': 'pie'}],\n",
    "    'layout': {'title': 'Number of Recipes per Cuisine for Test Data'}\n",
    "}\n",
    "\n",
    "# Plot Global Cuisine Distribution\n",
    "\n",
    "myList=[]\n",
    "\n",
    "for c in cuisines: \n",
    "    if c == 'brazilian':\n",
    "        myList.append('BRA')\n",
    "    elif c == 'british':\n",
    "        myList.append('GBR')\n",
    "    elif c == 'cajun_creole':\n",
    "        myList.append('USA')\n",
    "    elif c == 'chinese':\n",
    "        myList.append('CHN')\n",
    "    elif c == 'filipino':\n",
    "        myList.append('PHL')\n",
    "    elif c == 'french':\n",
    "        myList.append('FRA')\n",
    "    elif c == 'greek':\n",
    "        myList.append('GRC')\n",
    "    elif c == 'indian':\n",
    "        myList.append('IND')\n",
    "    elif c == 'irish':\n",
    "        myList.append('IRL')\n",
    "    elif c == 'italian':\n",
    "        myList.append('ITA')\n",
    "    elif c == 'jamaican':\n",
    "        myList.append('JAM')\n",
    "    elif c == 'japanese':\n",
    "        myList.append('JPN')\n",
    "    elif c == 'korean':\n",
    "        myList.append('KOR')\n",
    "    elif c == 'mexican':\n",
    "        myList.append('MEX')\n",
    "    elif c == 'moroccan':\n",
    "        myList.append('MAR')\n",
    "    elif c == 'russian':\n",
    "        myList.append('RUS')\n",
    "    elif c == 'southern_us':\n",
    "        myList.append('USA')\n",
    "    elif c == 'spanish':\n",
    "        myList.append('ESP')\n",
    "    elif c == 'thai':\n",
    "        myList.append('THA')\n",
    "    elif c == 'vietnamese':\n",
    "        myList.append('VNM')\n",
    "\n",
    "data3 = [ dict(\n",
    "        type = 'choropleth',\n",
    "        locations = myList,\n",
    "        z = cuisinescount,\n",
    "        text = cuisines,\n",
    "        colorscale = [[0,\"rgb(5, 10, 172)\"],[0.35,\"rgb(40, 60, 190)\"],[0.5,\"rgb(70, 100, 245)\"],\\\n",
    "            [0.6,\"rgb(90, 120, 245)\"],[0.7,\"rgb(106, 137, 247)\"],[1,\"rgb(220, 220, 220)\"]],\n",
    "        autocolorscale = True,\n",
    "        reversescale = True,\n",
    "        marker = dict(\n",
    "            line = dict (\n",
    "                color = 'rgb(180,180,180)',\n",
    "                width = 0.5\n",
    "            )\n",
    "        ),\n",
    "        colorbar = dict(\n",
    "            autotick = False,\n",
    "            tickprefix = '',\n",
    "            title = 'Cuisine Count'\n",
    "        ),\n",
    "    ) ]\n",
    "\n",
    "layout3 = dict(\n",
    "    title = 'Global Cuisine Distribution',\n",
    "    geo = dict(\n",
    "        showframe = False,\n",
    "        showcoastlines = True,\n",
    "        projection = dict(\n",
    "            type = 'Mercator'\n",
    "        )\n",
    "    )\n",
    ")\n",
    "\n",
    "fig = dict( data=data, layout=layout )\n",
    "fig3 = dict( data=data3, layout=layout3 )\n",
    "\n",
    "iplot(fig)\n",
    "iplot(fig2)\n",
    "iplot(fig3, validate=False)"
   ]
  },
  {
   "cell_type": "markdown",
   "metadata": {},
   "source": [
    "# Future Plans: Yummly Integration (Version 0.5.0)"
   ]
  },
  {
   "cell_type": "code",
   "execution_count": null,
   "metadata": {
    "collapsed": false
   },
   "outputs": [],
   "source": [
    "from yummly import Client\n",
    "\n",
    "# How to install Yummly\n",
    "# pip install https://pypi.python.org/packages/py2.py3/y/yummly/yummly-0.5.0-py2.py3-none-any.whl\n",
    "# pip install https://pypi.python.org/packages/py2.py3/y/yummly/ yummly-0.5.0.tar.gz\n",
    "\n",
    "# About Yummly \n",
    "# https://pypi.python.org/pypi/yummly/0.5.0\n",
    "\n",
    "# default option values\n",
    "TIMEOUT = 5.0\n",
    "RETRIES = 0\n",
    "YOUR_API_ID = \"c077aa3e\"\n",
    "YOUR_API_KEY = \"0390dca06586895a80f9d7f549030bda\"\n",
    "client = Client(api_id=YOUR_API_ID, api_key=YOUR_API_KEY, timeout=TIMEOUT, retries=RETRIES)\n",
    "\n",
    "search = client.search('green eggs and ham')\n",
    "match = search.matches[0]\n",
    "\n",
    "recipe = client.recipe(match.id)\n",
    "print recipe"
   ]
  },
  {
   "cell_type": "markdown",
   "metadata": {},
   "source": [
    "#### Search for recipes meeting certain criteria and limit your results to a maximum"
   ]
  },
  {
   "cell_type": "code",
   "execution_count": null,
   "metadata": {
    "collapsed": false
   },
   "outputs": [],
   "source": [
    "from yummly import Client\n",
    "\n",
    "results = client.search('bacon', maxResults=1)\n",
    "\n",
    "print('Total Matches:', results.totalMatchCount)\n",
    "for match in results.matches:\n",
    "    print('Recipe ID:', match.id)\n",
    "    print('Recipe:', match.recipeName)\n",
    "    print('Rating:', match.rating)\n",
    "    print('Ingredients:')\n",
    "    for ingred in match.ingredientLines:\n",
    "        print(ingred)\n",
    "    print('----------------------------------------------------')"
   ]
  },
  {
   "cell_type": "markdown",
   "metadata": {},
   "source": [
    "#### Provide search parameters:"
   ]
  },
  {
   "cell_type": "code",
   "execution_count": null,
   "metadata": {
    "collapsed": true
   },
   "outputs": [],
   "source": [
    "params = {\n",
    "    'q': 'pork chops',\n",
    "    'start': 0,\n",
    "    'maxResult': 40,\n",
    "    'requirePicutres': False,\n",
    "    'allowedIngredient[]': ['salt', 'pepper'],\n",
    "    'excludedIngredient[]': ['cumin', 'paprika'],\n",
    "    'maxTotalTimeInSeconds': 3600,\n",
    "    'facetField[]': ['ingredient', 'diet'],\n",
    "    'flavor.meaty.min': 0.5,\n",
    "    'flavor.meaty.max': 1,\n",
    "    'flavor.sweet.min': 0,\n",
    "    'flavor.sweet.max': 0.5,\n",
    "    'nutrition.FAT.min': 0,\n",
    "    'nutrition.FAT.max': 15\n",
    "}\n",
    "\n",
    "results = client.search(**params, maxResults=1)"
   ]
  }
 ],
 "metadata": {
  "kernelspec": {
   "display_name": "Python 2",
   "language": "python",
   "name": "python2"
  },
  "language_info": {
   "codemirror_mode": {
    "name": "ipython",
    "version": 2
   },
   "file_extension": ".py",
   "mimetype": "text/x-python",
   "name": "python",
   "nbconvert_exporter": "python",
   "pygments_lexer": "ipython2",
   "version": "2.7.10"
  }
 },
 "nbformat": 4,
 "nbformat_minor": 0
}
