{
 "cells": [
  {
   "cell_type": "markdown",
   "metadata": {},
   "source": [
    "# Cook It Up with the Fantastic Four"
   ]
  },
  {
   "cell_type": "code",
   "execution_count": 4,
   "metadata": {
    "collapsed": false
   },
   "outputs": [],
   "source": [
    "# special IPython command to prepare the notebook for matplotlib\n",
    "%matplotlib inline \n",
    "\n",
    "import numpy as np\n",
    "import pandas as pd\n",
    "import scipy.stats as stats\n",
    "import matplotlib.pyplot as plt\n",
    "import sklearn\n",
    "import statsmodels.api as sm\n",
    "\n",
    "import seaborn as sns\n",
    "sns.set_style(\"whitegrid\")\n",
    "sns.set_context(\"poster\")\n",
    "\n",
    "# special matplotlib argument for improved plots\n",
    "from matplotlib import rcParams"
   ]
  },
  {
   "cell_type": "markdown",
   "metadata": {},
   "source": [
    "## Data Collection"
   ]
  },
  {
   "cell_type": "code",
   "execution_count": 5,
   "metadata": {
    "collapsed": false
   },
   "outputs": [
    {
     "data": {
      "text/html": [
       "<div>\n",
       "<table border=\"1\" class=\"dataframe\">\n",
       "  <thead>\n",
       "    <tr style=\"text-align: right;\">\n",
       "      <th></th>\n",
       "      <th>cuisine</th>\n",
       "      <th>id</th>\n",
       "      <th>ingredients</th>\n",
       "    </tr>\n",
       "  </thead>\n",
       "  <tbody>\n",
       "    <tr>\n",
       "      <th>0</th>\n",
       "      <td>greek</td>\n",
       "      <td>10259</td>\n",
       "      <td>[romaine lettuce, black olives, grape tomatoes...</td>\n",
       "    </tr>\n",
       "    <tr>\n",
       "      <th>1</th>\n",
       "      <td>southern_us</td>\n",
       "      <td>25693</td>\n",
       "      <td>[plain flour, ground pepper, salt, tomatoes, g...</td>\n",
       "    </tr>\n",
       "    <tr>\n",
       "      <th>2</th>\n",
       "      <td>filipino</td>\n",
       "      <td>20130</td>\n",
       "      <td>[eggs, pepper, salt, mayonaise, cooking oil, g...</td>\n",
       "    </tr>\n",
       "    <tr>\n",
       "      <th>3</th>\n",
       "      <td>indian</td>\n",
       "      <td>22213</td>\n",
       "      <td>[water, vegetable oil, wheat, salt]</td>\n",
       "    </tr>\n",
       "    <tr>\n",
       "      <th>4</th>\n",
       "      <td>indian</td>\n",
       "      <td>13162</td>\n",
       "      <td>[black pepper, shallots, cornflour, cayenne pe...</td>\n",
       "    </tr>\n",
       "  </tbody>\n",
       "</table>\n",
       "</div>"
      ],
      "text/plain": [
       "       cuisine     id                                        ingredients\n",
       "0        greek  10259  [romaine lettuce, black olives, grape tomatoes...\n",
       "1  southern_us  25693  [plain flour, ground pepper, salt, tomatoes, g...\n",
       "2     filipino  20130  [eggs, pepper, salt, mayonaise, cooking oil, g...\n",
       "3       indian  22213                [water, vegetable oil, wheat, salt]\n",
       "4       indian  13162  [black pepper, shallots, cornflour, cayenne pe..."
      ]
     },
     "execution_count": 5,
     "metadata": {},
     "output_type": "execute_result"
    }
   ],
   "source": [
    "full_df = pd.read_json(\"train.json\")\n",
    "full_df.head()"
   ]
  },
  {
   "cell_type": "code",
   "execution_count": 6,
   "metadata": {
    "collapsed": false
   },
   "outputs": [
    {
     "data": {
      "text/html": [
       "<div>\n",
       "<table border=\"1\" class=\"dataframe\">\n",
       "  <thead>\n",
       "    <tr style=\"text-align: right;\">\n",
       "      <th></th>\n",
       "      <th>id</th>\n",
       "      <th>ingredients</th>\n",
       "    </tr>\n",
       "  </thead>\n",
       "  <tbody>\n",
       "    <tr>\n",
       "      <th>0</th>\n",
       "      <td>18009</td>\n",
       "      <td>[baking powder, eggs, all-purpose flour, raisi...</td>\n",
       "    </tr>\n",
       "    <tr>\n",
       "      <th>1</th>\n",
       "      <td>28583</td>\n",
       "      <td>[sugar, egg yolks, corn starch, cream of tarta...</td>\n",
       "    </tr>\n",
       "    <tr>\n",
       "      <th>2</th>\n",
       "      <td>41580</td>\n",
       "      <td>[sausage links, fennel bulb, fronds, olive oil...</td>\n",
       "    </tr>\n",
       "    <tr>\n",
       "      <th>3</th>\n",
       "      <td>29752</td>\n",
       "      <td>[meat cuts, file powder, smoked sausage, okra,...</td>\n",
       "    </tr>\n",
       "    <tr>\n",
       "      <th>4</th>\n",
       "      <td>35687</td>\n",
       "      <td>[ground black pepper, salt, sausage casings, l...</td>\n",
       "    </tr>\n",
       "  </tbody>\n",
       "</table>\n",
       "</div>"
      ],
      "text/plain": [
       "      id                                        ingredients\n",
       "0  18009  [baking powder, eggs, all-purpose flour, raisi...\n",
       "1  28583  [sugar, egg yolks, corn starch, cream of tarta...\n",
       "2  41580  [sausage links, fennel bulb, fronds, olive oil...\n",
       "3  29752  [meat cuts, file powder, smoked sausage, okra,...\n",
       "4  35687  [ground black pepper, salt, sausage casings, l..."
      ]
     },
     "execution_count": 6,
     "metadata": {},
     "output_type": "execute_result"
    }
   ],
   "source": [
    "test_df = pd.read_json(\"test.json\")\n",
    "test_df.head()"
   ]
  },
  {
   "cell_type": "markdown",
   "metadata": {},
   "source": [
    "### Validation: Holdout Method"
   ]
  },
  {
   "cell_type": "markdown",
   "metadata": {},
   "source": [
    "In a supervised learning problem one wants to determine how good the trained model is. Before the model is trained, the data is split into a training data set and a test data set. The training data set is used to train the model. The test data set is kept apart and used to determine how good the model is."
   ]
  },
  {
   "cell_type": "code",
   "execution_count": 7,
   "metadata": {
    "collapsed": true
   },
   "outputs": [],
   "source": [
    "#This function returns a list of 100 id's for each cusine from input dataframe.\n",
    "def build_df(indf):\n",
    "    \n",
    "    validdf_ids=[]\n",
    "    random_ids=[]\n",
    "    \n",
    "    for k, v in indf.groupby('cuisine'):\n",
    "        l=[]\n",
    "        l.append([e for e in v.id])\n",
    "        for i in xrange(len(l)):\n",
    "            random_ids.append(np.random.choice(l[i], size=100, replace=False))\n",
    "    \n",
    "    validdf_ids = [item for sublist in random_ids for item in sublist]\n",
    "    \n",
    "    return validdf_ids"
   ]
  },
  {
   "cell_type": "code",
   "execution_count": 8,
   "metadata": {
    "collapsed": true
   },
   "outputs": [],
   "source": [
    "validation_df=full_df[full_df.id.isin(build_df(full_df))].reset_index()\n",
    "train_df=full_df[~full_df.id.isin(build_df(full_df))].reset_index()"
   ]
  },
  {
   "cell_type": "code",
   "execution_count": 9,
   "metadata": {
    "collapsed": false
   },
   "outputs": [
    {
     "name": "stdout",
     "output_type": "stream",
     "text": [
      "Full Dataframe\n",
      "cuisine        39774\n",
      "id             39774\n",
      "ingredients    39774\n",
      "dtype: int64\n",
      "\n",
      "Validation Dataframe\n",
      "index          2000\n",
      "cuisine        2000\n",
      "id             2000\n",
      "ingredients    2000\n",
      "dtype: int64\n",
      "\n",
      "Training Dataframe\n",
      "index          37774\n",
      "cuisine        37774\n",
      "id             37774\n",
      "ingredients    37774\n",
      "dtype: int64\n"
     ]
    }
   ],
   "source": [
    "print \"Full Dataframe\"\n",
    "print full_df.count()\n",
    "print\n",
    "print \"Validation Dataframe\"\n",
    "print validation_df.count()\n",
    "print\n",
    "print \"Training Dataframe\"\n",
    "print train_df.count()"
   ]
  },
  {
   "cell_type": "markdown",
   "metadata": {},
   "source": [
    "### Ingredients Map"
   ]
  },
  {
   "cell_type": "code",
   "execution_count": 10,
   "metadata": {
    "collapsed": true
   },
   "outputs": [],
   "source": [
    "#list of all possible ingredients\n",
    "\n",
    "ingredients_all=[]\n",
    "\n",
    "for i in full_df['ingredients']:\n",
    "    for j in xrange(len(i)):\n",
    "        ingredients_all.append(i[j])\n",
    "        \n",
    "for i in test_df['ingredients']:\n",
    "    for j in xrange(len(i)):\n",
    "        ingredients_all.append(i[j])\n",
    "\n",
    "features=np.unique(ingredients_all) #create a feature list of unique ingrediants.\n",
    "\n",
    "ingredients_map={v:k for k,v in enumerate(np.unique(ingredients_all).tolist())} #assign key to each ingredient"
   ]
  },
  {
   "cell_type": "markdown",
   "metadata": {},
   "source": [
    "### Term-Document Matrix"
   ]
  },
  {
   "cell_type": "code",
   "execution_count": 11,
   "metadata": {
    "collapsed": true
   },
   "outputs": [],
   "source": [
    "def build_designmatrix(indf):\n",
    "    \n",
    "    designmatrix=np.zeros((len(indf), len(features))) \n",
    "    all_ids = indf['id'] #list of all id's from input set.\n",
    "    \n",
    "    #build design matrix\n",
    "    for i in xrange(len(indf)):\n",
    "        for j in indf['ingredients'][indf['id']==all_ids[i]]:\n",
    "                for k in xrange(len(j)):\n",
    "                        designmatrix[i, ingredients_map[j[k]]] = 1\n",
    "                        \n",
    "    return designmatrix"
   ]
  },
  {
   "cell_type": "markdown",
   "metadata": {},
   "source": [
    "## Model Building: Using multiple models to determine best model"
   ]
  },
  {
   "cell_type": "markdown",
   "metadata": {},
   "source": [
    "### Decision Tree Classification Model"
   ]
  },
  {
   "cell_type": "markdown",
   "metadata": {},
   "source": [
    "A decision tree aims at minimizing entropy. Entropy is a measure of chaos; something that is very ordered has a very low entropy, something that is very messy has a very high entropy. A decision tree is structure that resembles a flow chart. Every node in the tree represents a decision that needs to be taken for determining the class. Based on the training data the most relevant features and their values are selected for lowering the entropy of the data set. In contrast to many other approaches to classification, decision trees are easy to interpret by humans. Though decision trees are mainly used for classification, they can also be used for regression."
   ]
  },
  {
   "cell_type": "code",
   "execution_count": 12,
   "metadata": {
    "collapsed": false
   },
   "outputs": [
    {
     "name": "stdout",
     "output_type": "stream",
     "text": [
      "CPU times: user 5min 18s, sys: 3.14 s, total: 5min 21s\n",
      "Wall time: 5min 25s\n"
     ]
    }
   ],
   "source": [
    "%%time\n",
    "from sklearn import tree\n",
    "\n",
    "clf = tree.DecisionTreeClassifier()\n",
    "clf = clf.fit(build_designmatrix(train_df), train_df['cuisine'])\n",
    "clf_predict=clf.predict(build_designmatrix(validation_df))"
   ]
  },
  {
   "cell_type": "code",
   "execution_count": 13,
   "metadata": {
    "collapsed": false
   },
   "outputs": [
    {
     "name": "stdout",
     "output_type": "stream",
     "text": [
      "Accuracy score for DecisionTreeClassifier\n",
      "0.944\n"
     ]
    }
   ],
   "source": [
    "from sklearn.metrics import accuracy_score\n",
    "print \"Accuracy score for DecisionTreeClassifier\" \n",
    "print accuracy_score(np.array(validation_df['cuisine']),clf_predict)"
   ]
  },
  {
   "cell_type": "code",
   "execution_count": 49,
   "metadata": {
    "collapsed": false
   },
   "outputs": [
    {
     "name": "stdout",
     "output_type": "stream",
     "text": [
      "         id                                        ingredients       cuisine  \\\n",
      "0     18009  [baking powder, eggs, all-purpose flour, raisi...       italian   \n",
      "1     28583  [sugar, egg yolks, corn starch, cream of tarta...   southern_us   \n",
      "2     41580  [sausage links, fennel bulb, fronds, olive oil...       italian   \n",
      "3     29752  [meat cuts, file powder, smoked sausage, okra,...  cajun_creole   \n",
      "4     35687  [ground black pepper, salt, sausage casings, l...       italian   \n",
      "5     38527  [baking powder, all-purpose flour, peach slice...   southern_us   \n",
      "6     19666             [grape juice, orange, white zinfandel]       mexican   \n",
      "7     41217  [ground ginger, white pepper, green onions, or...       chinese   \n",
      "8     28753  [diced onions, taco seasoning mix, all-purpose...       mexican   \n",
      "9     22659  [eggs, cherries, dates, dark muscovado sugar, ...       british   \n",
      "10    21749  [pasta, olive oil, crushed red pepper, cherry ...       italian   \n",
      "11    44967  [water, butter, ground sumac, ground lamb, gro...         greek   \n",
      "12    42969  [curry powder, ground cumin, chicken wings, ch...        indian   \n",
      "13    44883  [pasta, marinara sauce, dried basil, chicken f...       italian   \n",
      "14    20827  [salt, custard powder, white sugar, eggs, marg...       british   \n",
      "15    23196  [vegetable oil cooking spray, egg whites, apri...       mexican   \n",
      "16    35387  [vanilla ice cream, banana liqueur, bananas, p...   southern_us   \n",
      "17    33780  [molasses, hot sauce, baked beans, Grey Poupon...       italian   \n",
      "18    19001  [chopped green chilies, sour cream, cheddar ch...  cajun_creole   \n",
      "19    16526  [cold water, chicken drumsticks, chicken thigh...   southern_us   \n",
      "20    42455  [bean threads, suet, fresh shiitake mushrooms,...      japanese   \n",
      "21    47453  [water, ground turmeric, salt, long-grain rice...       italian   \n",
      "22    42478  [kosher salt, bay leaves, brown lentils, parsn...        french   \n",
      "23    11885  [kosher salt, vegetable oil, shrimp, herbs, nu...        indian   \n",
      "24    16585  [arborio rice, olive oil, dry white wine, salt...       italian   \n",
      "25    29639  [granny smith apples, bay leaves, apple cider,...        french   \n",
      "26    26245  [fish sauce, jalapeno chilies, scallions, lemo...    vietnamese   \n",
      "27    38516  [chicken wings, baking soda, rice vinegar, gar...        korean   \n",
      "28    47520  [parmigiano reggiano cheese, figs, cracked bla...       italian   \n",
      "29    26212  [cheese sauce, macaroni and cheese dinner, shr...       italian   \n",
      "...     ...                                                ...           ...   \n",
      "9914  49157  [fish sauce, lemongrass, ginger, garlic cloves...    vietnamese   \n",
      "9915  40847  [kosher salt, shallots, ground black pepper, f...       italian   \n",
      "9916  14084  [celery ribs, lemon slices, fresh parsley, lar...          thai   \n",
      "9917   6802  [zucchini, ground beef, water, green pepper, p...   southern_us   \n",
      "9918  22381  [fine salt, canola oil, unsalted butter, bakin...   southern_us   \n",
      "9919  21016         [sugar, ice, sugar cane, gingerroot, lime]       mexican   \n",
      "9920  29024  [manicotti shells, egg substitute, salt, itali...       italian   \n",
      "9921   4478  [mushroom caps, dipping sauces, red bell peppe...          thai   \n",
      "9922  36711  [red lentils, crushed garlic, curry powder, cu...        indian   \n",
      "9923   8300  [water, cooking spray, onions, dough, dried th...       italian   \n",
      "9924  47035  [chicken broth, salt, diced celery, diced onio...   southern_us   \n",
      "9925  15596  [raspberry jam, unsalted butter, caster sugar,...   southern_us   \n",
      "9926  19902  [kosher salt, worcestershire sauce, slab bacon...  cajun_creole   \n",
      "9927  31242  [evaporated milk, salt, white sugar, flaked co...   southern_us   \n",
      "9928  21117  [curry powder, baby spinach, fenugreek seeds, ...        indian   \n",
      "9929  15234  [tomatoes, black pepper, ground nutmeg, heavy ...       british   \n",
      "9930  24993  [minced chicken, olive oil, carrots, sweet chi...          thai   \n",
      "9931  31007  [tomatoes, paprika, long-grain rice, chicken, ...       spanish   \n",
      "9932  31687  [canned black beans, corn kernels, low sodium ...       mexican   \n",
      "9933  13657  [avocado, salsa, hot pepper sauce, garlic powd...       mexican   \n",
      "9934  36612  [yellow squash, salt, mayonaise, butter, butte...   southern_us   \n",
      "9935  14008  [chicken wings, peeled fresh ginger, soy sauce...       chinese   \n",
      "9936  32124  [sugar, salt, large egg yolks, apricot preserv...       italian   \n",
      "9937  43570  [eggs, green onions, rice vinegar, shrimp smal...        korean   \n",
      "9938  14059  [cauliflower, garlic paste, curry powder, gree...        indian   \n",
      "9939  30246  [large egg yolks, fresh lemon juice, sugar, bo...   southern_us   \n",
      "9940  36028  [hot sauce, butter, sweet potatoes, adobo sauc...   southern_us   \n",
      "9941  22339  [black pepper, salt, parmigiano reggiano chees...        french   \n",
      "9942  42525  [cheddar cheese, cayenne, paprika, plum tomato...   southern_us   \n",
      "9943   1443  [cold water, olive oil, lime wedges, garlic cl...       mexican   \n",
      "\n",
      "     Prediction DT  \n",
      "0         filipino  \n",
      "1       vietnamese  \n",
      "2             thai  \n",
      "3         filipino  \n",
      "4         moroccan  \n",
      "5       vietnamese  \n",
      "6           korean  \n",
      "7            irish  \n",
      "8          british  \n",
      "9          british  \n",
      "10         british  \n",
      "11          korean  \n",
      "12          korean  \n",
      "13         spanish  \n",
      "14        japanese  \n",
      "15           irish  \n",
      "16         spanish  \n",
      "17         mexican  \n",
      "18      vietnamese  \n",
      "19        japanese  \n",
      "20         chinese  \n",
      "21         italian  \n",
      "22         british  \n",
      "23        moroccan  \n",
      "24          indian  \n",
      "25           greek  \n",
      "26      vietnamese  \n",
      "27          korean  \n",
      "28           greek  \n",
      "29        japanese  \n",
      "...            ...  \n",
      "9914           NaN  \n",
      "9915           NaN  \n",
      "9916           NaN  \n",
      "9917           NaN  \n",
      "9918           NaN  \n",
      "9919           NaN  \n",
      "9920           NaN  \n",
      "9921           NaN  \n",
      "9922           NaN  \n",
      "9923           NaN  \n",
      "9924           NaN  \n",
      "9925           NaN  \n",
      "9926           NaN  \n",
      "9927           NaN  \n",
      "9928           NaN  \n",
      "9929           NaN  \n",
      "9930           NaN  \n",
      "9931           NaN  \n",
      "9932           NaN  \n",
      "9933           NaN  \n",
      "9934           NaN  \n",
      "9935           NaN  \n",
      "9936           NaN  \n",
      "9937           NaN  \n",
      "9938           NaN  \n",
      "9939           NaN  \n",
      "9940           NaN  \n",
      "9941           NaN  \n",
      "9942           NaN  \n",
      "9943           NaN  \n",
      "\n",
      "[9944 rows x 4 columns]\n"
     ]
    }
   ],
   "source": [
    "predictions_as_dataframe = test_df.join(pd.DataFrame({\"Prediction DT\": clf_predict}))\n",
    "print predictions_as_dataframe"
   ]
  },
  {
   "cell_type": "code",
   "execution_count": 15,
   "metadata": {
    "collapsed": true
   },
   "outputs": [],
   "source": [
    "#Predict on test set and write the result out.\n",
    "final_result=clf.predict(build_designmatrix(test_df))\n",
    "test_df['cuisine']=final_result\n",
    "test_df.to_csv(\"Decision Tree Submission.csv\")"
   ]
  },
  {
   "cell_type": "code",
   "execution_count": 54,
   "metadata": {
    "collapsed": false
   },
   "outputs": [
    {
     "data": {
      "text/html": [
       "<div>\n",
       "<table border=\"1\" class=\"dataframe\">\n",
       "  <thead>\n",
       "    <tr style=\"text-align: right;\">\n",
       "      <th></th>\n",
       "      <th>id</th>\n",
       "      <th>ingredients</th>\n",
       "      <th>cuisine</th>\n",
       "    </tr>\n",
       "  </thead>\n",
       "  <tbody>\n",
       "    <tr>\n",
       "      <th>0</th>\n",
       "      <td>18009</td>\n",
       "      <td>[baking powder, eggs, all-purpose flour, raisi...</td>\n",
       "      <td>italian</td>\n",
       "    </tr>\n",
       "    <tr>\n",
       "      <th>1</th>\n",
       "      <td>28583</td>\n",
       "      <td>[sugar, egg yolks, corn starch, cream of tarta...</td>\n",
       "      <td>southern_us</td>\n",
       "    </tr>\n",
       "    <tr>\n",
       "      <th>2</th>\n",
       "      <td>41580</td>\n",
       "      <td>[sausage links, fennel bulb, fronds, olive oil...</td>\n",
       "      <td>italian</td>\n",
       "    </tr>\n",
       "    <tr>\n",
       "      <th>3</th>\n",
       "      <td>29752</td>\n",
       "      <td>[meat cuts, file powder, smoked sausage, okra,...</td>\n",
       "      <td>cajun_creole</td>\n",
       "    </tr>\n",
       "    <tr>\n",
       "      <th>4</th>\n",
       "      <td>35687</td>\n",
       "      <td>[ground black pepper, salt, sausage casings, l...</td>\n",
       "      <td>italian</td>\n",
       "    </tr>\n",
       "  </tbody>\n",
       "</table>\n",
       "</div>"
      ],
      "text/plain": [
       "      id                                        ingredients       cuisine\n",
       "0  18009  [baking powder, eggs, all-purpose flour, raisi...       italian\n",
       "1  28583  [sugar, egg yolks, corn starch, cream of tarta...   southern_us\n",
       "2  41580  [sausage links, fennel bulb, fronds, olive oil...       italian\n",
       "3  29752  [meat cuts, file powder, smoked sausage, okra,...  cajun_creole\n",
       "4  35687  [ground black pepper, salt, sausage casings, l...       italian"
      ]
     },
     "execution_count": 54,
     "metadata": {},
     "output_type": "execute_result"
    }
   ],
   "source": [
    "test_df.head()"
   ]
  },
  {
   "cell_type": "markdown",
   "metadata": {},
   "source": [
    "### Random Forest Classification Model"
   ]
  },
  {
   "cell_type": "markdown",
   "metadata": {},
   "source": [
    "A random forest is a model ensemble. An ensemble combines multiple models to achieve better results than a single model would. A random forest consists of multiple decision trees. Each tree in the forest has a different random subset of the features (subspace sampling) and the trees are fed with different subsets of the training data (bagging). Though a random forest gives more accurate results than a single decision tree, it is harder to read and takes more computational time to generate.\n",
    "\n"
   ]
  },
  {
   "cell_type": "code",
   "execution_count": 76,
   "metadata": {
    "collapsed": true
   },
   "outputs": [],
   "source": [
    "from time import time\n",
    "\n",
    "# Machine Learning\n",
    "from sklearn.ensemble import RandomForestClassifier\n",
    "from sklearn.ensemble import AdaBoostClassifier\n",
    "\n",
    "# Helper\n",
    "from sklearn.cross_validation import cross_val_predict\n",
    "from sklearn.pipeline import make_pipeline\n",
    "from sklearn.metrics import accuracy_score\n",
    "from sklearn.feature_extraction.text import CountVectorizer"
   ]
  },
  {
   "cell_type": "code",
   "execution_count": 88,
   "metadata": {
    "collapsed": true
   },
   "outputs": [],
   "source": [
    "train = pd.read_json('train.json')"
   ]
  },
  {
   "cell_type": "code",
   "execution_count": 89,
   "metadata": {
    "collapsed": true
   },
   "outputs": [],
   "source": [
    "words = [' '.join(item) for item in full_df.ingredients]"
   ]
  },
  {
   "cell_type": "code",
   "execution_count": 90,
   "metadata": {
    "collapsed": false
   },
   "outputs": [],
   "source": [
    "vec = CountVectorizer(max_features=2000)  #Convert a collection of text documents to a matrix of token counts\n",
    "bag_of_words = vec.fit(words).transform(words).toarray() #Transform documents to document-term matrix."
   ]
  },
  {
   "cell_type": "code",
   "execution_count": 19,
   "metadata": {
    "collapsed": true
   },
   "outputs": [],
   "source": [
    "random_forest = RandomForestClassifier(n_estimators=200) #creates a 200 tree forest"
   ]
  },
  {
   "cell_type": "code",
   "execution_count": 20,
   "metadata": {
    "collapsed": false
   },
   "outputs": [
    {
     "name": "stdout",
     "output_type": "stream",
     "text": [
      "CPU times: user 3min 31s, sys: 2.73 s, total: 3min 33s\n",
      "Wall time: 3min 46s\n"
     ]
    }
   ],
   "source": [
    "%%time\n",
    "random_forest.fit(bag_of_words, train.cuisine) #Learn a vocabulary dictionary of all tokens in the raw documents"
   ]
  },
  {
   "cell_type": "code",
   "execution_count": 53,
   "metadata": {
    "collapsed": false
   },
   "outputs": [
    {
     "name": "stdout",
     "output_type": "stream",
     "text": [
      "0.000180959701538\n"
     ]
    }
   ],
   "source": [
    "%%time\n",
    "train_pred = cross_val_predict(random_forest, bag_of_words, train.cuisine, cv=2) #Generate cross-validated estimates for each input data point"
   ]
  },
  {
   "cell_type": "code",
   "execution_count": 22,
   "metadata": {
    "collapsed": false
   },
   "outputs": [
    {
     "data": {
      "text/plain": [
       "39774"
      ]
     },
     "execution_count": 22,
     "metadata": {},
     "output_type": "execute_result"
    }
   ],
   "source": [
    "len(train_pred)"
   ]
  },
  {
   "cell_type": "code",
   "execution_count": 23,
   "metadata": {
    "collapsed": false
   },
   "outputs": [
    {
     "name": "stdout",
     "output_type": "stream",
     "text": [
      "('Accuracy: ', 0.74083572182833002)\n"
     ]
    }
   ],
   "source": [
    "print(\"Accuracy: \", accuracy_score(full_df.cuisine, train_pred))"
   ]
  },
  {
   "cell_type": "code",
   "execution_count": 24,
   "metadata": {
    "collapsed": true
   },
   "outputs": [],
   "source": [
    "test = pd.read_json('test.json')"
   ]
  },
  {
   "cell_type": "code",
   "execution_count": 25,
   "metadata": {
    "collapsed": true
   },
   "outputs": [],
   "source": [
    "test_words = [' '.join(item) for item in test.ingredients]\n",
    "test_bag = vec.transform(test_words).toarray()"
   ]
  },
  {
   "cell_type": "code",
   "execution_count": 26,
   "metadata": {
    "collapsed": false
   },
   "outputs": [
    {
     "data": {
      "text/plain": [
       "9944"
      ]
     },
     "execution_count": 26,
     "metadata": {},
     "output_type": "execute_result"
    }
   ],
   "source": [
    "len(test_bag)"
   ]
  },
  {
   "cell_type": "code",
   "execution_count": 27,
   "metadata": {
    "collapsed": true
   },
   "outputs": [],
   "source": [
    "result = random_forest.predict(test_bag)\n",
    "outputrf = pd.DataFrame(data={\"id\":test.id, \"ingredients\":test.ingredients, \"cuisine\":result})\n",
    "outputrf.head()\n",
    "#output.to_csv(\"Random Forest Submission.csv\")"
   ]
  },
  {
   "cell_type": "markdown",
   "metadata": {},
   "source": [
    "### AdaBoost Model"
   ]
  },
  {
   "cell_type": "code",
   "execution_count": 86,
   "metadata": {
    "collapsed": true
   },
   "outputs": [],
   "source": [
    "pipeline = make_pipeline(AdaBoostClassifier(n_estimators=200))"
   ]
  },
  {
   "cell_type": "code",
   "execution_count": null,
   "metadata": {
    "collapsed": false
   },
   "outputs": [],
   "source": [
    "%%time\n",
    "pipeline.fit(bag_of_words, train_df.cuisine)"
   ]
  },
  {
   "cell_type": "code",
   "execution_count": null,
   "metadata": {
    "collapsed": true
   },
   "outputs": [],
   "source": [
    "%%time\n",
    "train_pred_adaboost = pipeline.predict(bag_of_words)"
   ]
  },
  {
   "cell_type": "code",
   "execution_count": null,
   "metadata": {
    "collapsed": true
   },
   "outputs": [],
   "source": [
    "print(\"AdaBoost Accuracy on Training: \", accuracy_score(train.cuisine, train_pred))"
   ]
  },
  {
   "cell_type": "code",
   "execution_count": null,
   "metadata": {
    "collapsed": true
   },
   "outputs": [],
   "source": [
    "result = pipeline.predict(test_bag)\n",
    "\n",
    "outputab = pd.DataFrame(data={\"id\":test.id, \"ingredients\":test.ingredients, \"cuisine\":result})\n",
    "\n",
    "#output.to_csv(\"submission.csv\", index=False, quoting=3)\n",
    "outputab.head()"
   ]
  },
  {
   "cell_type": "code",
   "execution_count": null,
   "metadata": {
    "collapsed": true
   },
   "outputs": [],
   "source": [
    "Ab_cuisine_count = Counter(outputab.cuisine)\n",
    "labels1 = Ab_cuisine_count.keys()\n",
    "sizes1 = Ab_cuisine_count.values()\n",
    "\n",
    "patches1, texts1 = plt.pie(sizes1, startangle=90)\n",
    "plt.legend(patches1, labels1, loc=\"best\")\n",
    "plt.axis('equal')\n",
    "plt.tight_layout()\n",
    "plt.show()"
   ]
  },
  {
   "cell_type": "markdown",
   "metadata": {},
   "source": [
    "### Naive Bayes Model"
   ]
  },
  {
   "cell_type": "code",
   "execution_count": 28,
   "metadata": {
    "collapsed": true
   },
   "outputs": [],
   "source": [
    "from sklearn.feature_extraction.text import CountVectorizer\n",
    "\n",
    "def conc_str(in_list):\n",
    "    return ','.join(in_list)\n",
    "\n",
    "def make_xy(indf, vectorizer=None):\n",
    "    #Your code here    \n",
    "    if vectorizer is None:\n",
    "        vectorizer = CountVectorizer()\n",
    "    X = vectorizer.fit_transform(indf['ingredients'].apply(conc_str))\n",
    "    X = X.tocsc()  # some versions of sklearn return COO format\n",
    "    y = indf['cuisine']\n",
    "    return X, y\n",
    "\n",
    "X, y = make_xy(full_df)"
   ]
  },
  {
   "cell_type": "code",
   "execution_count": 29,
   "metadata": {
    "collapsed": false
   },
   "outputs": [
    {
     "name": "stdout",
     "output_type": "stream",
     "text": [
      "MN Accuracy: 71.97%\n"
     ]
    }
   ],
   "source": [
    "from sklearn.naive_bayes import MultinomialNB\n",
    "from sklearn.cross_validation import train_test_split\n",
    "xtrain, xtest, ytrain, ytest = train_test_split(X, y)\n",
    "clf = MultinomialNB().fit(xtrain, ytrain)\n",
    "print \"MN Accuracy: %0.2f%%\" % (100 * clf.score(xtest, ytest))"
   ]
  },
  {
   "cell_type": "code",
   "execution_count": 30,
   "metadata": {
    "collapsed": false
   },
   "outputs": [
    {
     "name": "stdout",
     "output_type": "stream",
     "text": [
      "Accuracy on training data: 0.75\n",
      "Accuracy on test data:     0.72\n"
     ]
    }
   ],
   "source": [
    "training_accuracy = clf.score(xtrain, ytrain)\n",
    "test_accuracy = clf.score(xtest, ytest)\n",
    "\n",
    "print \"Accuracy on training data: %0.2f\" % (training_accuracy)\n",
    "print \"Accuracy on test data:     %0.2f\" % (test_accuracy)"
   ]
  },
  {
   "cell_type": "code",
   "execution_count": 31,
   "metadata": {
    "collapsed": true
   },
   "outputs": [],
   "source": [
    "from sklearn.cross_validation import KFold\n",
    "def cv_score(clf, X, y, scorefunc):\n",
    "    result = 0.\n",
    "    nfold = 5\n",
    "    for train, test in KFold(y.size, nfold): # split data into train/test groups, 5 times\n",
    "        clf.fit(X[train], y[train]) # fit\n",
    "        result += scorefunc(clf, X[test], y[test]) # evaluate score function on held-out data\n",
    "    return result / nfold # average"
   ]
  },
  {
   "cell_type": "code",
   "execution_count": 32,
   "metadata": {
    "collapsed": true
   },
   "outputs": [],
   "source": [
    "def log_likelihood(clf, x, y):\n",
    "    prob = clf.predict_log_proba(x)\n",
    "    rotten = y == 0\n",
    "    fresh = ~rotten\n",
    "    return prob[rotten, 0].sum() + prob[fresh, 1].sum()"
   ]
  },
  {
   "cell_type": "code",
   "execution_count": 33,
   "metadata": {
    "collapsed": true
   },
   "outputs": [],
   "source": [
    "from sklearn.cross_validation import train_test_split\n",
    "itrain, itest = train_test_split(xrange(full_df.shape[0]), train_size=0.7)\n",
    "mask=np.ones(full_df.shape[0], dtype='int')\n",
    "mask[itrain]=1\n",
    "mask[itest]=0\n",
    "mask = (mask==1)\n",
    "\n",
    "Xtrain, Xtest, ytrain, ytest = X[mask], X[~mask], y[mask], y[~mask]"
   ]
  },
  {
   "cell_type": "markdown",
   "metadata": {},
   "source": [
    "## Model Validation: Ensemble Testing"
   ]
  },
  {
   "cell_type": "code",
   "execution_count": 34,
   "metadata": {
    "collapsed": true
   },
   "outputs": [],
   "source": [
    "# - - - - - - - - - - - - - - - - - - - - - - - - - - - - - - - - - - - - - - - - - - #\n",
    "# Generic classification and optimization functions from CS-109 labs\n",
    "# - - - - - - - - - - - - - - - - - - - - - - - - - - - - - - - - - - - - - - - - - - #\n",
    "\n",
    "from sklearn.grid_search import GridSearchCV\n",
    "from sklearn.cross_validation import train_test_split\n",
    "from sklearn.metrics import confusion_matrix\n",
    "\n",
    "# - - - - - - - - - - - - - - - - - - - - - - - - - - - - - - - - - - - - - - - - - - #\n",
    "# clf - original classifier\n",
    "# parameters - grid to search over\n",
    "# X - usually your training X matrix\n",
    "# y - usually your training y \n",
    "# - - - - - - - - - - - - - - - - - - - - - - - - - - - - - - - - - - - - - - - - - - #\n",
    "def cv_optimize(clf, parameters, X, y, n_jobs=1, n_folds=5, score_func=None):\n",
    "    if score_func:\n",
    "        gs = GridSearchCV(clf, param_grid=parameters, cv=n_folds, n_jobs=n_jobs, scoring=score_func)\n",
    "    else:\n",
    "        gs = GridSearchCV(clf, param_grid=parameters, n_jobs=n_jobs, cv=n_folds)\n",
    "    gs.fit(X, y)\n",
    "    print \"BEST\", gs.best_params_, gs.best_score_, gs.grid_scores_\n",
    "    best = gs.best_estimator_\n",
    "    return best"
   ]
  },
  {
   "cell_type": "code",
   "execution_count": 35,
   "metadata": {
    "collapsed": false
   },
   "outputs": [
    {
     "name": "stdout",
     "output_type": "stream",
     "text": [
      "BEST {'max_depth': None, 'min_samples_leaf': 4} 0.621206305916 [mean: 0.62121, std: 0.01076, params: {'max_depth': None, 'min_samples_leaf': 4}, mean: 0.62072, std: 0.01057, params: {'max_depth': None, 'min_samples_leaf': 5}, mean: 0.61975, std: 0.01248, params: {'max_depth': None, 'min_samples_leaf': 6}]\n",
      "############# based on standard predict ################\n",
      "Accuracy on training data: 0.79\n",
      "Accuracy on test data:     0.63\n",
      "[[  58    1    6    1    5    8    1    3    0   10    1    0    0   27\n",
      "     0    1   11    4    7    1]\n",
      " [   2   66    9    6    5   41    3    6   19   20    3    2    1    8\n",
      "     0    5   62    1    1    2]\n",
      " [   2    3  266    8    3   21    4    3    2   46    4    1    0   21\n",
      "     1    1   74    9    0    0]\n",
      " [   2    5    5  561   18    9    0    8    1   12    4   52   30    8\n",
      "     2    0   13    0   24   20]\n",
      " [   8    3    3   30   96   10    1    1    2   12    5    7    5    8\n",
      "     2    3   16    5    4    4]\n",
      " [   6   54   22   13   11  336   15   10   17  175    4    5    0   19\n",
      "     3   10   72    7    1    1]\n",
      " [   0    4    5    6    1   32  191    8    3   74    0    2    1    7\n",
      "    15    1   16    9    0    1]\n",
      " [   5    3    3    9    9   18   17  680    4   14    4   19    0   50\n",
      "    14    2   16    4   17    3]\n",
      " [   1   22    4    4    2   26    4    4   60   20    0    2    0    2\n",
      "     0    8   35    4    0    1]\n",
      " [  10   33   42   11    5  201   41   14   17 1715    1    7    1   36\n",
      "     9    3   88   27    2    0]\n",
      " [   7    6    7    6    6    9    0    7    0    4   75    2    1   10\n",
      "     7    1   22    4    2    1]\n",
      " [   2    5    2   64   11   11    4   36    3   14    0  225   12    8\n",
      "     1    4   18    0    7    4]\n",
      " [   0    1    0   51   12    2    0    0    0    4    1   25  118    5\n",
      "     0    2    7    1    6    7]\n",
      " [  10    9   27   17    9   33   13   22    9   67    5   11    2 1650\n",
      "    15    1   57   12    4    4]\n",
      " [   3    0    1    3    2   10   12   37    1   21    2    2    0   19\n",
      "   118    3    2    6    1    0]\n",
      " [   2    9    7    5    4   32    0    4    7   24    1    2    2    8\n",
      "     0   18   14    4    1    1]\n",
      " [  23   39   70   24   19   78    5   18   44  109    8    4    6   72\n",
      "     6   12  739   14    2    2]\n",
      " [  10    1    6    3    7   26   10   10    6   73    1    1    0   31\n",
      "     8    1   20  100    1    1]\n",
      " [   3    0    3   42   16    4    1   29    0    8    3    7    3   14\n",
      "     0    0    5    0  287   41]\n",
      " [   2    1    0   23   12    2    2    4    1    3    3   15    1   11\n",
      "     0    1    3    0   52  121]]\n",
      "########################################################\n",
      "CPU times: user 2min 10s, sys: 887 ms, total: 2min 11s\n",
      "Wall time: 2min 13s\n"
     ]
    }
   ],
   "source": [
    "%%time\n",
    "from sklearn import tree\n",
    "clfTree1 = tree.DecisionTreeClassifier()\n",
    "#parameters = {\"max_depth\": [1, 2, 3, 4, 5, 6, 7], 'min_samples_leaf': [1, 2, 3, 4, 5, 6]}\n",
    "#parameters = {\"max_depth\": [1, 2, 3, 4, 5, 6, 7], 'min_samples_leaf': [1, 2, 3, 4, 5, 6, 7, 8, 9, 10]}\n",
    "parameters = {\"max_depth\": [None], 'min_samples_leaf': [4, 5, 6]}\n",
    "\n",
    "clf = cv_optimize(clfTree1, parameters, Xtrain, ytrain, n_jobs=1, n_folds=5, score_func='f1_weighted')\n",
    "clfDecisionTree=clf.fit(Xtrain, ytrain)\n",
    "    \n",
    "training_accuracy = clf.score(Xtrain, ytrain)\n",
    "test_accuracy = clf.score(Xtest, ytest)\n",
    "print \"############# based on standard predict ################\"\n",
    "print \"Accuracy on training data: %0.2f\" % (training_accuracy)\n",
    "print \"Accuracy on test data:     %0.2f\" % (test_accuracy)\n",
    "print confusion_matrix(ytest, clf.predict(Xtest))\n",
    "print \"########################################################\""
   ]
  },
  {
   "cell_type": "code",
   "execution_count": 36,
   "metadata": {
    "collapsed": false
   },
   "outputs": [
    {
     "name": "stdout",
     "output_type": "stream",
     "text": [
      "BEST {'n_estimators': 18} 0.702079759538 [mean: 0.49376, std: 0.01274, params: {'n_estimators': 1}, mean: 0.48927, std: 0.00753, params: {'n_estimators': 2}, mean: 0.56862, std: 0.00648, params: {'n_estimators': 3}, mean: 0.61090, std: 0.00875, params: {'n_estimators': 4}, mean: 0.62778, std: 0.00594, params: {'n_estimators': 5}, mean: 0.64488, std: 0.00783, params: {'n_estimators': 6}, mean: 0.65505, std: 0.00910, params: {'n_estimators': 7}, mean: 0.65838, std: 0.00769, params: {'n_estimators': 8}, mean: 0.67163, std: 0.00774, params: {'n_estimators': 9}, mean: 0.67866, std: 0.00770, params: {'n_estimators': 10}, mean: 0.68060, std: 0.00724, params: {'n_estimators': 11}, mean: 0.68383, std: 0.00597, params: {'n_estimators': 12}, mean: 0.69009, std: 0.00886, params: {'n_estimators': 13}, mean: 0.68797, std: 0.00617, params: {'n_estimators': 14}, mean: 0.69332, std: 0.00802, params: {'n_estimators': 15}, mean: 0.69547, std: 0.00816, params: {'n_estimators': 16}, mean: 0.70147, std: 0.00695, params: {'n_estimators': 17}, mean: 0.70208, std: 0.00612, params: {'n_estimators': 18}, mean: 0.70162, std: 0.00781, params: {'n_estimators': 19}]\n",
      "############# based on standard predict ################\n",
      "Accuracy on training data: 1.00\n",
      "Accuracy on test data:     0.72\n",
      "[[  59    2    6    0    5    3    0    2    0   22    0    0    0   28\n",
      "     0    1    9    4    4    0]\n",
      " [   0   59    1    2    1   47    0   10   17   43    0    0    0   13\n",
      "     1    0   67    1    0    0]\n",
      " [   0    3  304    3    0   16    0    3    0   53    1    0    0   18\n",
      "     1    3   61    2    1    0]\n",
      " [   0    1    3  660   11    2    0    7    0   12    1   24    8   12\n",
      "     0    1   12    1   14    5]\n",
      " [   7    3    4   37  102    3    0    2    2   19    0    4    2   17\n",
      "     0    0   18    2    1    2]\n",
      " [   1    6   12    7    3  407    4    6    5  251    0    1    0    7\n",
      "     1    2   60    6    1    1]\n",
      " [   0    1    1    0    0   19  226    5    0  101    0    0    0    9\n",
      "     5    1    7    0    0    1]\n",
      " [   1    1    3    3    2    8    6  803    0    9    1    2    0   32\n",
      "     4    0   11    0    5    0]\n",
      " [   1    7    1    0    0   24    1    1   69   36    0    0    0    7\n",
      "     0    0   50    1    0    1]\n",
      " [   1    8    4    6    3   97   19    6    5 2025    0    1    1   38\n",
      "     2    1   41    4    0    1]\n",
      " [   3    2   10    9    1    3    2   10    0   11   82    0    0   18\n",
      "     1    1   21    1    2    0]\n",
      " [   1    2    4   70    2   10    0   45    0   25    0  245    5    4\n",
      "     1    0   12    0    4    1]\n",
      " [   0    1    1   65    4    1    0    1    0    4    0   16  137    3\n",
      "     0    0    6    0    0    3]\n",
      " [   2    2    6    5    4   20    2   14    0   50    1    3    0 1809\n",
      "     3    0   51    4    1    0]\n",
      " [   0    0    1    2    0   10    1   47    0   27    0    0    0   16\n",
      "   131    0    3    1    1    3]\n",
      " [   0    3    4    0    0   31    2    5    1   27    0    1    0    8\n",
      "     0   34   28    1    0    0]\n",
      " [   7    7   61   10    3   56    2    9    5  131    1    1    0   90\n",
      "     0    1  906    3    1    0]\n",
      " [   1    0    6    1    3   22    3    6    0  126    0    1    0   49\n",
      "     5    2   13   77    0    1]\n",
      " [   1    0    1   39    7    3    0   30    1    9    1    9    3   14\n",
      "     0    0    2    0  328   18]\n",
      " [   0    0    0   40    4    2    0    7    1    7    0    5    0   15\n",
      "     0    0    7    0   80   89]]\n",
      "########################################################\n",
      "CPU times: user 8min 2s, sys: 7.11 s, total: 8min 9s\n",
      "Wall time: 8min 12s\n"
     ]
    }
   ],
   "source": [
    "%%time\n",
    "\n",
    "from sklearn.ensemble import RandomForestClassifier\n",
    "clfForest = RandomForestClassifier()\n",
    "parameters = {\"n_estimators\": range(1, 20)}\n",
    "\n",
    "clf = cv_optimize(clfForest, parameters, Xtrain, ytrain, n_jobs=1, n_folds=5, score_func='f1_weighted')\n",
    "clfRandomForest=clf.fit(Xtrain, ytrain)\n",
    "\n",
    "training_accuracy = clf.score(Xtrain, ytrain)\n",
    "test_accuracy = clf.score(Xtest, ytest)\n",
    "print \"############# based on standard predict ################\"\n",
    "print \"Accuracy on training data: %0.2f\" % (training_accuracy)\n",
    "print \"Accuracy on test data:     %0.2f\" % (test_accuracy)\n",
    "print confusion_matrix(ytest, clf.predict(Xtest))\n",
    "print \"########################################################\""
   ]
  },
  {
   "cell_type": "code",
   "execution_count": null,
   "metadata": {
    "collapsed": false
   },
   "outputs": [],
   "source": [
    "from sklearn.ensemble import AdaBoostClassifier\n",
    "clfAda = AdaBoostClassifier()\n",
    "parameters = {\"n_estimators\": range(10, 60)}\n",
    "\n",
    "clf = cv_optimize(clfAda, parameters, Xtrain, ytrain, n_jobs=1, n_folds=5, score_func='f1_weighted')\n",
    "clfAdaBoost=clf.fit(Xtrain, ytrain)\n",
    "\n",
    "training_accuracy = clf.score(Xtrain, ytrain)\n",
    "test_accuracy = clf.score(Xtest, ytest)\n",
    "print \"############# based on standard predict ################\"\n",
    "print \"Accuracy on training data: %0.2f\" % (training_accuracy)\n",
    "print \"Accuracy on test data:     %0.2f\" % (test_accuracy)\n",
    "print confusion_matrix(ytest, clf.predict(Xtest))\n",
    "print \"########################################################\""
   ]
  },
  {
   "cell_type": "markdown",
   "metadata": {},
   "source": [
    "## ROC Curves for Model Performance Comparison"
   ]
  },
  {
   "cell_type": "code",
   "execution_count": 38,
   "metadata": {
    "collapsed": true
   },
   "outputs": [],
   "source": [
    "from sklearn.metrics import roc_curve, auc\n",
    "def make_roc(name, clf, ytest, xtest, ax=None, labe=5, proba=True, skip=0):\n",
    "    initial=False\n",
    "    if not ax:\n",
    "        ax=plt.gca()\n",
    "        initial=True\n",
    "    if proba:#for stuff like logistic regression\n",
    "        fpr, tpr, thresholds=roc_curve(ytest, clf.predict_proba(xtest)[:,1])\n",
    "    else:#for stuff like SVM\n",
    "        fpr, tpr, thresholds=roc_curve(ytest, clf.decision_function(xtest))\n",
    "    roc_auc = auc(fpr, tpr)\n",
    "    if skip:\n",
    "        l=fpr.shape[0]\n",
    "        ax.plot(fpr[0:l:skip], tpr[0:l:skip], '.-', alpha=0.3, label='ROC curve for %s (area = %0.2f)' % (name, roc_auc))\n",
    "    else:\n",
    "        ax.plot(fpr, tpr, '.-', alpha=0.3, label='ROC curve for %s (area = %0.2f)' % (name, roc_auc))\n",
    "    label_kwargs = {}\n",
    "    label_kwargs['bbox'] = dict(\n",
    "        boxstyle='round,pad=0.3', alpha=0.2,\n",
    "    )\n",
    "    if labe!=None:\n",
    "        for k in xrange(0, fpr.shape[0],labe):\n",
    "            #from https://gist.github.com/podshumok/c1d1c9394335d86255b8\n",
    "            threshold = str(np.round(thresholds[k], 2))\n",
    "            ax.annotate(threshold, (fpr[k], tpr[k]), **label_kwargs)\n",
    "    if initial:\n",
    "        ax.plot([0, 1], [0, 1], 'k--')\n",
    "        ax.set_xlim([0.0, 1.0])\n",
    "        ax.set_ylim([0.0, 1.05])\n",
    "        ax.set_xlabel('False Positive Rate')\n",
    "        ax.set_ylabel('True Positive Rate')\n",
    "        ax.set_title('ROC')\n",
    "    ax.legend(loc=\"lower right\")\n",
    "    return ax"
   ]
  },
  {
   "cell_type": "code",
   "execution_count": null,
   "metadata": {
    "collapsed": false
   },
   "outputs": [],
   "source": [
    "with sns.color_palette(\"dark\"):\n",
    "    ax=make_roc(\"Random Forest\",clfDecisionTree, ytest, Xtest, labe=200, skip=50)\n",
    "    make_roc(\"Naive Bayes\",clfNaiveBayes, ytest, Xtest, ax, labe=200, proba=False, skip=50);\n",
    "    make_roc(\"Decision Tree\",clfRandomForest, ytest, Xtest, ax, labe=200, proba=False, skip=50);\n",
    "    make_roc(\"AdaBoost\",clfAdaBoost, ytest, Xtest, ax, labe=200, proba=False, skip=50);"
   ]
  },
  {
   "cell_type": "markdown",
   "metadata": {},
   "source": [
    "### Horizontal Plots of Model Performances"
   ]
  },
  {
   "cell_type": "code",
   "execution_count": null,
   "metadata": {
    "collapsed": false
   },
   "outputs": [],
   "source": [
    "import numpy as np\n",
    "import matplotlib.pyplot as plt\n",
    "\n",
    "N = 4\n",
    "\n",
    "trainingscore = (DTtraining_accuracy, RFtraining_accuracy, NBtraining_accuracy, ABtraining_accuracy)\n",
    "#trainingscore = (training_accuracy, training_accuracy, training_accuracy, training_accuracy)\n",
    "\n",
    "ind = np.arange(N)  # the x locations for the groups\n",
    "width = 0.35       # the width of the bars\n",
    "\n",
    "fig, ax = plt.subplots()\n",
    "rects1 = ax.bar(ind, trainingscore, width, color='r')\n",
    "\n",
    "#testscore = (test_accuracy, test_accuracy, test_accuracy, test_accuracy)\n",
    "testscore = (DTtest_accuracy, RFtest_accuracy, NBtest_accuracy, ABtest_accuracy)\n",
    "\n",
    "\n",
    "rects2 = ax.bar(ind + width, testscore, width, color='y')\n",
    "\n",
    "# add some text for labels, title and axes ticks\n",
    "ax.set_title('Classifer Performance')\n",
    "ax.set_xticks(ind + width)\n",
    "ax.set_xticklabels(('DT', 'RF', 'NB', 'AD'))\n",
    "ax.set_ylim([0, 1.2])\n",
    "ax.legend((rects1[0], rects2[0]), ('Train Score', 'Test Score'))\n",
    "\n",
    "plt.show()"
   ]
  },
  {
   "cell_type": "markdown",
   "metadata": {},
   "source": [
    "### Visualizing Classifiers Using Decision Surfaces"
   ]
  },
  {
   "cell_type": "code",
   "execution_count": 9,
   "metadata": {
    "collapsed": false
   },
   "outputs": [
    {
     "name": "stdout",
     "output_type": "stream",
     "text": [
      "CPU times: user 5min 19s, sys: 3.53 s, total: 5min 23s\n",
      "Wall time: 5min 24s\n"
     ]
    }
   ],
   "source": [
    "from sklearn.tree import DecisionTreeClassifier\n",
    "import sklearn.linear_model\n",
    "import sklearn.svm\n",
    "\n",
    "def plot_decision_surface(clf, X_train, Y_train):\n",
    "    plot_step=0.1\n",
    "    \n",
    "    if X_train.shape[1] != 2:\n",
    "        raise ValueError(\"X_train should have exactly 2 columnns!\")\n",
    "    \n",
    "    x_min, x_max = X_train[:, 0].min() - plot_step, X_train[:, 0].max() + plot_step\n",
    "    y_min, y_max = X_train[:, 1].min() - plot_step, X_train[:, 1].max() + plot_step\n",
    "    xx, yy = np.meshgrid(np.arange(x_min, x_max, plot_step),\n",
    "                         np.arange(y_min, y_max, plot_step))\n",
    "\n",
    "    clf.fit(X_train,Y_train)\n",
    "    if hasattr(clf, 'predict_proba'):\n",
    "        Z = clf.predict_proba(np.c_[xx.ravel(), yy.ravel()])[:,1]\n",
    "    else:\n",
    "        Z = clf.predict(np.c_[xx.ravel(), yy.ravel()])    \n",
    "    Z = Z.reshape(xx.shape)\n",
    "    cs = plt.contourf(xx, yy, Z, cmap=plt.cm.Reds)\n",
    "    plt.scatter(X_train[:,0],X_train[:,1],c=Y_train,cmap=plt.cm.Paired)\n",
    "    plt.show()\n",
    "    \n",
    "# your code here\n",
    "imp_cols = clfForest.feature_importances_.argsort()[::-1][0:2]\n",
    "\n"
   ]
  },
  {
   "cell_type": "code",
   "execution_count": null,
   "metadata": {
    "collapsed": false
   },
   "outputs": [],
   "source": [
    "X_imp = df[imp_cols].values\n",
    "Y = traindf.target.values\n",
    "\n",
    "    make_roc(\"Naive Bayes\",clfNaiveBayes, ytest, Xtest, ax, labe=200, proba=False, skip=50);\n",
    "    make_roc(\"Decision Tree\",clfRandomForest, ytest, Xtest, ax, labe=200, proba=False, skip=50);\n",
    "    make_roc(\"AdaBoost\",clfAdaBoost, ytest, Xtest, ax, labe=200, proba=False, skip=50);\n",
    "    \n",
    "classifiers = [clfDecisionTree,\n",
    "               clfNaiveBayes,\n",
    "               clfRandomForest,\n",
    "               clfAdaBoost,\n",
    "               sklearn.svm.SVC(C=100.0, gamma=1.0)]\n",
    "\n",
    "titleClassifer = ['Decision Tree Classifier',\"Naive Bayes\", 'Random Forest Classifier', \n",
    "                  'AdaBoost Classifier']\n",
    "for c in xrange(5):\n",
    "    plt.title(titleClassifer[c])\n",
    "    plt.xlabel(name_list[0])\n",
    "    plt.ylabel(name_list[1])\n",
    "    plot_decision_surface(classifiers[c], X_imp, df.target.values)"
   ]
  },
  {
   "cell_type": "markdown",
   "metadata": {},
   "source": [
    "### Decision Tree Graph"
   ]
  },
  {
   "cell_type": "code",
   "execution_count": 79,
   "metadata": {
    "collapsed": true
   },
   "outputs": [],
   "source": [
    "#from sklearn.externals.six import StringIO  \n",
    "#import pydot \n",
    "#dot_data = StringIO() \n",
    "#tree.export_graphviz(clf, out_file=dot_data) \n",
    "#graph = pydot.graph_from_dot_data(dot_data.getvalue()) \n",
    "#graph.write_pdf(\"Decision Tree Graph.pdf\") "
   ]
  },
  {
   "cell_type": "code",
   "execution_count": 80,
   "metadata": {
    "collapsed": true
   },
   "outputs": [],
   "source": [
    "#from IPython.display import Image  \n",
    "#dot_data = StringIO()  \n",
    "#tree.export_graphviz(clf, out_file=dot_data,  \n",
    "#                         feature_names=iris.feature_names,  \n",
    "#                         class_names=iris.target_names,  \n",
    "#                         filled=True, rounded=True,  \n",
    "#                         special_characters=True)  \n",
    "#graph = pydot.graph_from_dot_data(dot_data.getvalue())  \n",
    "#Image(graph.create_png())  "
   ]
  },
  {
   "cell_type": "markdown",
   "metadata": {},
   "source": [
    "# Model Optimization: Feature Selection and Data Balancing"
   ]
  },
  {
   "cell_type": "markdown",
   "metadata": {},
   "source": [
    "### Relative Importance"
   ]
  },
  {
   "cell_type": "code",
   "execution_count": null,
   "metadata": {
    "collapsed": true
   },
   "outputs": [],
   "source": [
    "importance_list = clfForest.feature_importances_\n",
    "name_list = train_df.columns\n",
    "importance_list, name_list = zip(*sorted(zip(importance_list, name_list)))\n",
    "plt.barh(range(len(name_list)),importance_list,align='center')\n",
    "plt.yticks(range(len(name_list)),name_list)\n",
    "plt.xlabel('Relative Importance in the Random Forest')\n",
    "plt.ylabel('Features')\n",
    "plt.title('Relative importance of Each Feature')\n",
    "plt.show()"
   ]
  },
  {
   "cell_type": "markdown",
   "metadata": {},
   "source": [
    "### Determing the Most Common Ingredients"
   ]
  },
  {
   "cell_type": "code",
   "execution_count": null,
   "metadata": {
    "collapsed": false
   },
   "outputs": [],
   "source": [
    "%%time\n",
    "\n",
    "ingredientdf = full_df\n",
    "\n",
    "ingredients = set()\n",
    "for g in ingredientdf.ingredients:\n",
    "    ingredients.update(g)\n",
    "ingredients = sorted(ingredients)\n",
    "\n",
    "#make a column for each ingredient\n",
    "for ingredient in ingredients:\n",
    "    ingredientdf[ingredient] = [ingredient in specificingredient for specificingredient in ingredientdf.ingredients]         \n"
   ]
  },
  {
   "cell_type": "code",
   "execution_count": 68,
   "metadata": {
    "collapsed": false
   },
   "outputs": [
    {
     "name": "stdout",
     "output_type": "stream",
     "text": [
      "CPU times: user 6min 47s, sys: 20.5 s, total: 7min 7s\n",
      "Wall time: 7min 9s\n"
     ]
    }
   ],
   "source": [
    "%%time\n",
    "ingredientfrac = ingredientdf.mean(axis=0)*100\n",
    "ingredientfrac = ingredientfrac[2:]\n",
    "ingredientfrac.sort(ascending=False)\n",
    "ingredientfrac[:30]"
   ]
  },
  {
   "cell_type": "markdown",
   "metadata": {},
   "source": [
    "### The Top 30 Ingredients"
   ]
  },
  {
   "cell_type": "code",
   "execution_count": 69,
   "metadata": {
    "collapsed": false
   },
   "outputs": [
    {
     "data": {
      "image/png": "[encoded data removed]",
      "text/plain": [
       "<matplotlib.figure.Figure at 0x10896ad90>"
      ]
     },
     "metadata": {},
     "output_type": "display_data"
    }
   ],
   "source": [
    "g2 = ingredientfrac.reset_index()\n",
    "g2['Ingredients']=g2['index'].apply(lambda x: x.split('/')[-1].replace('_', ' ').replace('%26','&'))\n",
    "del g2['index']\n",
    "g2=g2.rename(columns={0:'% of Ingredients'})\n",
    "g2.set_index('Ingredients')[:30].plot(kind=\"barh\");"
   ]
  },
  {
   "cell_type": "markdown",
   "metadata": {},
   "source": [
    "# Visualizing the Results"
   ]
  },
  {
   "cell_type": "markdown",
   "metadata": {},
   "source": [
    "### Cuisine Distribution in Test Data"
   ]
  },
  {
   "cell_type": "code",
   "execution_count": 71,
   "metadata": {
    "collapsed": false
   },
   "outputs": [
    {
     "data": {
      "image/png": "[encoded data removed]",
      "text/plain": [
       "<matplotlib.figure.Figure at 0x1203fc350>"
      ]
     },
     "metadata": {},
     "output_type": "display_data"
    }
   ],
   "source": [
    "from collections import Counter\n",
    "\n",
    "countdict = Counter(test_df.cuisine)\n",
    "cuisines = countdict.keys()\n",
    "cuisinescount = countdict.values()\n",
    "y_pos = np.arange(len(cuisines))\n",
    "plt.barh(y_pos, cuisinescount, align='center', alpha=1)\n",
    "plt.yticks(y_pos, cuisines)\n",
    "plt.xlabel('Count')\n",
    "plt.title('Cuisine Distribution')\n",
    "plt.show()\n"
   ]
  },
  {
   "cell_type": "markdown",
   "metadata": {},
   "source": [
    "### Ingredients Distribution in Test Data"
   ]
  },
  {
   "cell_type": "code",
   "execution_count": 74,
   "metadata": {
    "collapsed": false
   },
   "outputs": [
    {
     "data": {
      "image/png": "[encoded data removed]",
      "text/plain": [
       "<matplotlib.figure.Figure at 0x11ffe6850>"
      ]
     },
     "metadata": {},
     "output_type": "display_data"
    }
   ],
   "source": [
    "\n",
    "ingredientdf = test_df\n",
    "\n",
    "ingredients = set()\n",
    "for g in ingredientdf.ingredients:\n",
    "    ingredients.update(g)\n",
    "ingredients = sorted(ingredients)\n",
    "\n",
    "#make a column for each ingredient\n",
    "for ingredient in ingredients:\n",
    "    ingredientdf[ingredient] = [ingredient in specificingredient for specificingredient in ingredientdf.ingredients]         \n",
    "\n",
    "#ingredientdf.head()\n",
    "\n",
    "ingredientfrac = test_df.mean(axis=0)*100\n",
    "ingredientfrac = ingredientfrac[2:]\n",
    "ingredientfrac.sort(ascending=False)\n",
    "ingredientfrac[:30]\n",
    "\n",
    "g2 = ingredientfrac.reset_index()\n",
    "g2['Ingredients']=g2['index'].apply(lambda x: x.split('/')[-1].replace('_', ' ').replace('%26','&'))\n",
    "del g2['index']\n",
    "g2=g2.rename(columns={0:'% of Ingredients'})\n",
    "g2.set_index('Ingredients')[:30].plot(kind=\"barh\");\n"
   ]
  },
  {
   "cell_type": "code",
   "execution_count": null,
   "metadata": {
    "collapsed": true
   },
   "outputs": [],
   "source": []
  },
  {
   "cell_type": "markdown",
   "metadata": {},
   "source": [
    "# Plan B: Yummly Integration (Version 0.5.0)"
   ]
  },
  {
   "cell_type": "code",
   "execution_count": 90,
   "metadata": {
    "collapsed": false
   },
   "outputs": [
    {
     "name": "stdout",
     "output_type": "stream",
     "text": [
      "Recipe({'totalTime': u'12 min', 'rating': 3, 'attribution': Attribution({'url': u'http://www.yummly.com/recipe/Green-Eggs-and-Ham-Cups-1035325', 'text': u'Green Eggs and Ham Cups recipes: information powered by Yummly', 'html': u\"<a href='http://www.yummly.com/recipe/Green-Eggs-and-Ham-Cups-1035325'>Green Eggs and Ham Cups recipe</a> information powered by <img alt='Yummly' src='http://static.yummly.com/api-logo.png'/>\", 'logo': u'http://static.yummly.com/api-logo.png'}), 'totalTimeInSeconds': 720, 'ingredientLines': [u'4 large eggs', u\"4 slices of precooked bacon (like the kind you can get at Costco and just need to reheat. You can also use completely raw bacon, but you will have to precook it until it's pink and almost done before adding your raw egg in)\", u'about 3 tsp of pesto per egg'], 'numberOfServings': 4, 'flavors': Flavors({'piquant': None, 'sour': None, 'salty': None, 'sweet': None, 'bitter': None, 'meaty': None}), 'source': RecipeSource({'sourceSiteUrl': u'http://kirbiecravings.com', 'sourceDisplayName': u\"Kirbie's Cravings\", 'sourceRecipeUrl': u'http://kirbiecravings.com/2014/07/green-eggs-and-ham-cups.html'}), 'yields': None, 'images': [RecipeImages({'hostedLargeUrl': u'http://lh6.ggpht.com/rjv8hBBESyPYyiMQtgz8m6bVCnEgdnccKOF-aDC6Xjk5MhEQNgolkAOFT2cACZO-Om1YHv2yKzPcPyh1NdLX=s360', 'hostedSmallUrl': u'http://lh6.ggpht.com/rjv8hBBESyPYyiMQtgz8m6bVCnEgdnccKOF-aDC6Xjk5MhEQNgolkAOFT2cACZO-Om1YHv2yKzPcPyh1NdLX=s90'})], 'attributes': {u'course': [u'Breakfast and Brunch']}, 'nutritionEstimates': [], 'id': u'Green-Eggs-and-Ham-Cups-1035325', 'name': u'Green Eggs and Ham Cups'})\n"
     ]
    }
   ],
   "source": [
    "from yummly import Client\n",
    "\n",
    "# default option values\n",
    "TIMEOUT = 5.0\n",
    "RETRIES = 0\n",
    "YOUR_API_ID = \"c077aa3e\"\n",
    "YOUR_API_KEY = \"0390dca06586895a80f9d7f549030bda\"\n",
    "client = Client(api_id=YOUR_API_ID, api_key=YOUR_API_KEY, timeout=TIMEOUT, retries=RETRIES)\n",
    "\n",
    "search = client.search('green eggs and ham')\n",
    "match = search.matches[0]\n",
    "\n",
    "recipe = client.recipe(match.id)\n",
    "print recipe"
   ]
  },
  {
   "cell_type": "markdown",
   "metadata": {},
   "source": [
    "#### Search for recipes meeting certain criteria and limit your results to a maximum"
   ]
  },
  {
   "cell_type": "code",
   "execution_count": 94,
   "metadata": {
    "collapsed": false
   },
   "outputs": [
    {
     "name": "stdout",
     "output_type": "stream",
     "text": [
      "('Total Matches:', 59542)\n",
      "('Recipe ID:', u'Bacon-Bombs-1380396')\n",
      "('Recipe:', u'Bacon Bombs')\n",
      "('Rating:', 4)\n",
      "----------------------------------------------------\n",
      "('Recipe ID:', u'Cheesy-Slow-Cooker-Bacon-Ranch-Potatoes-1390921')\n",
      "('Recipe:', u'Cheesy Slow Cooker Bacon Ranch Potatoes')\n",
      "('Rating:', 4)\n",
      "----------------------------------------------------\n",
      "('Recipe ID:', u'Bacon-Brittle-1372153')\n",
      "('Recipe:', u'Bacon Brittle')\n",
      "('Rating:', 3)\n",
      "----------------------------------------------------\n",
      "('Recipe ID:', u'Turkey-Bacon-Crescents-1390761')\n",
      "('Recipe:', u'Turkey Bacon Crescents')\n",
      "('Rating:', 4)\n",
      "----------------------------------------------------\n",
      "('Recipe ID:', u'Bacon-Bombs-1381866')\n",
      "('Recipe:', u'Bacon Bombs')\n",
      "('Rating:', 4)\n",
      "----------------------------------------------------\n",
      "('Recipe ID:', u'Bacon-Cheddar-Hasselback-Potatoes-1390499')\n",
      "('Recipe:', u'Bacon Cheddar Hasselback Potatoes')\n",
      "('Rating:', 4)\n",
      "----------------------------------------------------\n",
      "('Recipe ID:', u'Bacon-Crack-791741')\n",
      "('Recipe:', u'Bacon Crack')\n",
      "('Rating:', 4)\n",
      "----------------------------------------------------\n",
      "('Recipe ID:', u'Polenta-Gnocchi-with-Bacon-1371061')\n",
      "('Recipe:', u'Polenta Gnocchi with Bacon')\n",
      "('Rating:', 4)\n",
      "----------------------------------------------------\n",
      "('Recipe ID:', u'_Bang-Bang-Bacon-Balls_-1348482')\n",
      "('Recipe:', u'~Bang Bang Bacon Balls!')\n",
      "('Rating:', 4)\n",
      "----------------------------------------------------\n",
      "('Recipe ID:', u'Bacon-Corn-and-Sweet-Peas-Frittata-1389454')\n",
      "('Recipe:', u'Bacon Corn and Sweet Peas Frittata')\n",
      "('Rating:', 4)\n",
      "----------------------------------------------------\n",
      "('Recipe ID:', u'Chicken-Bacon-Avocado-Quesadillas-1385596')\n",
      "('Recipe:', u'Chicken Bacon Avocado Quesadillas')\n",
      "('Rating:', 4)\n",
      "----------------------------------------------------\n",
      "('Recipe ID:', u'Cheesy-Bacon-Hasselback-Potatoes-1390395')\n",
      "('Recipe:', u'Cheesy Bacon Hasselback Potatoes')\n",
      "('Rating:', 3)\n",
      "----------------------------------------------------\n",
      "('Recipe ID:', u'Bacon-_-Smoky-Paprika-Cauliflower-1351011')\n",
      "('Recipe:', u'Bacon & Smoky Paprika Cauliflower')\n",
      "('Rating:', 4)\n",
      "----------------------------------------------------\n",
      "('Recipe ID:', u'Bacon-Cream-Cheese-Bites-1390378')\n",
      "('Recipe:', u'Bacon Cream Cheese Bites')\n",
      "('Rating:', 4)\n",
      "----------------------------------------------------\n",
      "('Recipe ID:', u'Bacon-Gravy-1289205')\n",
      "('Recipe:', u'Bacon Gravy')\n",
      "('Rating:', 4)\n",
      "----------------------------------------------------\n",
      "('Recipe ID:', u'Bacon-Maple-Pork-Tenderloin-1385163')\n",
      "('Recipe:', u'Bacon Maple Pork Tenderloin')\n",
      "('Rating:', 3)\n",
      "----------------------------------------------------\n",
      "('Recipe ID:', u'Bacon-Explosion-1103228')\n",
      "('Recipe:', u'Bacon Explosion')\n",
      "('Rating:', 4)\n",
      "----------------------------------------------------\n",
      "('Recipe ID:', u'Candied-Bacon-1290419')\n",
      "('Recipe:', u'Candied Bacon')\n",
      "('Rating:', 4)\n",
      "----------------------------------------------------\n",
      "('Recipe ID:', u'Brussel-Sprouts-with-Bacon-1351737')\n",
      "('Recipe:', u'Brussel Sprouts with Bacon')\n",
      "('Rating:', 4)\n",
      "----------------------------------------------------\n",
      "('Recipe ID:', u'Bacon-Weave-BLT-1039432')\n",
      "('Recipe:', u'Bacon Weave BLT')\n",
      "('Rating:', 4)\n",
      "----------------------------------------------------\n",
      "('Recipe ID:', u'Bacon-Waffles-1072622')\n",
      "('Recipe:', u'Bacon Waffles')\n",
      "('Rating:', 4)\n",
      "----------------------------------------------------\n",
      "('Recipe ID:', u'SHRIMP-WRAPPED-IN-BACON-WITH-JALAPENO-1389346')\n",
      "('Recipe:', u'SHRIMP WRAPPED IN BACON WITH JALAPENO')\n",
      "('Rating:', 4)\n",
      "----------------------------------------------------\n",
      "('Recipe ID:', u'Brussel-Sprouts-with-Bacon_-_-Garlic-1376136')\n",
      "('Recipe:', u'Brussel Sprouts with Bacon, & Garlic')\n",
      "('Rating:', 4)\n",
      "----------------------------------------------------\n",
      "('Recipe ID:', u'Brussels-Sprouts-with-Bacon-1385204')\n",
      "('Recipe:', u'Brussels Sprouts with Bacon')\n",
      "('Rating:', 3)\n",
      "----------------------------------------------------\n",
      "('Recipe ID:', u'Cheesy-Pasta-with-Bacon-and-Kale-1370389')\n",
      "('Recipe:', u'Cheesy Pasta with Bacon and Kale')\n",
      "('Rating:', 4)\n",
      "----------------------------------------------------\n",
      "('Recipe ID:', u'Bacon-Cheeseburger-Crescents-1363342')\n",
      "('Recipe:', u'Bacon Cheeseburger Crescents')\n",
      "('Rating:', 4)\n",
      "----------------------------------------------------\n",
      "('Recipe ID:', u'Bacon-Butty-440544')\n",
      "('Recipe:', u'Bacon Butty')\n",
      "('Rating:', 5)\n",
      "----------------------------------------------------\n",
      "('Recipe ID:', u'Bacon-Crackers-579455')\n",
      "('Recipe:', u'Bacon Crackers')\n",
      "('Rating:', 4)\n",
      "----------------------------------------------------\n",
      "('Recipe ID:', u'Bacon-_-Pepper-Jack-Stuffed-Crescent-Rolls-1387321')\n",
      "('Recipe:', u'Bacon & Pepper-Jack Stuffed Crescent Rolls')\n",
      "('Rating:', 4)\n",
      "----------------------------------------------------\n",
      "('Recipe ID:', u'Wilted-Greens-with-Bacon-1391157')\n",
      "('Recipe:', u'Wilted Greens with Bacon')\n",
      "('Rating:', 4)\n",
      "----------------------------------------------------\n",
      "('Recipe ID:', u'Caramelized-Onion_-Gruyere_-and-Bacon-Spread-1371153')\n",
      "('Recipe:', u'Caramelized Onion, Gruyere, and Bacon Spread')\n",
      "('Rating:', 4)\n",
      "----------------------------------------------------\n",
      "('Recipe ID:', u'Bacon-Crack-1314849')\n",
      "('Recipe:', u'Bacon Crack')\n",
      "('Rating:', 4)\n",
      "----------------------------------------------------\n",
      "('Recipe ID:', u'Cheddar-_-Bacon-Loaf-898909')\n",
      "('Recipe:', u'Cheddar & Bacon Loaf')\n",
      "('Rating:', 3)\n",
      "----------------------------------------------------\n",
      "('Recipe ID:', u'Bacon-Pecan-Cabbage-1386933')\n",
      "('Recipe:', u'Bacon Pecan Cabbage')\n",
      "('Rating:', 4)\n",
      "----------------------------------------------------\n",
      "('Recipe ID:', u'Bacon-Cheddar-Pinwheels-1381129')\n",
      "('Recipe:', u'Bacon Cheddar Pinwheels')\n",
      "('Rating:', 4)\n",
      "----------------------------------------------------\n",
      "('Recipe ID:', u'Creamy-Bacon-Mushroom-Fettuccine-1389033')\n",
      "('Recipe:', u'Creamy Bacon Mushroom Fettuccine')\n",
      "('Rating:', 4)\n",
      "----------------------------------------------------\n",
      "('Recipe ID:', u'Maple-Bacon-Fat-Soft-Pretzels-1379808')\n",
      "('Recipe:', u'Maple Bacon Fat Soft Pretzels')\n",
      "('Rating:', 4)\n",
      "----------------------------------------------------\n",
      "('Recipe ID:', u'Cheesy-Bacon-Corn-Dip-1388855')\n",
      "('Recipe:', u'Cheesy Bacon Corn Dip')\n",
      "('Rating:', 4)\n",
      "----------------------------------------------------\n",
      "('Recipe ID:', u'Bacon-Wrapped-Potatoes-with-Cheese-1368672')\n",
      "('Recipe:', u'Bacon Wrapped Potatoes with Cheese')\n",
      "('Rating:', 4)\n",
      "----------------------------------------------------\n",
      "('Recipe ID:', u'Creamy-Bacon-Carbonara-1389564')\n",
      "('Recipe:', u'Creamy Bacon Carbonara')\n",
      "('Rating:', 3)\n",
      "----------------------------------------------------\n"
     ]
    }
   ],
   "source": [
    "from yummly import Client\n",
    "\n",
    "results = client.search('bacon', maxResults=1)\n",
    "\n",
    "print('Total Matches:', results.totalMatchCount)\n",
    "for match in results.matches:\n",
    "    print('Recipe ID:', match.id)\n",
    "    print('Recipe:', match.recipeName)\n",
    "    print('Rating:', match.rating)\n",
    "    print('Ingredients:')\n",
    "    for ingred in match.ingredientLines:\n",
    "        print(ingred)\n",
    "    print('----------------------------------------------------')"
   ]
  },
  {
   "cell_type": "markdown",
   "metadata": {},
   "source": [
    "#### Provide search parameters:"
   ]
  },
  {
   "cell_type": "code",
   "execution_count": null,
   "metadata": {
    "collapsed": true
   },
   "outputs": [],
   "source": [
    "params = {\n",
    "    'q': 'pork chops',\n",
    "    'start': 0,\n",
    "    'maxResult': 40,\n",
    "    'requirePicutres': False,\n",
    "    'allowedIngredient[]': ['salt', 'pepper'],\n",
    "    'excludedIngredient[]': ['cumin', 'paprika'],\n",
    "    'maxTotalTimeInSeconds': 3600,\n",
    "    'facetField[]': ['ingredient', 'diet'],\n",
    "    'flavor.meaty.min': 0.5,\n",
    "    'flavor.meaty.max': 1,\n",
    "    'flavor.sweet.min': 0,\n",
    "    'flavor.sweet.max': 0.5,\n",
    "    'nutrition.FAT.min': 0,\n",
    "    'nutrition.FAT.max': 15\n",
    "}\n",
    "\n",
    "results = client.search(**params, maxResults=1)"
   ]
  }
 ],
 "metadata": {
  "kernelspec": {
   "display_name": "Python 2",
   "language": "python",
   "name": "python2"
  },
  "language_info": {
   "codemirror_mode": {
    "name": "ipython",
    "version": 2
   },
   "file_extension": ".py",
   "mimetype": "text/x-python",
   "name": "python",
   "nbconvert_exporter": "python",
   "pygments_lexer": "ipython2",
   "version": "2.7.10"
  }
 },
 "nbformat": 4,
 "nbformat_minor": 0
}
